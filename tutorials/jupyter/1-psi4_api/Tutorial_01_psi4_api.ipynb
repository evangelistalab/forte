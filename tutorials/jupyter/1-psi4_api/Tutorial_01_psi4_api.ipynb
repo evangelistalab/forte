{
 "cells": [
  {
   "cell_type": "markdown",
   "metadata": {},
   "source": [
    "# Forte Tutorial 1: Running psi4 jobs in Jupyter notebooks \n",
    "\n",
    "---\n",
    "\n",
    "In this tutorial we are going to explore how to run psi4 in Jupyter notebooks via psi4's Python API.\n",
    "\n",
    "## Import psi4\n",
    "The first step necessary to run psi4 in Jupyter is to import psi4"
   ]
  },
  {
   "cell_type": "code",
   "execution_count": null,
   "metadata": {},
   "outputs": [],
   "source": [
    "import psi4"
   ]
  },
  {
   "cell_type": "markdown",
   "metadata": {},
   "source": [
    "## Specify the molecular geometry\n",
    "Next, we specify the molecular geometry. We will consider an hydrogen molecule with a bond distance of 1 Å and specify the geometry using the zmat format. We also specify the charge (0) and multiplicity (1 = singlet) at the very top of the geometry input."
   ]
  },
  {
   "cell_type": "code",
   "execution_count": null,
   "metadata": {},
   "outputs": [],
   "source": [
    "charge = 0\n",
    "multp = 1\n",
    "rHH = 1.0 # Ångstrom\n",
    "geom = f'{charge} {multp}\\nH\\nH 1 {rHH:.6f}' # we use formatted strings\n",
    "print(geom)"
   ]
  },
  {
   "cell_type": "markdown",
   "metadata": {},
   "source": [
    "## Creating the molecule object and accessing its properties\n",
    "We can now pass the geometry to psi4 and build a `Molecule` object. (see `psi4/src/libmints/molecule.h`)"
   ]
  },
  {
   "cell_type": "code",
   "execution_count": null,
   "metadata": {},
   "outputs": [],
   "source": [
    "mol = psi4.geometry(geom)"
   ]
  },
  {
   "cell_type": "markdown",
   "metadata": {},
   "source": [
    "The molecule object can queried for information"
   ]
  },
  {
   "cell_type": "code",
   "execution_count": null,
   "metadata": {},
   "outputs": [],
   "source": [
    "print(f\"Number of atoms = {mol.natom()}\")\n",
    "print(f\"Nuclear repulsion energy = {mol.nuclear_repulsion_energy()}\")"
   ]
  },
  {
   "cell_type": "markdown",
   "metadata": {},
   "source": [
    "and we can even list information about all functions"
   ]
  },
  {
   "cell_type": "code",
   "execution_count": null,
   "metadata": {},
   "outputs": [],
   "source": [
    "help(mol)"
   ]
  },
  {
   "cell_type": "markdown",
   "metadata": {},
   "source": [
    "## Generate Hartree-Fock orbitals using psi4\n",
    "Using the molecule object we can now compute the MOs using psi4. We first set the options:\n",
    "1. basis: the basis set (string)\n",
    "2. scf_type: the type of SCF computation (string). 'pk' stands for the SCF algorithm with conventional integrals "
   ]
  },
  {
   "cell_type": "code",
   "execution_count": null,
   "metadata": {},
   "outputs": [],
   "source": [
    "# set basis/options\n",
    "basis = 'cc-pVDZ'\n",
    "reference = 'rhf'\n",
    "\n",
    "psi4.core.clean()\n",
    "\n",
    "psi4.set_options({'basis': basis,'scf_type': 'pk', 'reference' : reference})\n",
    "\n",
    "# pipe output to the file output.dat\n",
    "psi4.core.set_output_file('output.dat', False)\n",
    "\n",
    "# run scf and return the energy and a wavefunction object (will work only if pass return_wfn=True)\n",
    "E_scf, wfn = psi4.energy('scf', return_wfn=True)"
   ]
  },
  {
   "cell_type": "code",
   "execution_count": null,
   "metadata": {},
   "outputs": [],
   "source": [
    "print(f'SCF Energy: {E_scf}')"
   ]
  },
  {
   "cell_type": "markdown",
   "metadata": {},
   "source": [
    "# Extracting useful information from psi4\n",
    "The wavefunction object returned by psi4 is full of useful information. For example, we can ask how many orbitals are there in total"
   ]
  },
  {
   "cell_type": "code",
   "execution_count": null,
   "metadata": {},
   "outputs": [],
   "source": [
    "print(f\"Number of orbitals = {wfn.nmo()}\")\n",
    "print(f\"Number of alpha electrons = {wfn.nalpha()}\")"
   ]
  },
  {
   "cell_type": "markdown",
   "metadata": {},
   "source": [
    "or we can get information about symmetry"
   ]
  },
  {
   "cell_type": "code",
   "execution_count": null,
   "metadata": {},
   "outputs": [],
   "source": [
    "print(f\"Number of irreducible representations (irreps) = {wfn.nirrep()}\")\n",
    "nirrep = wfn.nirrep()"
   ]
  },
  {
   "cell_type": "markdown",
   "metadata": {},
   "source": [
    "In this case, psi4 detects D2h symmetry, which has eight irreducible representations. We can also find out how many orbitals there are for each irrep."
   ]
  },
  {
   "cell_type": "code",
   "execution_count": null,
   "metadata": {},
   "outputs": [],
   "source": [
    "# number of occupied molecular orbitals per irrep (mopi). Stored as a Dimension object\n",
    "nmopi = wfn.nmopi()\n",
    "\n",
    "# here we convert the psi4 Dimension object to a python tuple\n",
    "print(f\"Number of orbitals in each irreducible representation = {nmopi.to_tuple()}\")"
   ]
  },
  {
   "cell_type": "markdown",
   "metadata": {},
   "source": [
    "## A digression on symmetry in psi4\n",
    "General symmetry information can be found in the molecule object (because this information is independent of the details of the computation like basis set, method, etc). The information is found in the `PointGroup` object contained in the `Molecule` class."
   ]
  },
  {
   "cell_type": "code",
   "execution_count": null,
   "metadata": {},
   "outputs": [],
   "source": [
    "point_group = mol.point_group()\n",
    "print(f'Point group = {point_group.symbol()}')\n",
    "point_group_symbol = point_group.symbol()"
   ]
  },
  {
   "cell_type": "markdown",
   "metadata": {},
   "source": [
    "With a bit of work, we can even extract the symbols associated to each irrep"
   ]
  },
  {
   "cell_type": "code",
   "execution_count": null,
   "metadata": {},
   "outputs": [],
   "source": [
    "char_table = point_group.char_table()\n",
    "for h in range(nirrep):\n",
    "    print(f'Irrep {h} = {char_table.gamma(h).symbol()}')\n",
    "\n",
    "# let's save the irrep labels\n",
    "irrep_labels = [char_table.gamma(h).symbol() for h in range(nirrep)]    "
   ]
  },
  {
   "cell_type": "markdown",
   "metadata": {},
   "source": [
    "The irreps are arranged according to Cotton ordering. The product of two irredicible representations can be compute using the bitwise exclusive-OR operator (`^`). For example, the product of the B1g (1) and B2g (2) irreps is the B3g irrep"
   ]
  },
  {
   "cell_type": "code",
   "execution_count": null,
   "metadata": {},
   "outputs": [],
   "source": [
    "irrep_labels[1 ^ 2]"
   ]
  },
  {
   "cell_type": "markdown",
   "metadata": {},
   "source": [
    "and compute the group product table"
   ]
  },
  {
   "cell_type": "code",
   "execution_count": null,
   "metadata": {},
   "outputs": [],
   "source": [
    "line = [f\"{irrep_labels[h]:3s}\" for h in range(nirrep)]\n",
    "print(f\"{point_group_symbol} group product table\")\n",
    "print(f\"      {'  '.join(line)}\\n\")\n",
    "for h1 in range(nirrep):\n",
    "    line = [f\"{irrep_labels[h1 ^ h2]:3s}\" for h2 in range(nirrep)]\n",
    "    print(f\"{irrep_labels[h1]:3s}   {'  '.join(line)}\")"
   ]
  },
  {
   "cell_type": "markdown",
   "metadata": {},
   "source": [
    "Later we will need to know how the electrons are distributed in the orbitals, that is, how many orbitals are occupied in each irrep. This information is found in wfn"
   ]
  },
  {
   "cell_type": "code",
   "execution_count": null,
   "metadata": {},
   "outputs": [],
   "source": [
    "print(f\"Number of alpha electrons = {wfn.nalpha()}\")\n",
    "print(f\"Number of beta electrons = {wfn.nbeta()}\")"
   ]
  },
  {
   "cell_type": "code",
   "execution_count": null,
   "metadata": {},
   "outputs": [],
   "source": [
    "print(f\"Number of alpha electrons in each irreducible representation = {wfn.nalphapi().to_tuple()}\")\n",
    "print(f\"Number of beta electrons in each irreducible representation = {wfn.nbetapi().to_tuple()}\")"
   ]
  },
  {
   "cell_type": "markdown",
   "metadata": {},
   "source": [
    "## Excercises\n",
    "\n",
    "- Copy this notebook and modify the input to run a computation on water triplet in a **linear symmetric** geometry. After running the SCF procedure use the orbital occupation numbers (stored in `wfn.nalphapi()`/`wfn.nbetapi()`) to compute the symmetry of the final state ($\\Gamma_\\mathrm{tot}$). You can evaluate this property by computing the product of all the irreps of the occupied orbitals as\n",
    "$$\n",
    "\\Gamma_\\mathrm{tot} = \\prod_i^\\mathrm{occ} \\Gamma_i,\n",
    "$$\n",
    "where $\\Gamma_i$ is the irrep of occupied orbital $\\phi_i$.\n",
    "- Repeate the computation above for the quartet state of water cation."
   ]
  },
  {
   "cell_type": "markdown",
   "metadata": {},
   "source": [
    "## Appendix. Psi4 Conventions for orbitals, electrons, and bases\n",
    "\n",
    "### Orbital Dimensions\n",
    "There are a number of different names used to refer to the basis set size. These may seem redundant, but they have subtly different meanings, as detailed below.\n",
    "\n",
    "A calculation can use either pure (5D, 7F, 9G, etc.) basis functions or Cartesian (6D, 10F, 15G, etc.), as dictated by the input file / basis set specification. Also, the basis can be represented in terms of atomic orbitals (AO) or symmetry-adapted orbitals (SO). Further complications come from the fact that a nearly linearly-dependent basis set will have functions removed from it to prevent redundancies. With all of these factors in mind, here are the conventions used internally:\n",
    "\n",
    "- `nao` The number of atomic orbitals in Cartesian representation.\n",
    "- `nso` The number of atomic orbitals but in the pure representation if the current basis uses pure functions, number of Cartesian AOs otherwise.\n",
    "- `nbf` The number of basis functions, which is the same as nso.\n",
    "- `nmo` The number of basis functions, after projecting out redundancies in the basis.\n",
    "\n",
    "When molecular symmetry is utilized, a small array of sizes per irrep is usually allocated on the stack, and is named by augmenting the name above with a `pi` (per-irrep), e.g. `nmopi`. Note that **the number of irreps is always the singular** `nirrep`, and that the index variable `h` is always used in a for-loop traverse of irreps.\n",
    "\n",
    "### Electronic Dimensions\n",
    "\n",
    "As with basis sets, a number of names are used to refer to refer to the quantity of electrons, virtuals, and active sub-quantities of a PSI4 calculation. All of these can be defined per irrep as above. Some common conventions are:\n",
    "\n",
    "- `nelec` The number of electrons, rarely used due to specialization of alphas and betas or soccs and doccs.\n",
    "- `nalpha` The number of alpha electrons.\n",
    "- `nbeta` The number of beta electrons\n",
    "- `docc` The number of doubly-occupied orbitals\n",
    "- `socc` The number of singly-occupied orbitals (Almost always alpha, we don't like open-shell singlets much).\n",
    "- `nvir` The number of virtual orbitals\n",
    "\n",
    "###  Common Bases\n",
    "\n",
    "Many different working bases (the internal linear algebraic basis, not the name of the Gaussian basis) are used within PSI4, each with a unique and important purpose. It is critical to keep them all distinct to prevent weird results from occurring.\n",
    "\n",
    "AO (Atomic Orbitals): Cartesian Gaussians (6D, 10F, etc.), `(L + 1)(L + 2)/2` functions per shell of angular momentum `L`. The ordering of Cartesian exponents for a given `L` is given by the standard ordering below (MATLAB code):\n",
    "\n",
    "```\n",
    "ncart = (L + 1) * (L + 2) / 2;\n",
    "exps = zeros(ncart,3);\n",
    "index = 1;\n",
    "for i = 0:L\n",
    "    for j = 0:i\n",
    "        lx = L - i;\n",
    "        ly = i - j;\n",
    "        lz = j;\n",
    "        exps(index,:) = [lx ly lz];\n",
    "      index = index + 1;\n",
    "    end\n",
    "end\n",
    "```\n",
    "\n",
    "- SO (Spherical Atomic Orbitals): Pure Gaussians (5D, 7F, etc.) or Cartesian Gaussians, as determined by the user. This is typically the first layer encountered, Libmints handles the transform from AO to SO automatically. If Cartesian functions are used, the number of functions per shell remains (L + 1)(L + 2)/2, and the ordering remains the same as above. Note that the individual functions are not normalized for angular momentum as in most codes: the self-overlap of a PSI4 Cartesian D or higher function with more than one nonzero Cartesian exponent (e.g., `lx = 1`, `ly = 1`, `lz = 0`) will be less than one. If Spherical Harmonics are used, `2L + 1` real combinations of the spherical harmonics are built from the `(L+1)(L+2)/2` Cartesian Gaussians, according to H. Schlegel and M. Frish, IJQC, 54, 83-87, 1995. Unlike Cartesian functions these functions are all strictly normalized. Note that in PSI4, the real combinations of spherical harmonic functions (see the paragraph below Eq. 15 in the Schlegel paper) are ordered as: 0, 1+, 1-, 2+, 2-, ....\n",
    "\n",
    "- USO (Unique Symmetry-Adapted Orbitals): Spatial symmetry-adapted combinations of SOs, blocked according to irrep. The total number of USOs is the same as the number of SOs, but the number of USOs within each irrep is usually much smaller, which can lead to significant performance improvements. Note that this basis is sometimes unfortunately referred to as the SO basis, so it's a bit context specific.\n",
    "\n",
    "- OSO (Orthogonal Symmetry-Adapted Orbitals): USOs orthogonalized by Symmetric or Canonical Orthogonalization. The number of OSOs may be slightly smaller than the total number of USOs, due to removal of linear dependencies via Canonical Orthogonalization. The OSOs are rarely encountered, as usually we go straight from USOs to MOs.\n",
    "\n",
    "- MO (Molecular Orbitals): The combination of OSOs that diagonalizes the Fock Matrix, so each basis function is a Hartree-Fock (or Kohn-Sham) molecular orbital. The number of OSOs and MOs is always the same. MOs are orthonormal.\n",
    "\n",
    "- LO (Localized Orbitals): Localized occupied orbitals, a different combination of the occupied molecular orbitals which enhances spatial locality. LOs do not diagonalize the occ-occ block of the Fock Matrix, but remain orthonormal to each other and the virtual space."
   ]
  },
  {
   "cell_type": "markdown",
   "metadata": {},
   "source": [
    "## Appendix. Useful links\n",
    "\n",
    "- Psithon (input language) http://www.psicode.org/psi4manual/master/tutorial.html\n",
    "- PsiAPI (interacting via python) http://www.psicode.org/psi4manual/master/psiapi.html"
   ]
  }
 ],
 "metadata": {
  "kernelspec": {
   "display_name": "Python 3",
   "language": "python",
   "name": "python3"
  },
  "language_info": {
   "codemirror_mode": {
    "name": "ipython",
    "version": 3
   },
   "file_extension": ".py",
   "mimetype": "text/x-python",
   "name": "python",
   "nbconvert_exporter": "python",
   "pygments_lexer": "ipython3",
   "version": "3.7.4"
  }
 },
 "nbformat": 4,
 "nbformat_minor": 2
}
