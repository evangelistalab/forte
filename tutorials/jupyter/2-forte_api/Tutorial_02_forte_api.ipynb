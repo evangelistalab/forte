{
 "cells": [
  {
   "cell_type": "markdown",
   "metadata": {},
   "source": [
    "# Forte Tutorial 2: Running forte in Jupyter notebooks \n",
    "\n",
    "---\n",
    "\n",
    "In this tutorial we are going to explore how to interact with forte in Jupyter notebooks using the Python API.\n",
    "\n",
    "## Import modules\n",
    "The first step necessary to interact with forte is to import psi4 and forte"
   ]
  },
  {
   "cell_type": "code",
   "execution_count": null,
   "metadata": {},
   "outputs": [],
   "source": [
    "import psi4\n",
    "import forte"
   ]
  },
  {
   "cell_type": "markdown",
   "metadata": {},
   "source": [
    "We need to generate SCF orbitals via psi4, so we will use some of the techniques used in Tutorial 1. However, we'll make a function"
   ]
  },
  {
   "cell_type": "code",
   "execution_count": null,
   "metadata": {},
   "outputs": [],
   "source": [
    "def run_psi4(geom, basis = 'sto-3g', reference = 'rhf'):\n",
    "    # build the molecule object\n",
    "    mol = psi4.geometry(geom)\n",
    "\n",
    "    # set basis/options\n",
    "    psi4.set_options({'basis': basis, 'reference' : reference, 'scf_type': 'pk'})\n",
    "\n",
    "    # pipe output to the file output.dat\n",
    "    psi4.core.set_output_file('output.dat', False)\n",
    "\n",
    "    # run scf and return the energy and a wavefunction object (will work only if pass return_wfn=True)\n",
    "    E_scf, wfn = psi4.energy('scf', return_wfn=True)\n",
    "\n",
    "    psi4.core.clean()\n",
    "    return (E_scf, wfn)"
   ]
  },
  {
   "cell_type": "markdown",
   "metadata": {},
   "source": [
    "and then get the energy and wavefunction using this function"
   ]
  },
  {
   "cell_type": "code",
   "execution_count": null,
   "metadata": {},
   "outputs": [],
   "source": [
    "# setup xyz geometry\n",
    "geom = \"\"\"\n",
    "O\n",
    "H 1 1.0\n",
    "H 1 1.0 2 180.0\n",
    "\"\"\"\n",
    "(E_scf, wfn) = run_psi4(geom)\n",
    "print(f'SCF Energy = {E_scf}')"
   ]
  },
  {
   "cell_type": "markdown",
   "metadata": {},
   "source": [
    "## Starting Forte\n",
    "To use Forte, we need to start it up first. This makes sure that libraries like ambit are properly initialized"
   ]
  },
  {
   "cell_type": "code",
   "execution_count": null,
   "metadata": {},
   "outputs": [],
   "source": [
    "forte.startup()"
   ]
  },
  {
   "cell_type": "markdown",
   "metadata": {},
   "source": [
    "## Reading options via psi4 (will change in the future)\n",
    "Now we can start to interact with Forte. The first thing we will do is to read forte-specific options. This interface is a bit clunky, and so it might be changed and improved sometime in the future"
   ]
  },
  {
   "cell_type": "code",
   "execution_count": null,
   "metadata": {},
   "outputs": [],
   "source": [
    "from forte import forte_options\n",
    "\n",
    "options = psi4.core.get_options() # options = psi4 option object\n",
    "options.set_current_module('FORTE') # read options labeled 'FORTE'\n",
    "forte_options.update_psi_options(options)"
   ]
  },
  {
   "cell_type": "markdown",
   "metadata": {},
   "source": [
    "## Setting the molecular orbital spaces\n",
    "A common first task when interacting with the Forte API is to compute 1- and 2-electron molecular integrals. The integral code needs to know if any orbitals will be dropped off from a computation. To do so we need to pass a tuple that specifies how many doubly occupied (docc) and unoccupied (uocc) orbitals to drop."
   ]
  },
  {
   "cell_type": "code",
   "execution_count": null,
   "metadata": {},
   "outputs": [],
   "source": [
    "# Setup forte and prepare the active space integral class\n",
    "mos_spaces = {'FROZEN_DOCC' :     [1,0,0,0,0,0,0,0], # freeze the O 1s orbital\n",
    "              'RESTRICTED_DOCC' : [1,0,0,0,0,1,0,0]}\n",
    "mo_space_info = forte.make_mo_space_info_from_map(wfn,mos_spaces,[])"
   ]
  },
  {
   "cell_type": "markdown",
   "metadata": {},
   "source": [
    "> **Task 1**: Take a look at the file `forte/src/base_classes/mo_space_info.h`. This class stores information about molecule orbital space. However, only one function is exposed. Create a github/forte pull request to expose functions that you need to find out the number of orbital in each space (including symmetry)."
   ]
  },
  {
   "cell_type": "code",
   "execution_count": null,
   "metadata": {},
   "outputs": [],
   "source": [
    "mo_space_info.size('ACTIVE')"
   ]
  },
  {
   "cell_type": "markdown",
   "metadata": {},
   "source": [
    "## Building a `ForteIntegral` object to read integrals from psi4\n",
    "\n",
    "In Forte there are two classes responsible for handling integrals:\n",
    "- `ForteIntegral`: reads the integrals from psi4 and stores them in varios formats (conventional, density fitting, Cholesky, ...).\n",
    "- `ActiveSpaceIntegrals`: stores a copy of all integrals and it is used by active space methods. This class only stores a subset of the integrals and includes an effective potential due to non-active doubly occupied orbitals.\n",
    "\n",
    "We will first build the `ForteIntegral` object via the function `make_forte_integrals`"
   ]
  },
  {
   "cell_type": "code",
   "execution_count": null,
   "metadata": {},
   "outputs": [],
   "source": [
    "ints = forte.make_forte_integrals(wfn, options, mo_space_info)\n",
    "print(f'Number of molecular orbitals: {ints.nmo()}')\n",
    "print(f'Number of correlated molecular orbitals: {ints.ncmo()}')"
   ]
  },
  {
   "cell_type": "markdown",
   "metadata": {},
   "source": [
    "> **Task 2**: Take a look at the file `forte/src/integrals/integrals.h`. This class allows the user to access the 1-/2-electron integrals via functions like `double oei_a(size_t p, size_t q)`. However, these functions are not exposed to the python side. Expose one of these functions and commit them to github/forte.\n"
   ]
  },
  {
   "cell_type": "markdown",
   "metadata": {},
   "source": [
    "## Creating an `ActiveSpaceIntegrals` object to access integral elements\n",
    "We can now create an  `ActiveSpaceIntegrals` object using the `ForteIntegral` object and a couple of extra bits of information stored in the `MOSpaceInfo` object. When we create this object we need to specify two orbital spaces:\n",
    "- the active orbitals\n",
    "- the non-active doubly orbitals\n",
    "`ActiveSpaceIntegrals` uses this information to create 1-/2-electron integrals for the active orbitals"
   ]
  },
  {
   "cell_type": "code",
   "execution_count": null,
   "metadata": {},
   "outputs": [],
   "source": [
    "# the space that defines the active orbitals. We select only the 'ACTIVE' part\n",
    "active_space = 'ACTIVE'\n",
    "# the space(s) with non-active doubly occupied orbitals\n",
    "core_spaces = ['RESTRICTED_DOCC']\n",
    "\n",
    "as_ints = forte.make_active_space_ints(mo_space_info, ints, active_space, core_spaces)"
   ]
  },
  {
   "cell_type": "markdown",
   "metadata": {},
   "source": [
    "## Getting the integrals from the `ActiveSpaceIntegrals` object\n",
    "The `ActiveSpaceIntegrals` object exposes several quantitites "
   ]
  },
  {
   "cell_type": "code",
   "execution_count": null,
   "metadata": {},
   "outputs": [],
   "source": [
    "print(f'Frozen-core energy = {as_ints.frozen_core_energy()}')\n",
    "print(f'Nuclear repulsion energy = {as_ints.nuclear_repulsion_energy()}')\n",
    "print(f'Scalar energy = {as_ints.scalar_energy()}')"
   ]
  },
  {
   "cell_type": "markdown",
   "metadata": {},
   "source": [
    "We can also access individual elements of the 1-/2-electron integrals. This class stores five types of integrals:\n",
    "\n",
    "- the alpha effective one-electron integrals, $\\langle\\phi_p|\\hat{h}|\\phi_q\\rangle$, via the `oei_a` function.\n",
    "- the beta effective one-electron integrals, $\\langle\\phi_\\bar{p}|\\hat{h}|\\phi_\\bar{q}\\rangle$, via the `oei_b` function.\n",
    "- the alpha-alpha antisymmetrized two-electron integrals, $\\langle\\phi_p \\phi_q\\|\\phi_r\\phi_s\\rangle$, via the `tei_aa` function.\n",
    "- the alpha-beta two-electron integrals, $\\langle\\phi_p \\phi_\\bar{q}\\|\\phi_r\\phi_\\bar{s}\\rangle = \\langle\\phi_p \\phi_\\bar{q}|\\phi_r\\phi_\\bar{s}\\rangle$, via the `tei_ab` function\n",
    "- the beta-beta two-electron integrals, $\\langle\\phi_\\bar{p}\\phi_\\bar{q}\\|\\phi_\\bar{r}\\phi_\\bar{s}\\rangle$, via the `tei_bb` function\n",
    "\n",
    "Here we denote beta spin orbitals with a bar above the orbital index."
   ]
  },
  {
   "cell_type": "code",
   "execution_count": null,
   "metadata": {},
   "outputs": [],
   "source": [
    "print(f'<0|h|0> = {as_ints.oei_a(0,0)}')\n",
    "print(f'<0a0a||0a0a> = {as_ints.tei_aa(0,0,0,0)}')\n",
    "print(f'<0a0b||0a0b> = {as_ints.tei_ab(0,0,0,0)}')"
   ]
  },
  {
   "cell_type": "markdown",
   "metadata": {},
   "source": [
    "We can also print all the integrals at once (see the `output.dat` file)"
   ]
  },
  {
   "cell_type": "code",
   "execution_count": null,
   "metadata": {},
   "outputs": [],
   "source": [
    "as_ints.print()"
   ]
  },
  {
   "cell_type": "markdown",
   "metadata": {},
   "source": [
    "## Closing Forte\n",
    "After running Forte, we should close it down"
   ]
  },
  {
   "cell_type": "code",
   "execution_count": null,
   "metadata": {},
   "outputs": [],
   "source": [
    "forte.cleanup()"
   ]
  }
 ],
 "metadata": {
  "kernelspec": {
   "display_name": "Python 3",
   "language": "python",
   "name": "python3"
  },
  "language_info": {
   "codemirror_mode": {
    "name": "ipython",
    "version": 3
   },
   "file_extension": ".py",
   "mimetype": "text/x-python",
   "name": "python",
   "nbconvert_exporter": "python",
   "pygments_lexer": "ipython3",
   "version": "3.7.4"
  }
 },
 "nbformat": 4,
 "nbformat_minor": 2
}
