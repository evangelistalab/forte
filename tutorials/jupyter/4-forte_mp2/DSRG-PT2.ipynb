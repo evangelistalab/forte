{
 "cells": [
  {
   "cell_type": "code",
   "execution_count": null,
   "metadata": {},
   "outputs": [],
   "source": [
    "import psi4\n",
    "import forte"
   ]
  },
  {
   "cell_type": "code",
   "execution_count": null,
   "metadata": {},
   "outputs": [],
   "source": [
    "def run_psi4_scf(geom, basis, reference='rhf'):\n",
    "    \"\"\"\n",
    "    Run a Psi4 SCF.\n",
    "    :param geom: a string for molecular geometry\n",
    "    :param basis: a string for basis set\n",
    "    :param reference: a string for the type of reference\n",
    "    :return: a tuple of (scf energy, psi4 Wavefunction)\n",
    "    \"\"\"\n",
    "    psi4.core.clean()\n",
    "    mol = psi4.geometry(geom)\n",
    "    \n",
    "    psi4.set_options({'basis': basis,\n",
    "                      'reference': reference,\n",
    "                      'scf_type': 'pk',\n",
    "                      'e_convergence': 1e-8,\n",
    "                      'd_convergence': 1e-6})\n",
    "    psi4.core.set_output_file('output.dat', False)\n",
    "    \n",
    "    Escf, wfn = psi4.energy('scf', return_wfn=True)\n",
    "    psi4.core.clean()\n",
    "    return Escf, wfn"
   ]
  },
  {
   "cell_type": "code",
   "execution_count": null,
   "metadata": {},
   "outputs": [],
   "source": [
    "# water molecule\n",
    "\n",
    "geom = \"\"\"0 1\n",
    "O\n",
    "H 1 1.2\n",
    "H 1 1.2 2 120.0\n",
    "\"\"\"\n",
    "\n",
    "basis = '6-31g'\n",
    "\n",
    "# pre-run DOCC: [3,0,1,1]"
   ]
  },
  {
   "cell_type": "code",
   "execution_count": null,
   "metadata": {},
   "outputs": [],
   "source": [
    "Escf, wfn = run_psi4_scf(geom, basis, 'rhf')\n",
    "print(f\"RHF energy: {Escf:.8f} Eh\")"
   ]
  },
  {
   "cell_type": "code",
   "execution_count": null,
   "metadata": {},
   "outputs": [],
   "source": [
    "# Run Psi4 MP2\n",
    "psi4.set_options({'mp2_type': 'conv',\n",
    "                  'freeze_core': False})\n",
    "Emp2_psi4 = psi4.energy('mp2')\n",
    "print(f\"All-electron MP2 energy from Psi4: {Emp2_psi4:.12f} Eh\")\n",
    "\n",
    "psi4.set_options({'mp2_type': 'conv',\n",
    "                  'freeze_core': True})\n",
    "Emp2_psi4 = psi4.energy('mp2')\n",
    "print(f\"Frozen-core MP2 energy from Psi4:  {Emp2_psi4:.12f} Eh\")"
   ]
  },
  {
   "cell_type": "markdown",
   "metadata": {},
   "source": [
    "# Forte pymodule analog\n",
    "\n",
    "Here I mimic what Forte pymodule.py does and prepare reference energy and RDMs for DSRG-PT2 or MP2.\n",
    "\n",
    "Note that if you modify the following block but encounter any problems in the `pre_dsrg` function, you might trigger `ambit::initialize: Ambit has already been initialized.` error when you rerun the block.\n",
    "I am not sure how to actually fix this error, but restart the jupyter kernal works."
   ]
  },
  {
   "cell_type": "code",
   "execution_count": null,
   "metadata": {},
   "outputs": [],
   "source": [
    "from forte import forte_options\n",
    "\n",
    "def pre_dsrg(ref_wfn, mo_spaces, rdm_level=3):\n",
    "    \"\"\"\n",
    "    Preparation step for DSRG: compute a CAS and its RDMs.\n",
    "    :param ref_wfn: reference wave function from psi4\n",
    "    :param mo_spaces: a dictionary {mo_space: occupation}, e.g., {'ACTIVE': [0,0,0,0]}\n",
    "    :param rdm_level: max RDM to be computed\n",
    "    :return: a tuple of (reference energy, MOSpaceInfo, ForteIntegrals, RDMs)\n",
    "    \"\"\"\n",
    "    \n",
    "    forte.startup()\n",
    "    \n",
    "    # pass Psi4 options to Forte\n",
    "    options = psi4.core.get_options()\n",
    "    options.set_current_module('FORTE')\n",
    "    forte_options.get_options_from_psi4(options)\n",
    "    \n",
    "    # create a MOSpaceInfo object\n",
    "    mo_space_info = forte.make_mo_space_info_from_map(wfn, mo_spaces, [])\n",
    "    \n",
    "    # make a ForteIntegral object\n",
    "    ints = forte.make_forte_integrals(ref_wfn, options, mo_space_info)\n",
    "\n",
    "    # create active space integrals for CASCI\n",
    "    as_ints = forte.make_active_space_ints(mo_space_info, ints, \"ACTIVE\", [\"RESTRICTED_DOCC\"]);\n",
    "    \n",
    "    # SCFInfo object: stores doccpi, orbital energies, etc.\n",
    "    scf_info = forte.SCFInfo(ref_wfn)\n",
    "    \n",
    "    # StateInfo: state irrep, multiplicity, nalpha electron, etc.\n",
    "    state = forte.make_state_info_from_psi_wfn(ref_wfn)\n",
    "    \n",
    "    # build a map {StateInfo: a list of weights} for multi-state computations\n",
    "    state_weights_map = forte.make_state_weights_map(forte_options, ref_wfn)\n",
    "    print(state_weights_map)\n",
    "    \n",
    "    # converts {StateInfo: weights} to {StateInfo: nroots}\n",
    "    state_map = forte.to_state_nroots_map(state_weights_map)\n",
    "    print(state_map)\n",
    "    \n",
    "    # create an active space solver object and compute the energy\n",
    "    as_solver_type = 'FCI'  # 'CAS', 'ACI', 'DMRG', 'V2RDM'\n",
    "    as_solver = forte.make_active_space_solver(as_solver_type, state_map, scf_info,\n",
    "                                               mo_space_info, as_ints, forte_options)\n",
    "    state_energies_list = as_solver.compute_energy()  # a map {StateInfo: a list of energies}\n",
    "    print(state_energies_list)\n",
    "    \n",
    "    # compute averaged energy --- reference energy for DSRG\n",
    "    Eref = forte.compute_average_state_energy(state_energies_list, state_weights_map)\n",
    "    \n",
    "    # compute RDMs\n",
    "    rdms = as_solver.compute_average_rdms(state_weights_map, rdm_level)\n",
    "    \n",
    "    # semicanonicalize orbitals\n",
    "    semi = forte.SemiCanonical(mo_space_info, ints, forte_options)\n",
    "    semi.semicanonicalize(rdms, rdm_level)\n",
    "        \n",
    "    return Eref, mo_space_info, ints, rdms"
   ]
  },
  {
   "cell_type": "code",
   "execution_count": null,
   "metadata": {},
   "outputs": [],
   "source": [
    "# occupations for H2O we will use for MP2 or DSRG-PT2\n",
    "mo_spaces = {'FROZEN_DOCC': [1,0,0,0],\n",
    "             'RESTRICTED_DOCC': [2,0,1,1],\n",
    "             'ACTIVE': [0,0,0,0]}\n",
    "\n",
    "Eref, mo_space_info, ints, rdms = pre_dsrg(wfn, mo_spaces)"
   ]
  },
  {
   "cell_type": "markdown",
   "metadata": {},
   "source": [
    "# MP2 energy expression\n",
    "\n",
    "Please follow the notes. We use spin-integrated expression here.\n",
    "\n",
    "\\begin{equation}\n",
    "E_\\text{MP2} = \\frac{1}{4} v_{i^\\alpha j^\\alpha}^{a^\\alpha b^\\alpha} t_{a^\\alpha b^\\alpha}^{i^\\alpha j^\\alpha}\n",
    "+ \\frac{1}{4} v_{i^\\beta j^\\beta}^{a^\\beta b^\\beta} t_{a^\\beta b^\\beta}^{i^\\beta j^\\beta}\n",
    "+ v_{i^\\alpha j^\\beta}^{a^\\alpha b^\\beta} t_{a^\\alpha b^\\beta}^{i^\\alpha j^\\beta}.\n",
    "\\end{equation}\n",
    "\n",
    "Since $v$ is Hermitian, we will put both $v$ and $t$ to shape $O \\times O \\times V \\times V$."
   ]
  },
  {
   "cell_type": "code",
   "execution_count": null,
   "metadata": {},
   "outputs": [],
   "source": [
    "import numpy as np"
   ]
  },
  {
   "cell_type": "markdown",
   "metadata": {},
   "source": [
    "### Build Fock matrix\n",
    "\n",
    "The general expression of spin-orbital Fock matrix is given by\n",
    "\\begin{equation}\n",
    "f^p_q = h^p_q + \\sum_{i} \\langle pi || qi \\rangle.\n",
    "\\end{equation}\n",
    "\n",
    "We only need to build the $OO$, $VV$, and $OV$ blocks of the Fock matrix."
   ]
  },
  {
   "cell_type": "code",
   "execution_count": null,
   "metadata": {},
   "outputs": [],
   "source": [
    "# figure out occupied and virtual MO indices\n",
    "core_mos = mo_space_info.corr_absolute_mo(\"RESTRICTED_DOCC\")\n",
    "ncore = len(core_mos)\n",
    "print(core_mos)\n",
    "\n",
    "virt_mos = mo_space_info.corr_absolute_mo(\"RESTRICTED_UOCC\")\n",
    "nvirt = len(virt_mos)\n",
    "print(virt_mos)"
   ]
  },
  {
   "cell_type": "code",
   "execution_count": null,
   "metadata": {},
   "outputs": [],
   "source": [
    "# build alpha Fock\n",
    "def build_fock_a(core_mos, virt_mos):\n",
    "    \"\"\"\n",
    "    Build alpha Fock matrix.\n",
    "    :param core_mos: a list of core MO indices\n",
    "    :param virt_mos: a list of virtual MO indices\n",
    "    :return: the alpha Fock matrix in format {'oo': mat0, 'ov': mat1, 'vv': mat2}\n",
    "    \"\"\"\n",
    "    ncore = len(core_mos)\n",
    "    nvirt = len(virt_mos)\n",
    "    \n",
    "    Fa = {'oo': ints.oei_a_block(core_mos, core_mos),\n",
    "          'vv': ints.oei_a_block(virt_mos, virt_mos),\n",
    "          'ov': ints.oei_a_block(core_mos, virt_mos)}\n",
    "    \n",
    "    # OO block\n",
    "    v = ints.tei_aa_block(core_mos, core_mos, core_mos, core_mos)\n",
    "    Fa['oo'] += np.einsum('piqi->pq', v)\n",
    "    \n",
    "    v = ints.tei_ab_block(core_mos, core_mos, core_mos, core_mos)\n",
    "    Fa['oo'] += np.einsum('piqi->pq', v)\n",
    "    \n",
    "    # VV block\n",
    "    v = ints.tei_aa_block(virt_mos, core_mos, virt_mos, core_mos)\n",
    "    Fa['vv'] += np.einsum('piqi->pq', v)\n",
    "    \n",
    "    v = ints.tei_ab_block(virt_mos, core_mos, virt_mos, core_mos)\n",
    "    Fa['vv'] += np.einsum('piqi->pq', v)\n",
    "    \n",
    "    # OV block\n",
    "    v = ints.tei_aa_block(core_mos, core_mos, virt_mos, core_mos)\n",
    "    Fa['ov'] += np.einsum('piqi->pq', v)\n",
    "    \n",
    "    v = ints.tei_ab_block(core_mos, core_mos, virt_mos, core_mos)\n",
    "    Fa['ov'] += np.einsum('piqi->pq', v)\n",
    "\n",
    "    return Fa\n",
    "\n",
    "Fa = build_fock_a(core_mos, virt_mos)\n",
    "Fa"
   ]
  },
  {
   "cell_type": "code",
   "execution_count": null,
   "metadata": {},
   "outputs": [],
   "source": [
    "# build beta Fock\n",
    "def build_fock_b(core_mos, virt_mos):\n",
    "    \"\"\"\n",
    "    Build beta Fock matrix.\n",
    "    :param core_mos: a list of core MO indices\n",
    "    :param virt_mos: a list of virtual MO indices\n",
    "    :return: the beta Fock matrix in format {'oo': mat0, 'ov': mat1, 'vv': mat2}\n",
    "    \"\"\"\n",
    "    ncore = len(core_mos)\n",
    "    nvirt = len(virt_mos)\n",
    "    \n",
    "    Fb = {'oo': ints.oei_b_block(core_mos, core_mos),\n",
    "          'vv': ints.oei_b_block(virt_mos, virt_mos),\n",
    "          'ov': ints.oei_b_block(core_mos, virt_mos)}\n",
    "    \n",
    "    # OO block\n",
    "    v = ints.tei_bb_block(core_mos, core_mos, core_mos, core_mos)\n",
    "    Fb['oo'] += np.einsum('piqi->pq', v)\n",
    "    \n",
    "    v = ints.tei_ab_block(core_mos, core_mos, core_mos, core_mos)\n",
    "    Fb['oo'] += np.einsum('ipiq->pq', v)\n",
    "    \n",
    "    # VV block\n",
    "    v = ints.tei_bb_block(virt_mos, core_mos, virt_mos, core_mos)\n",
    "    Fb['vv'] += np.einsum('piqi->pq', v)\n",
    "    \n",
    "    v = ints.tei_ab_block(core_mos, virt_mos, core_mos, virt_mos)\n",
    "    Fb['vv'] += np.einsum('ipiq->pq', v)\n",
    "    \n",
    "    # OV block\n",
    "    v = ints.tei_bb_block(core_mos, core_mos, virt_mos, core_mos)\n",
    "    Fb['ov'] += np.einsum('piqi->pq', v)\n",
    "    \n",
    "    v = ints.tei_ab_block(core_mos, core_mos, core_mos, virt_mos)\n",
    "    Fb['ov'] += np.einsum('ipiq->pq', v)\n",
    "\n",
    "    return Fb\n",
    "\n",
    "Fb = build_fock_b(core_mos, virt_mos)\n",
    "Fb"
   ]
  },
  {
   "cell_type": "code",
   "execution_count": null,
   "metadata": {},
   "outputs": [],
   "source": [
    "# test if alpha and beta Fock matrices are indentical\n",
    "assert np.all(np.abs(Fa['oo'] - Fb['oo']) < 1.0e-10)\n",
    "assert np.all(np.abs(Fa['ov'] - Fb['ov']) < 1.0e-10)\n",
    "assert np.all(np.abs(Fa['vv'] - Fb['vv']) < 1.0e-10)"
   ]
  },
  {
   "cell_type": "markdown",
   "metadata": {},
   "source": [
    "### Build MP2 amplitudes\n",
    "\n",
    "The spin-orbital MP2 amplitudes read as\n",
    "\\begin{align}\n",
    "t^{ij}_{ab} = \\frac{v^{ij}_{ab}}{\\epsilon_i + \\epsilon_j - \\epsilon_a - \\epsilon_b}.\n",
    "\\end{align}\n",
    "\n",
    "For convenience, the energy denominator is denoated as\n",
    "\\begin{equation}\n",
    "\\Delta^{ij}_{ab} \\equiv \\epsilon_i + \\epsilon_j - \\epsilon_a - \\epsilon_b.\n",
    "\\end{equation}"
   ]
  },
  {
   "cell_type": "code",
   "execution_count": null,
   "metadata": {},
   "outputs": [],
   "source": [
    "# build orbital energies\n",
    "Fdiag = {'o': np.diag(Fa['oo']), 'v': np.diag(Fa['vv'])}\n",
    "Fdiag"
   ]
  },
  {
   "cell_type": "code",
   "execution_count": null,
   "metadata": {},
   "outputs": [],
   "source": [
    "# grab 2e-integrals\n",
    "V = {'aa': ints.tei_aa_block, 'ab': ints.tei_ab_block, 'bb': ints.tei_bb_block}\n",
    "\n",
    "Vaa = V['aa'](core_mos, core_mos, virt_mos, virt_mos)\n",
    "Vab = V['ab'](core_mos, core_mos, virt_mos, virt_mos)\n",
    "Vbb = V['bb'](core_mos, core_mos, virt_mos, virt_mos)"
   ]
  },
  {
   "cell_type": "code",
   "execution_count": null,
   "metadata": {},
   "outputs": [],
   "source": [
    "# build MP2 amplitudes\n",
    "def build_amplitudes_mp2(Fdiag, V_spin):\n",
    "    \"\"\"\n",
    "    Build MP2 amplitudes for spin cases corresponding to V.\n",
    "    :param Fdiag: a map for orbital energies {'o': occupied epsilon, 'v': virtual epsilon}\n",
    "    :param V: spin cases for antisymmetrized 2e-integrals\n",
    "    :return: the MP2 amplitudes\n",
    "    \"\"\"\n",
    "    T = V[V_spin](core_mos, core_mos, virt_mos, virt_mos).copy()\n",
    "    for ii, i in enumerate(Fdiag['o']):\n",
    "        for ij, j in enumerate(Fdiag['o']):\n",
    "            for ia, a in enumerate(Fdiag['v']):\n",
    "                for ib, b in enumerate(Fdiag['v']):\n",
    "                    T[ii][ij][ia][ib] /= i + j - a - b\n",
    "    return T"
   ]
  },
  {
   "cell_type": "code",
   "execution_count": null,
   "metadata": {},
   "outputs": [],
   "source": [
    "Taa = build_amplitudes_mp2(Fdiag, 'aa')\n",
    "Tab = build_amplitudes_mp2(Fdiag, 'ab')\n",
    "Tbb = build_amplitudes_mp2(Fdiag, 'bb')"
   ]
  },
  {
   "cell_type": "code",
   "execution_count": null,
   "metadata": {},
   "outputs": [],
   "source": [
    "# contract 2e-integrals with 2-amplitudes\n",
    "def contraction(v, t, factor):\n",
    "    \"\"\"\n",
    "    Fully contract v and t.\n",
    "    :param v: 2e-integrals\n",
    "    :param t: 2-amplitudes\n",
    "    :param factor: scaling factor\n",
    "    :return: the contracted value\n",
    "    \"\"\"\n",
    "    return factor * np.einsum('ijab,ijab->', v, t)"
   ]
  },
  {
   "cell_type": "code",
   "execution_count": null,
   "metadata": {
    "scrolled": true
   },
   "outputs": [],
   "source": [
    "# compute MP2 energy\n",
    "Emp2_corr = contraction(Vaa, Taa, 0.25) + contraction(Vbb, Tbb, 0.25) \\\n",
    "          + contraction(Vab, Tab, 1.0)\n",
    "Emp2 = Eref + Emp2_corr\n",
    "print(f\"MP2 correlation energy:     {Emp2_corr:18.12f}\")\n",
    "print(f\"MP2 total energy tutorial:  {Emp2:18.12f}\")\n",
    "print(f\"MP2 total energy from Psi4: {Emp2_psi4:18.12f}\")"
   ]
  },
  {
   "cell_type": "code",
   "execution_count": null,
   "metadata": {},
   "outputs": [],
   "source": [
    "assert(abs(Emp2 - Emp2_psi4) < 1.0e-8)"
   ]
  },
  {
   "cell_type": "markdown",
   "metadata": {},
   "source": [
    "# DSRG-PT2 energy expression\n",
    "\n",
    "In DSRG-PT2, we introduce the flow parameter $s \\in [0, \\infty)$.\n",
    "\n",
    "The DSRG-PT2 energy expression is given by\n",
    "\\begin{equation}\n",
    "E_\\text{DSRG-PT2} = \\frac{1}{4} \\tilde{v}_{i^\\alpha j^\\alpha}^{a^\\alpha b^\\alpha} t_{a^\\alpha b^\\alpha}^{i^\\alpha j^\\alpha}\n",
    "+ \\frac{1}{4} \\tilde{v}_{i^\\beta j^\\beta}^{a^\\beta b^\\beta} t_{a^\\beta b^\\beta}^{i^\\beta j^\\beta}\n",
    "+ \\tilde{v}_{i^\\alpha j^\\beta}^{a^\\alpha b^\\beta} t_{a^\\alpha b^\\beta}^{i^\\alpha j^\\beta}.\n",
    "\\end{equation}\n",
    "The spin-orbital renormalized 2e-integrals are\n",
    "\\begin{equation}\n",
    "\\tilde{v}_{ij}^{ab} = v_{ij}^{ab} \\left[ 1 + e^{-s (\\Delta^{ij}_{ab})^2} \\right],\n",
    "\\end{equation}\n",
    "and the spin-orbital amplitudes are expressed as\n",
    "\\begin{equation}\n",
    "t^{ij}_{ab} = v^{ij}_{ab} \\frac{1 - e^{-s (\\Delta^{ij}_{ab})^2}}{\\Delta^{ij}_{ab}}.\n",
    "\\end{equation}"
   ]
  },
  {
   "cell_type": "code",
   "execution_count": null,
   "metadata": {},
   "outputs": [],
   "source": [
    "flow_param = 1.0"
   ]
  },
  {
   "cell_type": "code",
   "execution_count": null,
   "metadata": {},
   "outputs": [],
   "source": [
    "# renormalize 2e-integrals\n",
    "def renorm_aptei(Fdiag, V_spin, s):\n",
    "    \"\"\"\n",
    "    Renormalize antisymmetrized 2e-integrals for DSRG-PT2.\n",
    "    :param Fdiag: a map for orbital energies {'o': occupied epsilon, 'v': virtual epsilon}\n",
    "    :param V_spin: spin case for antisymmetrized 2e-integrals\n",
    "    :param s: the DSRG flow parameter\n",
    "    :return: the renormalized 2e-integrals\n",
    "    \"\"\"\n",
    "    R = V[V_spin](core_mos, core_mos, virt_mos, virt_mos).copy()\n",
    "    for ii, i in enumerate(Fdiag['o']):\n",
    "        for ij, j in enumerate(Fdiag['o']):\n",
    "            for ia, a in enumerate(Fdiag['v']):\n",
    "                for ib, b in enumerate(Fdiag['v']):\n",
    "                    delta = i + j - a - b\n",
    "                    R[ii][ij][ia][ib] *= 1.0 + np.exp(-s * delta ** 2)\n",
    "    return R\n",
    "\n",
    "rVaa = renorm_aptei(Fdiag, 'aa', flow_param)\n",
    "rVab = renorm_aptei(Fdiag, 'ab', flow_param)\n",
    "rVbb = renorm_aptei(Fdiag, 'bb', flow_param)"
   ]
  },
  {
   "cell_type": "code",
   "execution_count": null,
   "metadata": {},
   "outputs": [],
   "source": [
    "# build DSRG-PT2 amplitudes\n",
    "def build_amplitudes_pt2(Fdiag, V_spin, s):\n",
    "    \"\"\"\n",
    "    Build DSRG-PT2 amplitudes for spin cases corresponding to V.\n",
    "    :param Fdiag: a map for orbital energies {'o': occupied epsilon, 'v': virtual epsilon}\n",
    "    :param V_spin: spin case for antisymmetrized 2e-integrals\n",
    "    :param s: the DSRG flow parameter\n",
    "    :return: the DSR-PT2 amplitudes\n",
    "    \"\"\"\n",
    "    T = V[V_spin](core_mos, core_mos, virt_mos, virt_mos).copy()\n",
    "    for ii, i in enumerate(Fdiag['o']):\n",
    "        for ij, j in enumerate(Fdiag['o']):\n",
    "            for ia, a in enumerate(Fdiag['v']):\n",
    "                for ib, b in enumerate(Fdiag['v']):\n",
    "                    delta = i + j - a - b\n",
    "                    if abs(delta) < 1.0e-8:\n",
    "                        value = 0.0\n",
    "                    else:\n",
    "                        value = (1.0 - np.exp(-s * delta ** 2)) / delta\n",
    "                    T[ii][ij][ia][ib] *= value\n",
    "    return T\n",
    "\n",
    "rTaa = build_amplitudes_pt2(Fdiag, 'aa', flow_param)\n",
    "rTab = build_amplitudes_pt2(Fdiag, 'ab', flow_param)\n",
    "rTbb = build_amplitudes_pt2(Fdiag, 'bb', flow_param)"
   ]
  },
  {
   "cell_type": "code",
   "execution_count": null,
   "metadata": {},
   "outputs": [],
   "source": [
    "# compute DSRG-PT2 energy\n",
    "Ept2_corr = contraction(rVaa, rTaa, 0.25) + contraction(rVbb, rTbb, 0.25) \\\n",
    "          + contraction(rVab, rTab, 1.0)\n",
    "Ept2 = Eref + Ept2_corr\n",
    "print(f\"DSRG-PT2 correlation energy:     {Ept2_corr:18.12f}\")\n",
    "print(f\"DSRG-PT2 total energy tutorial:  {Ept2:18.12f}\")\n",
    "print(f\"MP2 total energy from Psi4:      {Emp2_psi4:18.12f}\")"
   ]
  },
  {
   "cell_type": "code",
   "execution_count": null,
   "metadata": {},
   "outputs": [],
   "source": [
    "# play around with flow parameter\n",
    "def compute_dsrgpt2_energy(s):\n",
    "    \"\"\"\n",
    "    Compute the DSRG-PT2 energy.\n",
    "    :param s: the DSRG flow parameter\n",
    "    :return: the DSRG-PT2 correlation energy\n",
    "    \"\"\"\n",
    "    rV = renorm_aptei(Fdiag, 'aa', s)\n",
    "    rT = build_amplitudes_pt2(Fdiag, 'aa', s)\n",
    "    Eout = contraction(rV, rT, 0.25)\n",
    "    \n",
    "    rV = renorm_aptei(Fdiag, 'bb', s)\n",
    "    rT = build_amplitudes_pt2(Fdiag, 'bb', s)\n",
    "    Eout += contraction(rV, rT, 0.25)\n",
    "    \n",
    "    rV = renorm_aptei(Fdiag, 'ab', s)\n",
    "    rT = build_amplitudes_pt2(Fdiag, 'ab', s)\n",
    "    Eout += contraction(rV, rT, 1.0)\n",
    "    \n",
    "    return Eout"
   ]
  },
  {
   "cell_type": "code",
   "execution_count": null,
   "metadata": {},
   "outputs": [],
   "source": [
    "dsrg_s = [0.5, 0.75, 1.0, 1.5, 2.0, 3.0, 5.0, 7.5, 10.0, 25.0, 50.0, 100.0, 1000.0]\n",
    "energies = [compute_dsrgpt2_energy(s) for s in dsrg_s]"
   ]
  },
  {
   "cell_type": "code",
   "execution_count": null,
   "metadata": {},
   "outputs": [],
   "source": [
    "import matplotlib as mpl\n",
    "import matplotlib.pyplot as plt\n",
    "%matplotlib notebook\n",
    "mpl.rcParams['pdf.fonttype'] = 42"
   ]
  },
  {
   "cell_type": "code",
   "execution_count": null,
   "metadata": {},
   "outputs": [],
   "source": [
    "fig = plt.figure(figsize=(6,4), dpi=150)\n",
    "ax = plt.subplot(111)\n",
    "ax.semilogx(dsrg_s, energies)\n",
    "ax.axhline(Emp2_corr, lw=1.0, ls=':', color='k')\n",
    "\n",
    "ax.spines['right'].set_visible(False)\n",
    "ax.spines['top'].set_visible(False)"
   ]
  }
 ],
 "metadata": {
  "kernelspec": {
   "display_name": "Python 3",
   "language": "python",
   "name": "python3"
  },
  "language_info": {
   "codemirror_mode": {
    "name": "ipython",
    "version": 3
   },
   "file_extension": ".py",
   "mimetype": "text/x-python",
   "name": "python",
   "nbconvert_exporter": "python",
   "pygments_lexer": "ipython3",
   "version": "3.7.4"
  }
 },
 "nbformat": 4,
 "nbformat_minor": 2
}
