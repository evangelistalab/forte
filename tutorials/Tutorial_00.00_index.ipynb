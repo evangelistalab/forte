{
 "cells": [
  {
   "cell_type": "markdown",
   "metadata": {},
   "source": [
    "# Forte Tutorial 0.00: Index of all tutorials\n",
    "\n",
    "---\n",
    "\n",
    "Welcome to the forte tutorials! These files are meant to illustrate how to use forte via the Python API and how to access its functionality to perform custom computations.\n",
    "\n",
    "## The basics\n",
    "- [Running psi4 jobs in Jupyter notebooks](./Tutorial_01.00_psi4_api.ipynb): A good starting point if you never tried to run psi4 in Jupyter.\n",
    "- [Running forte in Jupyter notebooks](./Tutorial_01.01_forte_api.ipynb): An introduction to forte's Python API\n",
    "- [Forte's determinant class](./Tutorial_01.02_forte_dets.ipynb): This tutorial covers the `Determinant` class and guides you through a simple FCI code\n",
    "- [Forte's sparse operator class](./Tutorial_01.03_forte_sparse.ipynb): This tutorial covers the `StateVector` and `SparseOperator` classes\n",
    "- [Implementing CCSD using the sparse operator class](./Tutorial_01.04_forte_cc.ipynb): This tutorial shows how to implement CCSD using the `StateVector` and `SparseOperator` classes\n",
    "\n",
    "## Useful functionality\n",
    "- [Visualizing orbitals in Jupyter notebooks](./Tutorial_02.00_plotting_mos.ipynb): This tutorial shows you how to generate molecular orbital plots with forte\n",
    "- [Orbital localization](./Tutorial_02.02_mo_localization.ipynb): This tutorial shows you how to localize molecular orbitals\n",
    "- [Orbital localization](./Tutorial_02.03_forte-utils.ipynb): Some useful utilities for Jupyter like running psi4 and making MO diagrams\n",
    "\n",
    "## Methods\n",
    "- [A python implementation of the single-reference DSRG-PT2](./Tutorial_03.00_DSRG-PT2.ipynb): This tutorial shows you how to implement a simple correlation method in forte"
   ]
  },
  {
   "cell_type": "code",
   "execution_count": null,
   "metadata": {},
   "outputs": [],
   "source": []
  }
 ],
 "metadata": {
  "kernelspec": {
   "display_name": "Python 3",
   "language": "python",
   "name": "python3"
  },
  "language_info": {
   "codemirror_mode": {
    "name": "ipython",
    "version": 3
   },
   "file_extension": ".py",
   "mimetype": "text/x-python",
   "name": "python",
   "nbconvert_exporter": "python",
   "pygments_lexer": "ipython3",
   "version": "3.8.5"
  }
 },
 "nbformat": 4,
 "nbformat_minor": 4
}
