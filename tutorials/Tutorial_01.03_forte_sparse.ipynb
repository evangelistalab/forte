{
 "cells": [
  {
   "cell_type": "markdown",
   "metadata": {},
   "source": [
    "# Forte Tutorial 1.03: Forte's sparse operator class\n",
    "---\n",
    "\n",
    "Forte exposes several functions to create and manipulate general second quantized operators and wave functions.\n",
    "In this tutorial we will look at simple examples that illustrate how these classes work.\n",
    "\n",
    "## Preliminaries\n",
    "Here we define a useful function to display equations in LaTeX format"
   ]
  },
  {
   "cell_type": "code",
   "execution_count": 16,
   "metadata": {},
   "outputs": [],
   "source": [
    "import math\n",
    "import forte\n",
    "from IPython.display import display, Math, Latex\n",
    "\n",
    "def latex(obj):\n",
    "    \"\"\"Call the latex() function on an object and display the returned value in LaTeX\"\"\"\n",
    "    display(Math(obj.latex()))"
   ]
  },
  {
   "cell_type": "markdown",
   "metadata": {},
   "source": [
    "In a previous tutorial we looked at how to define determinants in forte. Here we are going to use the utility function `forte.det()`, which creates a determinant from a string representation of the determinant. The occupation of each orbital is specified by the symbols `2` (doubly occupied), `+` (single alpha electron), `-` (single beta electron), `0` (empty).\n",
    "\n",
    "Here are some examples."
   ]
  },
  {
   "cell_type": "code",
   "execution_count": 17,
   "metadata": {},
   "outputs": [
    {
     "name": "stdout",
     "output_type": "stream",
     "text": [
      "|22+-000000000000000000000000000000000000000000000000000000000000>\n",
      "|22-+000000000000000000000000000000000000000000000000000000000000>\n",
      "|+--+000000000000000000000000000000000000000000000000000000000000>\n"
     ]
    }
   ],
   "source": [
    "print(forte.det('22+-'))\n",
    "print(forte.det('22ba'))\n",
    "print(forte.det('ABBA'))"
   ]
  },
  {
   "cell_type": "markdown",
   "metadata": {},
   "source": [
    "Depending on the size if the `Determinant` class, these commands will return a 64 bit or longer representation of the determinants."
   ]
  },
  {
   "cell_type": "markdown",
   "metadata": {},
   "source": [
    "## The StateVector class\n",
    "\n",
    "Sparse collections of determinants can be manipulated using the `StateVector` class. The simplest way to create a `StateVector` object is by passing a dictionary of `determinants -> double`. For example, here we create a superposition of a determinant with two electrons and one that has no electrons, both with equal coefficients normalized to one\n",
    "$$\n",
    "|\\Psi\\rangle = \\frac{1}{\\sqrt{2}}\\left( |20\\rangle + |00\\rangle \\right)\n",
    "$$"
   ]
  },
  {
   "cell_type": "code",
   "execution_count": 18,
   "metadata": {},
   "outputs": [
    {
     "name": "stdout",
     "output_type": "stream",
     "text": [
      "|2000000000000000000000000000000000000000000000000000000000000000> * 0.707107\n",
      "|0000000000000000000000000000000000000000000000000000000000000000> * 0.707107\n",
      "\n"
     ]
    }
   ],
   "source": [
    "c = 1./ math.sqrt(2.0)\n",
    "psi = forte.StateVector({ forte.det('20'): c, forte.det('00') : c})\n",
    "print(psi)"
   ]
  },
  {
   "cell_type": "markdown",
   "metadata": {},
   "source": [
    "An alternative way to print this wave function is by calling the `str` method on the `StateVector` object. The argument `2` here indicates that we want to show only the occupation numbers of only the first two orbitals."
   ]
  },
  {
   "cell_type": "code",
   "execution_count": 19,
   "metadata": {},
   "outputs": [
    {
     "name": "stdout",
     "output_type": "stream",
     "text": [
      "|20> * 0.707107\n",
      "|00> * 0.707107\n",
      "\n"
     ]
    }
   ],
   "source": [
    "print(psi.str(2))"
   ]
  },
  {
   "cell_type": "markdown",
   "metadata": {},
   "source": [
    "## The `SparseOperator` class\n",
    "\n",
    "The `SparseOperator` class can handle operators of the form\n",
    "$$\n",
    "\\hat{O} = \\sum_{pqrs\\cdots} t_{pq\\cdots}^{rs\\cdots} \\hat{a}^\\dagger_p \\hat{a}^\\dagger_q \\cdots \\hat{a}_s \\hat{a}_r\n",
    "$$\n",
    "where each individual term in the summation can be an arbitrary order operator.\n",
    "However, the amplitudes are assumed to be **real numbers**.\n",
    "\n",
    "At creation, the user can specify if this operator should be anti-Hermitian, that is if each term should be paired with minus its Hermitian conjugate\n",
    "$$\n",
    "\\hat{O} = \\sum_{pqrs\\cdots} t_{pq\\cdots}^{rs\\cdots} \\left( \\hat{a}^\\dagger_p \\hat{a}^\\dagger_q \\cdots \\hat{a}_s \\hat{a}_r \n",
    "- \\hat{a}^\\dagger_r \\hat{s}^\\dagger_q \\cdots \\hat{a}_q \\hat{a}_p \\right)\n",
    "$$"
   ]
  },
  {
   "cell_type": "markdown",
   "metadata": {},
   "source": [
    "### Creating `SparseOperator` objects\n",
    "\n",
    "After creation, a `SparseOperator` object is empty\n",
    "```python\n",
    "op = forte.SparseOperator()\n",
    "latex(op)\n",
    "# displays nothing\n",
    "```\n",
    "\n",
    "The simplest way to populate a `SparseOperator` is by adding one term at a time using the `add_term_from_str` function.\n",
    "\n",
    "A generic operator\n",
    "$$\n",
    "\\hat{q}_1 \\hat{q}_2 \\cdots, \\quad \\text{ with } \\hat{q}_i \\in \\{ \\hat{a}_p, \\hat{a}^\\dagger_p\\}\n",
    "$$\n",
    "can be specified using the following syntax\n",
    "```\n",
    "add_term_from_str('[<orbital_1><spin_1><type_1> <orbital_2><spin_2><type_2> ...]', amplitude)\n",
    "```\n",
    "where\n",
    "```\n",
    "orbital_i: int\n",
    "spin_i: 'a' (alpha) or 'b' (beta)\n",
    "type_i: '+' (creation) or '-' (annihilation)\n",
    "```\n",
    "\n",
    "For example, the operator $\\hat{a}^\\dagger_{1_\\alpha} \\hat{a}_{0_\\alpha}$ is encoded as `[1a+ 0a-]`. The following code generates the operators $\\hat{a}^\\dagger_{1_\\alpha} \\hat{a}_{0_\\alpha}$ and  $\\frac{1}{2} (\\hat{a}_{0_\\alpha} - \\hat{a}^\\dagger_{0_\\alpha})$"
   ]
  },
  {
   "cell_type": "code",
   "execution_count": 20,
   "metadata": {},
   "outputs": [
    {
     "data": {
      "text/latex": [
       "$\\displaystyle +\\;\\hat{a}_{1 \\alpha}^\\dagger\\hat{a}_{0 \\alpha}$"
      ],
      "text/plain": [
       "<IPython.core.display.Math object>"
      ]
     },
     "metadata": {},
     "output_type": "display_data"
    },
    {
     "data": {
      "text/latex": [
       "$\\displaystyle +0.500000\\;\\hat{a}_{0 \\alpha} -0.500000\\;\\hat{a}_{0 \\alpha}^\\dagger$"
      ],
      "text/plain": [
       "<IPython.core.display.Math object>"
      ]
     },
     "metadata": {},
     "output_type": "display_data"
    }
   ],
   "source": [
    "op = forte.SparseOperator(antihermitian=False)\n",
    "op.add_term_from_str('[1a+ 0a-]',1.0)\n",
    "latex(op)\n",
    "\n",
    "op = forte.SparseOperator(antihermitian=True)\n",
    "op.add_term_from_str('[0a-]',0.5)\n",
    "latex(op)"
   ]
  },
  {
   "cell_type": "markdown",
   "metadata": {},
   "source": [
    "### Ordering of operators in the `SparseOperator` object\n",
    "\n",
    "<div class=\"alert alert-block alert-warning\">\n",
    "Note that `add_term_from_str` <b>assumes that the operators will match a specific order!</b>\n",
    "\n",
    "This canonical order is defined as\n",
    "$$\n",
    "(\\alpha \\text{ creation}) (\\beta \\text{ creation}) (\\beta \\text{ annihilation}) (\\alpha \\text{ annihilation})\n",
    "$$\n",
    "with the creation (annihilation) operators ordered within each group in increasing (decreasing) order.\n",
    "The following operator satisfies the canonical order:\n",
    "$$\n",
    "+\\;\\hat{a}_{2 \\alpha}^\\dagger\\hat{a}_{3 \\alpha}^\\dagger\\hat{a}_{2 \\beta}^\\dagger\\hat{a}_{3 \\beta}^\\dagger\\hat{a}_{1 \\beta}\\hat{a}_{0 \\beta}\\hat{a}_{1 \\alpha}\\hat{a}_{0 \\alpha}\n",
    "$$\n",
    "</div>\n",
    "\n",
    "If you want to work with operators that do not follow this ordering, for example, $\\hat{a}_{1 \\alpha}\\hat{a}^\\dagger_{0 \\alpha}$, you will need to work out an equivalent representation, for example, $\\hat{a}_{0 \\alpha}\\hat{a}^\\dagger_{0 \\alpha} = 1 - \\hat{a}^\\dagger_{0 \\alpha}\\hat{a}_{0 \\alpha}$.\n",
    "\n",
    "These examples illustrate valid operators in canonical order"
   ]
  },
  {
   "cell_type": "code",
   "execution_count": 21,
   "metadata": {},
   "outputs": [
    {
     "data": {
      "text/latex": [
       "$\\displaystyle +\\;\\hat{a}_{1 \\beta}\\hat{a}_{0 \\beta}\\hat{a}_{1 \\alpha}\\hat{a}_{0 \\alpha}$"
      ],
      "text/plain": [
       "<IPython.core.display.Math object>"
      ]
     },
     "metadata": {},
     "output_type": "display_data"
    },
    {
     "data": {
      "text/latex": [
       "$\\displaystyle +\\;\\hat{a}_{0 \\alpha}^\\dagger\\hat{a}_{1 \\alpha}^\\dagger\\hat{a}_{0 \\beta}^\\dagger\\hat{a}_{1 \\beta}^\\dagger$"
      ],
      "text/plain": [
       "<IPython.core.display.Math object>"
      ]
     },
     "metadata": {},
     "output_type": "display_data"
    },
    {
     "data": {
      "text/latex": [
       "$\\displaystyle +\\;\\hat{a}_{2 \\alpha}^\\dagger\\hat{a}_{3 \\alpha}^\\dagger\\hat{a}_{2 \\beta}^\\dagger\\hat{a}_{3 \\beta}^\\dagger\\hat{a}_{1 \\beta}\\hat{a}_{0 \\beta}\\hat{a}_{1 \\alpha}\\hat{a}_{0 \\alpha}$"
      ],
      "text/plain": [
       "<IPython.core.display.Math object>"
      ]
     },
     "metadata": {},
     "output_type": "display_data"
    }
   ],
   "source": [
    "# beta annihilation operators appear to the left of alpha annihilation\n",
    "# within each group, orbital indices decrease going from left to right\n",
    "op = forte.SparseOperator(antihermitian=False)\n",
    "op.add_term_from_str('[1b- 0b- 1a- 0a-]',1.0)\n",
    "latex(op)\n",
    "\n",
    "# beta creation operators appear to the right of alpha annihilation\n",
    "# within each group, orbitals increase going from left to right\n",
    "op = forte.SparseOperator(antihermitian=False)\n",
    "op.add_term_from_str('[0a+ 1a+ 0b+ 1b+]',1.0)\n",
    "latex(op)\n",
    "\n",
    "# creation operators appear to the left of annihilation operators\n",
    "op = forte.SparseOperator(antihermitian=False)\n",
    "op.add_term_from_str('[2a+ 3a+ 2b+ 3b+ 1b- 0b- 1a- 0a-]',1.0)\n",
    "latex(op)"
   ]
  },
  {
   "cell_type": "markdown",
   "metadata": {},
   "source": [
    "When the operator passed is out of order, an exception is thrown. For example, the following code\n",
    "```python\n",
    "op = forte.SparseOperator(antihermitian=False)\n",
    "op.add_term_from_str('[0b- 1b- 1a- 0a-]',1.0)\n",
    "latex(op)\n",
    "```\n",
    "leads to the following RuntimeError"
   ]
  },
  {
   "cell_type": "code",
   "execution_count": 22,
   "metadata": {},
   "outputs": [
    {
     "name": "stdout",
     "output_type": "stream",
     "text": [
      "RuntimeError: Trying to initialize a SQOperator object with a product of\n",
      "operators that are not arranged in the canonical form\n",
      "\n",
      "    a+_p1 a+_p2 ...  a+_P1 a+_P2 ...   ... a-_Q2 a-_Q1   ... a-_q2 a-_q1\n",
      "    alpha creation   beta creation    beta annihilation  alpha annihilation\n",
      "\n",
      "with indices sorted as\n",
      "\n",
      "    (p1 < p2 < ...) (P1 < P2 < ...)  (... > Q2 > Q1) (... > q2 > q1)\n",
      "\n"
     ]
    }
   ],
   "source": [
    "op = forte.SparseOperator(antihermitian=False)\n",
    "try:\n",
    "    op.add_term_from_str('[0b- 1b- 1a- 0a-]',1.0)\n",
    "except Exception as e:\n",
    "    print(f'RuntimeError: {e}')"
   ]
  },
  {
   "cell_type": "markdown",
   "metadata": {},
   "source": [
    "This error can be overriden. However, **this is recommended only if you understand what happens when you do so**. The function `add_term_from_str` has an extra option that allows it to reorder the operators to the canonical form. The final operator is multiplied by a sign factor that corresponds to the parity of the permutation that connects the initial and final ordering. This code illustrates how this reordering happens"
   ]
  },
  {
   "cell_type": "code",
   "execution_count": 23,
   "metadata": {},
   "outputs": [
    {
     "data": {
      "text/latex": [
       "$\\displaystyle -\\;\\hat{a}_{1 \\beta}\\hat{a}_{0 \\beta}\\hat{a}_{1 \\alpha}\\hat{a}_{0 \\alpha}$"
      ],
      "text/plain": [
       "<IPython.core.display.Math object>"
      ]
     },
     "metadata": {},
     "output_type": "display_data"
    },
    {
     "data": {
      "text/latex": [
       "$\\displaystyle -\\;\\hat{a}_{1 \\beta}\\hat{a}_{0 \\beta}\\hat{a}_{1 \\alpha}\\hat{a}_{0 \\alpha}$"
      ],
      "text/plain": [
       "<IPython.core.display.Math object>"
      ]
     },
     "metadata": {},
     "output_type": "display_data"
    },
    {
     "data": {
      "text/latex": [
       "$\\displaystyle -\\;\\hat{a}_{1 \\beta}\\hat{a}_{0 \\beta}\\hat{a}_{1 \\alpha}\\hat{a}_{0 \\alpha}$"
      ],
      "text/plain": [
       "<IPython.core.display.Math object>"
      ]
     },
     "metadata": {},
     "output_type": "display_data"
    },
    {
     "data": {
      "text/latex": [
       "$\\displaystyle +\\;\\hat{a}_{2 \\alpha}^\\dagger\\hat{a}_{3 \\alpha}^\\dagger\\hat{a}_{2 \\beta}^\\dagger\\hat{a}_{3 \\beta}^\\dagger\\hat{a}_{1 \\beta}\\hat{a}_{0 \\beta}\\hat{a}_{1 \\alpha}\\hat{a}_{0 \\alpha}$"
      ],
      "text/plain": [
       "<IPython.core.display.Math object>"
      ]
     },
     "metadata": {},
     "output_type": "display_data"
    }
   ],
   "source": [
    "# the operators [0a- 0b- 1a- 1b-] are reordered and the final sign is -1. \n",
    "op = forte.SparseOperator(antihermitian=False)\n",
    "op.add_term_from_str('[0a- 0b- 1a- 1b-]',1.0,allow_reordering=True)\n",
    "latex(op)\n",
    "\n",
    "# the operators [0a- 0b- 1a- 1b-] are reordered and the final sign is -1. \n",
    "op = forte.SparseOperator(antihermitian=False)\n",
    "op.add_term_from_str('[0a- 0b- 1a- 1b-]',1.0,allow_reordering=True)\n",
    "latex(op)\n",
    "\n",
    "# The operator [0a- 0b- 1a- 1b-] (see above) is equivalent to -[1a- 1b- 0b- 0a-].\n",
    "op = forte.SparseOperator(antihermitian=False)\n",
    "op.add_term_from_str('[1a- 1b- 0b- 0a-]',-1.0,allow_reordering=True)\n",
    "latex(op)\n",
    "\n",
    "# Another example that illustrates the reordering of operators\n",
    "op = forte.SparseOperator(antihermitian=False)\n",
    "op.add_term_from_str('[0a- 0b- 1a- 1b- 2a+ 2b+ 3a+ 3b+]',1.0,allow_reordering=True)\n",
    "latex(op)"
   ]
  },
  {
   "cell_type": "markdown",
   "metadata": {},
   "source": [
    "An exception is also thrown if two operators are repeated. For example, the following code\n",
    "```python\n",
    "op = forte.SparseOperator(antihermitian=False)\n",
    "op.add_term_from_str('[0b- 0b-]',1.0)\n",
    "```\n",
    "gives to the following RuntimeError"
   ]
  },
  {
   "cell_type": "code",
   "execution_count": 24,
   "metadata": {},
   "outputs": [
    {
     "name": "stdout",
     "output_type": "stream",
     "text": [
      "RuntimeError: Trying to initialize a SQOperator object with a product of\n",
      "operators that contains repeated operators.\n",
      "\n"
     ]
    }
   ],
   "source": [
    "op = forte.SparseOperator(antihermitian=False)\n",
    "try:\n",
    "    op = forte.SparseOperator(antihermitian=False)\n",
    "    op.add_term_from_str('[0b- 0b-]',1.0)\n",
    "except Exception as e:\n",
    "    print(f'RuntimeError: {e}')"
   ]
  },
  {
   "cell_type": "markdown",
   "metadata": {},
   "source": [
    "### Specifying a full operator with the `SparseOperator` class\n",
    "\n",
    "To form a full operator we can just keep adding terms to a `SparseOperator` object. For example"
   ]
  },
  {
   "cell_type": "code",
   "execution_count": 25,
   "metadata": {},
   "outputs": [
    {
     "data": {
      "text/latex": [
       "$\\displaystyle +0.300000\\;\\hat{a}_{1 \\alpha}^\\dagger\\hat{a}_{0 \\alpha} +0.300000\\;\\hat{a}_{1 \\beta}^\\dagger\\hat{a}_{0 \\beta} +0.100000\\;\\hat{a}_{1 \\alpha}^\\dagger\\hat{a}_{1 \\beta}^\\dagger\\hat{a}_{0 \\beta}\\hat{a}_{0 \\alpha}$"
      ],
      "text/plain": [
       "<IPython.core.display.Math object>"
      ]
     },
     "metadata": {},
     "output_type": "display_data"
    }
   ],
   "source": [
    "op = forte.SparseOperator(antihermitian=False)\n",
    "op.add_term_from_str('[1a+ 0a-]',0.3)\n",
    "op.add_term_from_str('[1b+ 0b-]',0.3)\n",
    "op.add_term_from_str('[1a+ 1b+ 0b- 0a-]',0.1)\n",
    "latex(op)"
   ]
  },
  {
   "cell_type": "markdown",
   "metadata": {},
   "source": [
    "Another way to create an operator is via the function `add_term` by providing a list of tuples that specifies the second quantized operators and the corresponding amplitude. This is useful when building operators with a large number of terms. Note, that **this function uses a different convention than `add_term_from_str` for expressing the ordering of the operators**. Here we specify the operator (in reversed order)\n",
    "$$\n",
    "\\cdots \\hat{q}_2 \\hat{q}_1, \\quad \\text{ with } \\hat{q}_i \\in \\{ \\hat{a}_p, \\hat{a}^\\dagger_p\\}\n",
    "$$\n",
    "with the following syntax\n",
    "```\n",
    "add_term([(type_1, spin_1, orb_1), (type_2, spin_2, orb_2), ...]', amplitude)\n",
    "```\n",
    "where\n",
    "```\n",
    "type_i: bool (true = creation, false = annihilation)\n",
    "spin_i: bool (true = alpha, false = beta)\n",
    "orb_i: int\n",
    "```\n",
    "For example, the operator $\\hat{a}^\\dagger_{1_\\alpha}\\hat{a}_{0_\\alpha}$ is generated in this way"
   ]
  },
  {
   "cell_type": "code",
   "execution_count": 26,
   "metadata": {},
   "outputs": [
    {
     "data": {
      "text/latex": [
       "$\\displaystyle +\\;\\hat{a}_{1 \\alpha}^\\dagger\\hat{a}_{0 \\alpha}$"
      ],
      "text/plain": [
       "<IPython.core.display.Math object>"
      ]
     },
     "metadata": {},
     "output_type": "display_data"
    }
   ],
   "source": [
    "op = forte.SparseOperator()\n",
    "op.add_term([(False,True,0),(True,True,1)],1.0)\n",
    "op.str()\n",
    "latex(op)"
   ]
  },
  {
   "cell_type": "markdown",
   "metadata": {},
   "source": [
    "## Applying a `SparseOperator` to a `StateVector`\n",
    "\n",
    "To apply an operator to a state vector you can use the `forte.apply_operator(op,psi)` function. This function takes an operator (`op`) and a state (`psi`), and returns the state `|new_psi> = op |psi>`. For example, the following creates a CIS wave function using the operator\n",
    "$$\n",
    "\\hat{T} = 0.1\\; +0.3 \\left(\\hat{a}_{1 \\alpha}^\\dagger\\hat{a}_{0 \\alpha} + \\hat{a}_{1 \\beta}^\\dagger\\hat{a}_{0 \\beta} \\right)\n",
    "$$\n",
    "where the first term is just a scalar"
   ]
  },
  {
   "cell_type": "code",
   "execution_count": 27,
   "metadata": {},
   "outputs": [
    {
     "name": "stdout",
     "output_type": "stream",
     "text": [
      "|+-0> * 0.300000\n",
      "|-+0> * 0.300000\n",
      "|200> * 0.100000\n",
      "\n"
     ]
    }
   ],
   "source": [
    "op = forte.SparseOperator(antihermitian=False)\n",
    "op.add_term_from_str('[]',0.1)\n",
    "op.add_term_from_str('[1a+ 0a-]',0.3)\n",
    "op.add_term_from_str('[1b+ 0b-]',0.3)\n",
    "psi = forte.StateVector({ forte.det('2'): 1.0})\n",
    "new_psi = forte.apply_operator(op,psi)\n",
    "print(new_psi.str(3))"
   ]
  },
  {
   "cell_type": "markdown",
   "metadata": {},
   "source": [
    "### Exponential operator\n",
    "\n",
    "To apply the exponential operator $\\exp(\\hat{T})$ we can use the class `SparseExp` class. This class provides the method `compute` which takes as arguments the operator and the state"
   ]
  },
  {
   "cell_type": "code",
   "execution_count": 28,
   "metadata": {},
   "outputs": [
    {
     "name": "stdout",
     "output_type": "stream",
     "text": [
      "|020> * 0.099465\n",
      "|-+0> * 0.331551\n",
      "|+-0> * 0.331551\n",
      "|200> * 1.105171\n",
      "\n"
     ]
    }
   ],
   "source": [
    "psi = forte.StateVector({ forte.det('2'): 1.0})\n",
    "exp_op = forte.SparseExp()\n",
    "new_psi = exp_op.compute(op,psi)\n",
    "print(new_psi.str(3))"
   ]
  },
  {
   "cell_type": "markdown",
   "metadata": {},
   "source": [
    "There are several variables that control the behavior of `compute`. For example, to compute the inverse, we can just apply $\\exp(-\\hat{T})$"
   ]
  },
  {
   "cell_type": "code",
   "execution_count": 29,
   "metadata": {},
   "outputs": [
    {
     "name": "stdout",
     "output_type": "stream",
     "text": [
      "|200> * 1.000000\n",
      "\n"
     ]
    }
   ],
   "source": [
    "new_psi2 = exp_op.compute(op,new_psi,scaling_factor=-1.0)\n",
    "print(new_psi2.str(3))"
   ]
  },
  {
   "cell_type": "markdown",
   "metadata": {},
   "source": [
    "By default `compute` uses a caching algorithm that reuses information from previous applications of the exponential. A memory-light algorithm can be also invoked"
   ]
  },
  {
   "cell_type": "code",
   "execution_count": 30,
   "metadata": {},
   "outputs": [
    {
     "name": "stdout",
     "output_type": "stream",
     "text": [
      "|020> * 0.099465\n",
      "|-+0> * 0.331551\n",
      "|+-0> * 0.331551\n",
      "|200> * 1.105171\n",
      "\n"
     ]
    }
   ],
   "source": [
    "psi = forte.StateVector({ forte.det('2'): 1.0})\n",
    "new_psi = exp_op.compute(op,psi,algorithm='onthefly')\n",
    "print(new_psi.str(3))"
   ]
  },
  {
   "cell_type": "markdown",
   "metadata": {},
   "source": [
    "We can also control other parameters, like the order of the Taylor expansion used to approximate $\\exp(\\hat{T})$ (`maxk`) and a threshold used to screen term (`screen_thresh`). For example, to apply $1 + \\hat{T}$ we can call"
   ]
  },
  {
   "cell_type": "code",
   "execution_count": 31,
   "metadata": {},
   "outputs": [
    {
     "name": "stdout",
     "output_type": "stream",
     "text": [
      "|-+0> * 0.300000\n",
      "|+-0> * 0.300000\n",
      "|200> * 1.100000\n",
      "\n"
     ]
    }
   ],
   "source": [
    "psi = forte.StateVector({ forte.det('2'): 1.0})\n",
    "new_psi = exp_op.compute(op,psi,algorithm='onthefly',maxk=1)\n",
    "print(new_psi.str(3))"
   ]
  },
  {
   "cell_type": "markdown",
   "metadata": {},
   "source": [
    "Note that the most efficient algorithm to compute the exponential of an operator via `SparseExp`\n",
    "assumes that the function is always called with the same operator.\n",
    "For example, if `op1` and `op2` are two different `SparseOperator` obects, the following code will give\n",
    "an incorrect result\n",
    "```python\n",
    "exp_op = forte.SparseExp()\n",
    "psi1 = exp_op.compute(op1,psi0)\n",
    "psi2 = exp_op.compute(op2,psi1)\n",
    "```\n",
    "However, if we ask the `SparseExp` class to use an on-the-fly algorithm via the following code\n",
    "```python\n",
    "exp_op = forte.SparseExp()\n",
    "psi1 = exp_op.compute(op1,psi0,algorithm='onthefly')\n",
    "psi2 = exp_op.compute(op2,psi1,algorithm='onthefly')\n",
    "```\n",
    "then the result will be correct."
   ]
  },
  {
   "cell_type": "markdown",
   "metadata": {},
   "source": [
    "### Factorized exponential of an anti-Hermitian operator\n",
    "\n",
    "Another useful operator is the factorized exponential of an operator $\\hat{T}$. If $\\hat{T}$ is a sum of operators\n",
    "$$\n",
    "\\hat{T} = \\sum_\\mu t_\\mu \\hat{\\kappa}_\\mu\n",
    "$$\n",
    "the factorized exponential is defined as\n",
    "$$\n",
    "\\exp_\\mathrm{f}(\\hat{T}) = \\prod_\\mu \\exp(t_\\mu \\hat{\\kappa}_\\mu)\n",
    "$$\n",
    "This operation is implemented in the class `SparseFactExp` for the case of anti-Hermitian operators, that is, when $(\\hat{T})^\\dagger = - \\hat{T}$.\n",
    "This class provides the method `compute` which takes as arguments the operator and the state. Here is a simple example:"
   ]
  },
  {
   "cell_type": "code",
   "execution_count": 32,
   "metadata": {},
   "outputs": [
    {
     "name": "stdout",
     "output_type": "stream",
     "text": [
      "|+-0> * 0.282321\n",
      "|020> * 0.087332\n",
      "|-+0> * 0.282321\n",
      "|200> * 0.912668\n",
      "\n"
     ]
    }
   ],
   "source": [
    "op = forte.SparseOperator(antihermitian=True)\n",
    "op.add_term_from_str('[1a+ 0a-]',0.3)\n",
    "op.add_term_from_str('[1b+ 0b-]',0.3)\n",
    "\n",
    "psi = forte.StateVector({ forte.det('2'): 1.0})\n",
    "factexp_op = forte.SparseFactExp()\n",
    "new_psi = factexp_op.compute(op,psi)\n",
    "print(new_psi.str(3))"
   ]
  },
  {
   "cell_type": "markdown",
   "metadata": {},
   "source": [
    "To compute the inverse of the factorized exponential, just pass the option `inverse=True` to `compute()`:"
   ]
  },
  {
   "cell_type": "code",
   "execution_count": 33,
   "metadata": {},
   "outputs": [
    {
     "name": "stdout",
     "output_type": "stream",
     "text": [
      "|200> * 1.000000\n",
      "\n"
     ]
    }
   ],
   "source": [
    "starting_psi = factexp_op.compute(op,new_psi,inverse=True)\n",
    "print(starting_psi.str(3))"
   ]
  }
 ],
 "metadata": {
  "kernelspec": {
   "display_name": "Python 3",
   "language": "python",
   "name": "python3"
  },
  "language_info": {
   "codemirror_mode": {
    "name": "ipython",
    "version": 3
   },
   "file_extension": ".py",
   "mimetype": "text/x-python",
   "name": "python",
   "nbconvert_exporter": "python",
   "pygments_lexer": "ipython3",
   "version": "3.9.4"
  }
 },
 "nbformat": 4,
 "nbformat_minor": 4
}
