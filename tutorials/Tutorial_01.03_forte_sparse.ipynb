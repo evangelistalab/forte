{
    "cells": [
        {
            "cell_type": "markdown",
            "metadata": {},
            "source": [
                "# Forte Tutorial 1.03: Forte's support for handling sparse states and operators\n",
                "\n",
                "Forte exposes several functions to create and manipulate general second quantized operators and wave functions.\n",
                "In this tutorial we will look at simple examples that illustrate how these classes work.\n",
                "\n",
                "## Preliminaries\n",
                "Here we define a useful function to display equations in LaTeX format"
            ]
        },
        {
            "cell_type": "code",
            "execution_count": 1,
            "metadata": {},
            "outputs": [],
            "source": [
                "import math\n",
                "import forte\n",
                "from IPython.display import display, Math, Latex\n",
                "from forte import det, SparseState, SparseOperator\n",
                "\n",
                "def latex(obj):\n",
                "    \"\"\"Call the latex() function on an object and display the returned value in LaTeX\"\"\"\n",
                "    display(Math(obj.latex()))"
            ]
        },
        {
            "cell_type": "markdown",
            "metadata": {},
            "source": [
                "In a previous tutorial we looked at how to define determinants in forte. Here we are going to use the utility function `forte.det()`, which creates a determinant from a string representation of the determinant. The occupation of each orbital is specified by the symbols `2` (doubly occupied), `+` (single alpha electron), `-` (single beta electron), `0` (empty).\n",
                "\n",
                "Here are some examples."
            ]
        },
        {
            "cell_type": "code",
            "execution_count": 2,
            "metadata": {},
            "outputs": [
                {
                    "name": "stdout",
                    "output_type": "stream",
                    "text": [
                        "|22+-000000000000000000000000000000000000000000000000000000000000>\n",
                        "|22-+000000000000000000000000000000000000000000000000000000000000>\n",
                        "|+--+000000000000000000000000000000000000000000000000000000000000>\n"
                    ]
                }
            ],
            "source": [
                "print(det('22+-'))\n",
                "print(det('22ba'))\n",
                "print(det('ABBA'))"
            ]
        },
        {
            "cell_type": "markdown",
            "metadata": {},
            "source": [
                "Depending on the size if the `Determinant` class, these commands will return a 64 bit or longer representation of the determinants."
            ]
        },
        {
            "cell_type": "markdown",
            "metadata": {},
            "source": [
                "## The SparseState class\n",
                "\n",
                "Sparse collections of determinants can be manipulated using the `SparseState` class. The simplest way to create a `SparseState` object is by passing a dictionary of `determinants -> double`. For example, here we create a superposition of a determinant with two electrons and one that has no electrons, with complex coefficients normalized to one:\n",
                "$$\n",
                "|\\Psi\\rangle = \\frac{1}{\\sqrt{2}} |20\\rangle + \\frac{i}{\\sqrt{2}}|00\\rangle \n",
                "$$"
            ]
        },
        {
            "cell_type": "code",
            "execution_count": 3,
            "metadata": {},
            "outputs": [
                {
                    "name": "stdout",
                    "output_type": "stream",
                    "text": [
                        "|2000000000000000000000000000000000000000000000000000000000000000> * (0.70710678,0.00000000)\n",
                        "|0000000000000000000000000000000000000000000000000000000000000000> * (0.00000000,0.70710678)\n",
                        "\n"
                    ]
                }
            ],
            "source": [
                "c = 1./ math.sqrt(2.0)\n",
                "psi = SparseState({ forte.det('20'): c, forte.det('00') : c * 1j})\n",
                "print(psi)"
            ]
        },
        {
            "cell_type": "markdown",
            "metadata": {},
            "source": [
                "An alternative way to print this wave function is by calling the `str` method on the `SparseState` object. The argument `2` here indicates that we want to show only the occupation numbers of only the first two orbitals."
            ]
        },
        {
            "cell_type": "code",
            "execution_count": 4,
            "metadata": {},
            "outputs": [
                {
                    "name": "stdout",
                    "output_type": "stream",
                    "text": [
                        "|20> * (0.70710678,0.00000000)\n",
                        "|00> * (0.00000000,0.70710678)\n",
                        "\n"
                    ]
                }
            ],
            "source": [
                "print(psi.str(2))"
            ]
        },
        {
            "cell_type": "markdown",
            "metadata": {},
            "source": [
                "## The `SparseOperator` class\n",
                "\n",
                "The `SparseOperator` class can handle operators of the form\n",
                "$$\n",
                "\\hat{O} = \\sum_{pqrs\\cdots} t_{pq\\cdots}^{rs\\cdots} \\hat{a}^\\dagger_p \\hat{a}^\\dagger_q \\cdots \\hat{a}_s \\hat{a}_r\n",
                "$$\n",
                "where each individual term in the summation can be an arbitrary order operator.\n",
                "However, the amplitudes are assumed to be **real numbers**."
            ]
        },
        {
            "cell_type": "markdown",
            "metadata": {},
            "source": [
                "### Creating `SparseOperator` objects\n",
                "\n",
                "After creation, a `SparseOperator` object is empty\n",
                "```python\n",
                "op = forte.SparseOperator()\n",
                "latex(op)\n",
                "# displays nothing\n",
                "```\n",
                "\n",
                "The simplest way to populate a `SparseOperator` is by adding one term at a time using the `add` function.\n",
                "\n",
                "A generic operator\n",
                "$$\n",
                "\\hat{q}_1 \\hat{q}_2 \\cdots, \\quad \\text{ with } \\hat{q}_i \\in \\{ \\hat{a}_p, \\hat{a}^\\dagger_p\\}\n",
                "$$\n",
                "can be specified using the following syntax\n",
                "```\n",
                "add('[<orbital_1><spin_1><type_1> <orbital_2><spin_2><type_2> ...]', amplitude)\n",
                "```\n",
                "where\n",
                "```\n",
                "orbital_i: int\n",
                "spin_i: 'a' (alpha) or 'b' (beta)\n",
                "type_i: '+' (creation) or '-' (annihilation)\n",
                "```\n",
                "\n",
                "For example, the operator $-2 \\hat{a}^\\dagger_{1_\\alpha} \\hat{a}^\\dagger_{2_\\beta} \\hat{a}_{3_\\beta} \\hat{a}_{0_\\alpha}$ is encoded as `[1a+ 2b+ 3b- 0a-]` and can be generated with the following code:"
            ]
        },
        {
            "cell_type": "code",
            "execution_count": 5,
            "metadata": {},
            "outputs": [
                {
                    "data": {
                        "text/latex": [
                            "$\\displaystyle (-2.000000 + 0.000000 i)\\;\\hat{a}_{1 \\alpha}^\\dagger\\hat{a}_{2 \\beta}^\\dagger\\hat{a}_{3 \\beta}\\hat{a}_{0 \\alpha}$"
                        ],
                        "text/plain": [
                            "<IPython.core.display.Math object>"
                        ]
                    },
                    "metadata": {},
                    "output_type": "display_data"
                }
            ],
            "source": [
                "op = forte.SparseOperator()\n",
                "op.add('[1a+ 2b+ 3b- 0a-]',-2.0)\n",
                "latex(op)"
            ]
        },
        {
            "cell_type": "markdown",
            "metadata": {},
            "source": [
                "We can also directly build an operator using the `sparse_operator` convenience fuction, which uses the same syntax of `add` but allows to pass one or more operators as a list of pairs. For example, if we want to build the operator $\\frac{1}{2} (\\hat{a}_{0_\\alpha} - \\hat{a}^\\dagger_{0_\\alpha})$ we can do the following:"
            ]
        },
        {
            "cell_type": "code",
            "execution_count": 6,
            "metadata": {},
            "outputs": [
                {
                    "data": {
                        "text/latex": [
                            "$\\displaystyle (-0.500000 + 0.000000 i)\\;\\hat{a}_{0 \\alpha}^\\dagger + (0.500000 + 0.000000 i)\\;\\hat{a}_{0 \\alpha}$"
                        ],
                        "text/plain": [
                            "<IPython.core.display.Math object>"
                        ]
                    },
                    "metadata": {},
                    "output_type": "display_data"
                }
            ],
            "source": [
                "op = forte.sparse_operator([('[0a-]',0.5),('[0a+]',-0.5)])\n",
                "# same as \n",
                "# op = forte.SparseOperator()\n",
                "# op.add('[0a-]',0.5)\n",
                "# op.add('[0a+]',-0.5)\n",
                "\n",
                "latex(op)"
            ]
        },
        {
            "cell_type": "markdown",
            "metadata": {},
            "source": [
                "Note that `SparseOperator` objects are addressable by operator string:"
            ]
        },
        {
            "cell_type": "code",
            "execution_count": 7,
            "metadata": {},
            "outputs": [
                {
                    "name": "stdout",
                    "output_type": "stream",
                    "text": [
                        "op['[0a-]'] = (0.5+0j)\n",
                        "op['[0a+]'] = (-0.5+0j)\n",
                        "op['[]'] = 0j\n"
                    ]
                }
            ],
            "source": [
                "print(f\"{op['[0a-]'] = }\")\n",
                "print(f\"{op['[0a+]'] = }\")\n",
                "print(f\"{op['[]'] = }\")"
            ]
        },
        {
            "cell_type": "markdown",
            "metadata": {},
            "source": [
                "They are also iterable, returning a pair of `SQOperatorString` and a coefficient"
            ]
        },
        {
            "cell_type": "code",
            "execution_count": 8,
            "metadata": {},
            "outputs": [
                {
                    "name": "stdout",
                    "output_type": "stream",
                    "text": [
                        "[0a+] (-0.5+0j)\n",
                        "[0a-] (0.5+0j)\n"
                    ]
                }
            ],
            "source": [
                "for sqop, c in op:\n",
                "    print(sqop, c)"
            ]
        },
        {
            "cell_type": "markdown",
            "metadata": {},
            "source": [
                "### Ordering of second quantized operators in the `SparseOperator` object\n",
                "\n",
                "<div class=\"alert alert-block alert-warning\">\n",
                "Note that <code>add</code> <b>assumes that the operators will match a specific order!</b>\n",
                "\n",
                "This canonical order is defined as\n",
                "$$\n",
                "(\\alpha \\text{ creation}) (\\beta \\text{ creation}) (\\beta \\text{ annihilation}) (\\alpha \\text{ annihilation})\n",
                "$$\n",
                "with the creation (annihilation) operators ordered within each group in increasing (decreasing) order.\n",
                "The following operator satisfies the canonical order:\n",
                "$$\n",
                "+\\;\\hat{a}_{2 \\alpha}^\\dagger\\hat{a}_{3 \\alpha}^\\dagger\\hat{a}_{2 \\beta}^\\dagger\\hat{a}_{3 \\beta}^\\dagger\\hat{a}_{1 \\beta}\\hat{a}_{0 \\beta}\\hat{a}_{1 \\alpha}\\hat{a}_{0 \\alpha}\n",
                "$$\n",
                "</div>\n",
                "\n",
                "If you want to work with operators that do not follow this ordering, for example, $\\hat{a}_{1 \\alpha}\\hat{a}^\\dagger_{0 \\alpha}$, you will need to work out an equivalent representation, for example, $\\hat{a}_{0 \\alpha}\\hat{a}^\\dagger_{0 \\alpha} = 1 - \\hat{a}^\\dagger_{0 \\alpha}\\hat{a}_{0 \\alpha}$.\n",
                "\n",
                "These examples illustrate valid operators in canonical order"
            ]
        },
        {
            "cell_type": "code",
            "execution_count": 9,
            "metadata": {},
            "outputs": [
                {
                    "data": {
                        "text/latex": [
                            "$\\displaystyle \\;\\hat{a}_{1 \\beta}\\hat{a}_{0 \\beta}\\hat{a}_{1 \\alpha}\\hat{a}_{0 \\alpha}$"
                        ],
                        "text/plain": [
                            "<IPython.core.display.Math object>"
                        ]
                    },
                    "metadata": {},
                    "output_type": "display_data"
                },
                {
                    "data": {
                        "text/latex": [
                            "$\\displaystyle \\;\\hat{a}_{0 \\alpha}^\\dagger\\hat{a}_{1 \\alpha}^\\dagger\\hat{a}_{0 \\beta}^\\dagger\\hat{a}_{1 \\beta}^\\dagger$"
                        ],
                        "text/plain": [
                            "<IPython.core.display.Math object>"
                        ]
                    },
                    "metadata": {},
                    "output_type": "display_data"
                },
                {
                    "data": {
                        "text/latex": [
                            "$\\displaystyle \\;\\hat{a}_{2 \\alpha}^\\dagger\\hat{a}_{3 \\alpha}^\\dagger\\hat{a}_{2 \\beta}^\\dagger\\hat{a}_{3 \\beta}^\\dagger\\hat{a}_{1 \\beta}\\hat{a}_{0 \\beta}\\hat{a}_{1 \\alpha}\\hat{a}_{0 \\alpha}$"
                        ],
                        "text/plain": [
                            "<IPython.core.display.Math object>"
                        ]
                    },
                    "metadata": {},
                    "output_type": "display_data"
                }
            ],
            "source": [
                "# beta annihilation operators appear to the left of alpha annihilation\n",
                "# within each group, orbital indices decrease going from left to right\n",
                "op = forte.sparse_operator('[1b- 0b- 1a- 0a-]',1.0)\n",
                "latex(op)\n",
                "\n",
                "# beta creation operators appear to the right of alpha annihilation\n",
                "# within each group, orbitals increase going from left to right\n",
                "op = forte.sparse_operator('[0a+ 1a+ 0b+ 1b+]',1.0)\n",
                "latex(op)\n",
                "\n",
                "# creation operators appear to the left of annihilation operators\n",
                "op = forte.sparse_operator('[2a+ 3a+ 2b+ 3b+ 1b- 0b- 1a- 0a-]',1.0)\n",
                "latex(op)"
            ]
        },
        {
            "cell_type": "markdown",
            "metadata": {},
            "source": [
                "When the operator passed is out of order, an exception is thrown. For example, the following code\n",
                "```python\n",
                "op = forte.sparse_operator('[0b- 1b- 1a- 0a-]',1.0)\n",
                "latex(op)\n",
                "```\n",
                "leads to the following RuntimeError"
            ]
        },
        {
            "cell_type": "code",
            "execution_count": 10,
            "metadata": {},
            "outputs": [
                {
                    "name": "stdout",
                    "output_type": "stream",
                    "text": [
                        "RuntimeError: Trying to initialize a SQOperator object with a product of\n",
                        "operators that are not arranged in the canonical form\n",
                        "\n",
                        "    a+_p1 a+_p2 ...  a+_P1 a+_P2 ...   ... a-_Q2 a-_Q1   ... a-_q2 a-_q1\n",
                        "    alpha creation   beta creation    beta annihilation  alpha annihilation\n",
                        "\n",
                        "with indices sorted as\n",
                        "\n",
                        "    (p1 < p2 < ...) (P1 < P2 < ...)  (... > Q2 > Q1) (... > q2 > q1)\n",
                        "The operators are: 0a- 1a- 1b- 0b- \n"
                    ]
                }
            ],
            "source": [
                "try:\n",
                "    op = forte.sparse_operator('[0b- 1b- 1a- 0a-]',1.0)\n",
                "except Exception as e:\n",
                "    print(f'RuntimeError: {e}')"
            ]
        },
        {
            "cell_type": "markdown",
            "metadata": {},
            "source": [
                "This error can be overriden. However, **this is recommended only if you understand what happens when you do so**. The function `add_term_from_str` has an extra option that allows it to reorder the operators to the canonical form. The final operator is multiplied by a sign factor that corresponds to the parity of the permutation that connects the initial and final ordering. This code illustrates how this reordering happens"
            ]
        },
        {
            "cell_type": "code",
            "execution_count": 11,
            "metadata": {},
            "outputs": [
                {
                    "data": {
                        "text/latex": [
                            "$\\displaystyle -\\;\\hat{a}_{1 \\beta}\\hat{a}_{0 \\beta}\\hat{a}_{1 \\alpha}\\hat{a}_{0 \\alpha}$"
                        ],
                        "text/plain": [
                            "<IPython.core.display.Math object>"
                        ]
                    },
                    "metadata": {},
                    "output_type": "display_data"
                },
                {
                    "data": {
                        "text/latex": [
                            "$\\displaystyle -\\;\\hat{a}_{1 \\beta}\\hat{a}_{0 \\beta}\\hat{a}_{1 \\alpha}\\hat{a}_{0 \\alpha}$"
                        ],
                        "text/plain": [
                            "<IPython.core.display.Math object>"
                        ]
                    },
                    "metadata": {},
                    "output_type": "display_data"
                },
                {
                    "data": {
                        "text/latex": [
                            "$\\displaystyle -\\;\\hat{a}_{1 \\beta}\\hat{a}_{0 \\beta}\\hat{a}_{1 \\alpha}\\hat{a}_{0 \\alpha}$"
                        ],
                        "text/plain": [
                            "<IPython.core.display.Math object>"
                        ]
                    },
                    "metadata": {},
                    "output_type": "display_data"
                },
                {
                    "data": {
                        "text/latex": [
                            "$\\displaystyle \\;\\hat{a}_{2 \\alpha}^\\dagger\\hat{a}_{3 \\alpha}^\\dagger\\hat{a}_{2 \\beta}^\\dagger\\hat{a}_{3 \\beta}^\\dagger\\hat{a}_{1 \\beta}\\hat{a}_{0 \\beta}\\hat{a}_{1 \\alpha}\\hat{a}_{0 \\alpha}$"
                        ],
                        "text/plain": [
                            "<IPython.core.display.Math object>"
                        ]
                    },
                    "metadata": {},
                    "output_type": "display_data"
                }
            ],
            "source": [
                "# the operators [0a- 0b- 1a- 1b-] are reordered and the final sign is -1. \n",
                "op = forte.sparse_operator('[0a- 0b- 1a- 1b-]',1.0,allow_reordering=True)\n",
                "latex(op)\n",
                "\n",
                "# the operators [0a- 0b- 1a- 1b-] are reordered and the final sign is -1. \n",
                "op = forte.sparse_operator('[0a- 0b- 1a- 1b-]',1.0,allow_reordering=True)\n",
                "latex(op)\n",
                "\n",
                "# The operator [0a- 0b- 1a- 1b-] (see above) is equivalent to -[1a- 1b- 0b- 0a-].\n",
                "op = forte.sparse_operator('[1a- 1b- 0b- 0a-]',-1.0,allow_reordering=True)\n",
                "latex(op)\n",
                "\n",
                "# Another example that illustrates the reordering of operators\n",
                "op = forte.sparse_operator('[0a- 0b- 1a- 1b- 2a+ 2b+ 3a+ 3b+]',1.0,allow_reordering=True)\n",
                "latex(op)"
            ]
        },
        {
            "cell_type": "markdown",
            "metadata": {},
            "source": [
                "An exception is also thrown if two operators are repeated. For example, the following code\n",
                "```python\n",
                "op = forte.sparse_operator('[0b- 0b-]',1.0)\n",
                "```\n",
                "gives to the following RuntimeError"
            ]
        },
        {
            "cell_type": "code",
            "execution_count": 12,
            "metadata": {},
            "outputs": [
                {
                    "name": "stdout",
                    "output_type": "stream",
                    "text": [
                        "RuntimeError: Trying to initialize a SQOperator object with a product of\n",
                        "operators that contains repeated operators.\n",
                        "\n"
                    ]
                }
            ],
            "source": [
                "try:\n",
                "    op = forte.sparse_operator('[0b- 0b-]',1.0)\n",
                "except Exception as e:\n",
                "    print(f'RuntimeError: {e}')"
            ]
        },
        {
            "cell_type": "markdown",
            "metadata": {},
            "source": [
                "### Specifying a full operator with the `SparseOperator` class\n",
                "\n",
                "To form a full operator we can just keep adding terms to a `SparseOperator` object or directly create a `SpareOperator` object by passing a list of pairs (string,coefficient) to the function `sparse_operator`. For example:"
            ]
        },
        {
            "cell_type": "code",
            "execution_count": 13,
            "metadata": {},
            "outputs": [
                {
                    "data": {
                        "text/latex": [
                            "$\\displaystyle (0.100000 + 0.000000 i)\\;\\hat{a}_{1 \\alpha}^\\dagger\\hat{a}_{1 \\beta}^\\dagger\\hat{a}_{0 \\beta}\\hat{a}_{0 \\alpha} + (0.300000 + 0.000000 i)\\;\\hat{a}_{1 \\alpha}^\\dagger\\hat{a}_{0 \\alpha} + (0.300000 + 0.000000 i)\\;\\hat{a}_{1 \\beta}^\\dagger\\hat{a}_{0 \\beta}$"
                        ],
                        "text/plain": [
                            "<IPython.core.display.Math object>"
                        ]
                    },
                    "metadata": {},
                    "output_type": "display_data"
                },
                {
                    "data": {
                        "text/latex": [
                            "$\\displaystyle (0.100000 + 0.000000 i)\\;\\hat{a}_{1 \\alpha}^\\dagger\\hat{a}_{1 \\beta}^\\dagger\\hat{a}_{0 \\beta}\\hat{a}_{0 \\alpha} + (0.300000 + 0.000000 i)\\;\\hat{a}_{1 \\alpha}^\\dagger\\hat{a}_{0 \\alpha} + (0.300000 + 0.000000 i)\\;\\hat{a}_{1 \\beta}^\\dagger\\hat{a}_{0 \\beta}$"
                        ],
                        "text/plain": [
                            "<IPython.core.display.Math object>"
                        ]
                    },
                    "metadata": {},
                    "output_type": "display_data"
                }
            ],
            "source": [
                "op1 = forte.SparseOperator()\n",
                "op1.add('[1a+ 0a-]',0.3)\n",
                "op1.add('[1b+ 0b-]',0.3)\n",
                "op1.add('[1a+ 1b+ 0b- 0a-]',0.1)\n",
                "latex(op1)\n",
                "\n",
                "op2 = forte.sparse_operator([('[1a+ 0a-]',0.3),\n",
                "                            ('[1b+ 0b-]',0.3),\n",
                "                            ('[1a+ 1b+ 0b- 0a-]',0.1)])\n",
                "latex(op2)\n",
                "\n",
                "assert op1 == op2"
            ]
        },
        {
            "cell_type": "markdown",
            "metadata": {},
            "source": [
                "## Applying a `SparseOperator` to a `SparseState`\n",
                "\n",
                "To apply an operator to a state vector you can use the `apply` function of the `SparseState` class (or the function `forte.apply_op(op,psi)`). This function takes an operator (`op`) and applies it to the current state (`psi`), returning the state `|new_psi> = op |psi>`. For example, the following creates a CIS wave function using the operator\n",
                "$$\n",
                "\\hat{T} = 0.1\\; +0.3 \\left(\\hat{a}_{1 \\alpha}^\\dagger\\hat{a}_{0 \\alpha} + \\hat{a}_{1 \\beta}^\\dagger\\hat{a}_{0 \\beta} \\right)\n",
                "$$\n",
                "where the first term is just a scalar"
            ]
        },
        {
            "cell_type": "code",
            "execution_count": 14,
            "metadata": {},
            "outputs": [
                {
                    "name": "stdout",
                    "output_type": "stream",
                    "text": [
                        "|+-0> * (0.30000000,0.00000000)\n",
                        "|-+0> * (0.30000000,0.00000000)\n",
                        "|200> * (0.10000000,0.00000000)\n",
                        "\n"
                    ]
                }
            ],
            "source": [
                "op = forte.SparseOperator()\n",
                "op.add('[]',0.1)\n",
                "op.add('[1a+ 0a-]',0.3)\n",
                "op.add('[1b+ 0b-]',0.3)\n",
                "psi = forte.SparseState({ forte.det('2'): 1.0})\n",
                "new_psi = psi.apply(op)\n",
                "print(new_psi.str(3))\n",
                "\n",
                "# test the apply_op function\n",
                "assert new_psi[forte.det('2')] == 0.1\n",
                "assert new_psi[forte.det('-+')] == 0.3\n",
                "assert new_psi[forte.det('+-')] == 0.3"
            ]
        },
        {
            "cell_type": "markdown",
            "metadata": {},
            "source": [
                "### Exponential operator\n",
                "\n",
                "To apply the exponential operator $\\exp(\\hat{T})$ we can use the class `SparseExp` class. This class provides the method `apply_op` which takes as arguments the operator and the state"
            ]
        },
        {
            "cell_type": "code",
            "execution_count": 15,
            "metadata": {},
            "outputs": [
                {
                    "name": "stdout",
                    "output_type": "stream",
                    "text": [
                        "|020> * (0.09946538,0.00000000)\n",
                        "|-+0> * (0.33155128,0.00000000)\n",
                        "|+-0> * (0.33155128,0.00000000)\n",
                        "|200> * (1.10517092,0.00000000)\n",
                        "\n"
                    ]
                }
            ],
            "source": [
                "psi = forte.SparseState({ forte.det('2'): 1.0})\n",
                "exp_op = forte.SparseExp()\n",
                "new_psi = exp_op.apply_op(op,psi)\n",
                "print(new_psi.str(3))\n",
                "\n",
                "assert abs(new_psi[forte.det('200')]-1.105171) < 1e-6\n",
                "assert abs(new_psi[forte.det('020')]-0.099465) < 1e-6\n",
                "assert abs(new_psi[forte.det('+-0')]-0.331551) < 1e-6\n",
                "assert abs(new_psi[forte.det('-+0')]-0.331551) < 1e-6"
            ]
        },
        {
            "cell_type": "markdown",
            "metadata": {},
            "source": [
                "There are several variables that control the behavior of `apply`. For example, to compute the inverse, we can just apply $\\exp(-\\hat{T})$"
            ]
        },
        {
            "cell_type": "code",
            "execution_count": 16,
            "metadata": {},
            "outputs": [
                {
                    "name": "stdout",
                    "output_type": "stream",
                    "text": [
                        "|200> * (1.00000000,0.00000000)\n",
                        "\n"
                    ]
                }
            ],
            "source": [
                "new_psi2 = exp_op.apply_op(op,new_psi,scaling_factor=-1.0)\n",
                "print(new_psi2.str(3))"
            ]
        },
        {
            "cell_type": "markdown",
            "metadata": {},
            "source": [
                "We can also control other parameters, like the order of the Taylor expansion used to approximate $\\exp(\\hat{T})$ (`maxk`) and a threshold used to screen term (`screen_thresh`). For example, to apply $1 + \\hat{T}$ we can call"
            ]
        },
        {
            "cell_type": "code",
            "execution_count": 17,
            "metadata": {},
            "outputs": [
                {
                    "name": "stdout",
                    "output_type": "stream",
                    "text": [
                        "|-+0> * (0.30000000,0.00000000)\n",
                        "|+-0> * (0.30000000,0.00000000)\n",
                        "|200> * (1.10000000,0.00000000)\n",
                        "\n"
                    ]
                }
            ],
            "source": [
                "psi = forte.SparseState({ forte.det('2'): 1.0})\n",
                "exp_op = forte.SparseExp(maxk=1)\n",
                "new_psi = exp_op.apply_op(op,psi)\n",
                "print(new_psi.str(3))"
            ]
        },
        {
            "cell_type": "markdown",
            "metadata": {},
            "source": [
                "### Exponential of an anti-Hermitian operator\n",
                "\n",
                "The exponential function can also be used to compute the action of the anti-Hermitian operator $\\hat{T} - \\hat{T}^\\dagger$. This operation is implemented in the class `SparseExp` via the method `apply_antiherm` which takes as arguments the operator and the state. Here is a simple example:"
            ]
        },
        {
            "cell_type": "code",
            "execution_count": 18,
            "metadata": {},
            "outputs": [
                {
                    "name": "stdout",
                    "output_type": "stream",
                    "text": [
                        "|020> * (0.08733219,0.00000000)\n",
                        "|-+0> * (0.28232124,0.00000000)\n",
                        "|+-0> * (0.28232124,0.00000000)\n",
                        "|200> * (0.91266781,0.00000000)\n",
                        "\n"
                    ]
                }
            ],
            "source": [
                "psi = forte.SparseState({ forte.det('2'): 1.0})\n",
                "exp_op = forte.SparseExp()\n",
                "new_psi = exp_op.apply_antiherm(op,psi)\n",
                "print(new_psi.str(3))\n",
                "norm = forte.overlap(new_psi,new_psi)\n",
                "assert abs(norm-1.0) < 1e-6\n",
                "assert abs(new_psi[forte.det('200')]-0.912668) < 1e-6\n",
                "assert abs(new_psi[forte.det('020')]-0.087332) < 1e-6\n",
                "assert abs(new_psi[forte.det('+-0')]-0.282321) < 1e-6\n",
                "assert abs(new_psi[forte.det('-+0')]-0.282321) < 1e-6"
            ]
        },
        {
            "cell_type": "markdown",
            "metadata": {},
            "source": [
                "### Factorized exponential of an anti-Hermitian operator\n",
                "\n",
                "Another useful operator is the factorized exponential. Given a **list** of operators\n",
                "$$\n",
                "(t_1 \\hat{\\kappa}_1, t_2 \\hat{\\tau}_2, \\ldots,t_N \\hat{\\tau}_N)\n",
                "$$\n",
                "the factorized exponential is defined as\n",
                "$$\n",
                "\\prod_\\mu^N \\exp(t_\\mu \\hat{\\tau}_\\mu) = \\exp(t_N \\hat{\\tau}_N) \\cdots \\exp(t_1 \\hat{\\tau}_1)  \n",
                "$$\n",
                "This operation is implemented in the class `SparseFactExp`.\n",
                "This class provides the method `apply_antiherm` which takes as arguments the operator and the state. Here is a simple example:"
            ]
        },
        {
            "cell_type": "code",
            "execution_count": 19,
            "metadata": {},
            "outputs": [
                {
                    "name": "stdout",
                    "output_type": "stream",
                    "text": [
                        "|+-0> * (0.28232124,0.00000000)\n",
                        "|020> * (0.08733219,0.00000000)\n",
                        "|-+0> * (0.28232124,0.00000000)\n",
                        "|200> * (0.91266781,0.00000000)\n",
                        "\n"
                    ]
                }
            ],
            "source": [
                "op = forte.SparseOperatorList()\n",
                "op.add('[1a+ 0a-]',0.3)\n",
                "op.add('[1b+ 0b-]',0.3)\n",
                "\n",
                "psi = forte.SparseState({ forte.det('2'): 1.0})\n",
                "factexp_op = forte.SparseFactExp()\n",
                "new_psi = factexp_op.apply_antiherm(op,psi)\n",
                "print(new_psi.str(3))\n",
                "\n",
                "# test the apply_antiherm function\n",
                "assert abs(new_psi[forte.det('200')]-0.912668) < 1e-6\n",
                "assert abs(new_psi[forte.det('020')]-0.087332) < 1e-6\n",
                "assert abs(new_psi[forte.det('+-0')]-0.282321) < 1e-6\n",
                "assert abs(new_psi[forte.det('-+0')]-0.282321) < 1e-6"
            ]
        },
        {
            "cell_type": "markdown",
            "metadata": {},
            "source": [
                "To compute the inverse of the factorized exponential, just pass the option `inverse=True` to `apply_antiherm`:"
            ]
        },
        {
            "cell_type": "code",
            "execution_count": 20,
            "metadata": {},
            "outputs": [
                {
                    "name": "stdout",
                    "output_type": "stream",
                    "text": [
                        "|200> * (1.00000000,0.00000000)\n",
                        "\n"
                    ]
                }
            ],
            "source": [
                "starting_psi = factexp_op.apply_antiherm(op,new_psi,inverse=True)\n",
                "print(starting_psi.str(3))"
            ]
        },
        {
            "cell_type": "markdown",
            "metadata": {},
            "source": [
                "## Operator manipulation (New!)\n",
                "\n",
                "### Algebraic operations\n",
                "\n",
                "Forte allows the user to multiply and add many-body operators represented with the `SparseOperator` class. This allows the evaluation of operator expressions.\n",
                "\n",
                "Operators can be scaled:"
            ]
        },
        {
            "cell_type": "code",
            "execution_count": 21,
            "metadata": {},
            "outputs": [
                {
                    "name": "stdout",
                    "output_type": "stream",
                    "text": [
                        "A *= 0.3j:\n"
                    ]
                },
                {
                    "data": {
                        "text/latex": [
                            "$\\displaystyle (1.000000 + 0.300000 i)\\;\\hat{a}_{1 \\alpha}^\\dagger\\hat{a}_{0 \\alpha}$"
                        ],
                        "text/plain": [
                            "<IPython.core.display.Math object>"
                        ]
                    },
                    "metadata": {},
                    "output_type": "display_data"
                }
            ],
            "source": [
                "A = forte.sparse_operator('[1a+ 0a-]',1.0)\n",
                "B = forte.sparse_operator('[1b+ 0b-]',1.0)\n",
                "\n",
                "A *= 1.0 + 0.3j\n",
                "print(\"A *= 0.3j:\")\n",
                "latex(A)"
            ]
        },
        {
            "cell_type": "markdown",
            "metadata": {},
            "source": [
                "Two operators can be added or subtracted:"
            ]
        },
        {
            "cell_type": "code",
            "execution_count": 22,
            "metadata": {},
            "outputs": [
                {
                    "name": "stdout",
                    "output_type": "stream",
                    "text": [
                        "A + B:\n"
                    ]
                },
                {
                    "data": {
                        "text/latex": [
                            "$\\displaystyle \\;\\hat{a}_{1 \\alpha}^\\dagger\\hat{a}_{0 \\alpha} + \\;\\hat{a}_{1 \\beta}^\\dagger\\hat{a}_{0 \\beta}$"
                        ],
                        "text/plain": [
                            "<IPython.core.display.Math object>"
                        ]
                    },
                    "metadata": {},
                    "output_type": "display_data"
                },
                {
                    "name": "stdout",
                    "output_type": "stream",
                    "text": [
                        "A - B:\n"
                    ]
                },
                {
                    "data": {
                        "text/latex": [
                            "$\\displaystyle -\\;\\hat{a}_{1 \\beta}^\\dagger\\hat{a}_{0 \\beta} + \\;\\hat{a}_{1 \\alpha}^\\dagger\\hat{a}_{0 \\alpha}$"
                        ],
                        "text/plain": [
                            "<IPython.core.display.Math object>"
                        ]
                    },
                    "metadata": {},
                    "output_type": "display_data"
                }
            ],
            "source": [
                "A = forte.sparse_operator('[1a+ 0a-]',1.0)\n",
                "B = forte.sparse_operator('[1b+ 0b-]',1.0)\n",
                "A_plus_B = A + B\n",
                "print(\"A + B:\")\n",
                "latex(A_plus_B)\n",
                "\n",
                "A_minus_B = A - B   \n",
                "print(\"A - B:\")\n",
                "latex(A_minus_B)"
            ]
        },
        {
            "cell_type": "markdown",
            "metadata": {},
            "source": [
                "Two operators can be multiplied:"
            ]
        },
        {
            "cell_type": "code",
            "execution_count": 23,
            "metadata": {},
            "outputs": [
                {
                    "name": "stdout",
                    "output_type": "stream",
                    "text": [
                        "A x B:\n"
                    ]
                },
                {
                    "data": {
                        "text/latex": [
                            "$\\displaystyle -\\;\\hat{a}_{2 \\alpha}^\\dagger\\hat{a}_{3 \\alpha}^\\dagger\\hat{a}_{1 \\alpha}\\hat{a}_{0 \\alpha}$"
                        ],
                        "text/plain": [
                            "<IPython.core.display.Math object>"
                        ]
                    },
                    "metadata": {},
                    "output_type": "display_data"
                },
                {
                    "name": "stdout",
                    "output_type": "stream",
                    "text": [
                        "A *= B:\n"
                    ]
                },
                {
                    "data": {
                        "text/latex": [
                            "$\\displaystyle -\\;\\hat{a}_{2 \\alpha}^\\dagger\\hat{a}_{3 \\alpha}^\\dagger\\hat{a}_{1 \\alpha}\\hat{a}_{0 \\alpha}$"
                        ],
                        "text/plain": [
                            "<IPython.core.display.Math object>"
                        ]
                    },
                    "metadata": {},
                    "output_type": "display_data"
                }
            ],
            "source": [
                "A = forte.sparse_operator('[2a+ 1a-]',1.0)\n",
                "B = forte.sparse_operator('[3a+ 0a-]',1.0)\n",
                "AB = A * B\n",
                "print(\"A x B:\")\n",
                "latex(AB)\n",
                "\n",
                "A *= B\n",
                "print(\"A *= B:\")\n",
                "latex(A)"
            ]
        },
        {
            "cell_type": "markdown",
            "metadata": {},
            "source": [
                "Note that the operators are returned in normal ordered form (with respect to the true vacuum).\n",
                "For example, in the following case a contraction is possible among the operators:"
            ]
        },
        {
            "cell_type": "code",
            "execution_count": 24,
            "metadata": {},
            "outputs": [
                {
                    "name": "stdout",
                    "output_type": "stream",
                    "text": [
                        "A x B:\n"
                    ]
                },
                {
                    "data": {
                        "text/latex": [
                            "$\\displaystyle -\\;\\hat{a}_{2 \\alpha}^\\dagger\\hat{a}_{3 \\alpha}^\\dagger\\hat{a}_{3 \\alpha}\\hat{a}_{0 \\alpha} + \\;\\hat{a}_{2 \\alpha}^\\dagger\\hat{a}_{0 \\alpha}$"
                        ],
                        "text/plain": [
                            "<IPython.core.display.Math object>"
                        ]
                    },
                    "metadata": {},
                    "output_type": "display_data"
                }
            ],
            "source": [
                "A = forte.sparse_operator('[2a+ 3a-]',1.0)\n",
                "B = forte.sparse_operator('[3a+ 0a-]',1.0)\n",
                "AB = A * B\n",
                "print(\"A x B:\")\n",
                "latex(AB)"
            ]
        },
        {
            "cell_type": "markdown",
            "metadata": {},
            "source": [
                "### Similarity transformations of operators\n",
                "\n",
                "Forte can also perform similarity transformations of Hamiltonians (see [arXiv:2408.09636](https://arxiv.org/abs/2408.09636)). For example, the factorized unitary transformation of a `SparseOperator` $O$ by a sequence of exponentials:\n",
                "$$\n",
                "\\bar{O} = \\cdots \\exp(-t_2 \\hat{\\tau}_2) \\exp(-t_1 \\hat{\\tau}_1)  O \\exp(t_1 \\hat{\\tau}_1) \\exp(t_2 \\hat{\\tau}_2) \\cdots  \n",
                "$$\n",
                "can be evaluated with the function `fact_unitary_trans_antiherm`"
            ]
        },
        {
            "cell_type": "code",
            "execution_count": 25,
            "metadata": {},
            "outputs": [
                {
                    "name": "stdout",
                    "output_type": "stream",
                    "text": [
                        "Untransformed operator = (1 + 0i) * [1a+ 0a-]\n",
                        "Transformation generator = (0.3 + 0i) * [2a+ 0a-]\n",
                        "(0.5 + 0i) * [1a+ 0a-]\n"
                    ]
                }
            ],
            "source": [
                "O = forte.sparse_operator('[1a+ 0a-]',1.0)\n",
                "print(f'Untransformed operator = {O}')\n",
                "T = forte.operator_list([('[2a+ 0a-]',0.3),('[1a+ 0a-]',0.5)])\n",
                "print(f'Transformation generator = {T}')"
            ]
        },
        {
            "cell_type": "code",
            "execution_count": 26,
            "metadata": {},
            "outputs": [
                {
                    "name": "stdout",
                    "output_type": "stream",
                    "text": [
                        "Transformed operator = (-0.1416799342470381 + 0i) * [0a+ 2a-]\n",
                        "(-0.21958299058553404 + 0i) * [0a+ 1a-]\n",
                        "(-0.2593433800522308 + 0i) * [1a+ 2a-]\n",
                        "(-0.40194396816372097 + 0i) * [1a+ 1a-]\n",
                        "(0.40194396816372097 + 0i) * [0a+ 0a-]\n",
                        "(0.735753498540072 + 0i) * [1a+ 0a-]\n"
                    ]
                }
            ],
            "source": [
                "Obar = O.fact_unitary_trans_antiherm(T)\n",
                "print(f'Transformed operator = {Obar}')\n",
                "\n",
                "assert Obar['[1a+ 2a-]'] == -0.2593433800522308\n",
                "assert Obar['[1a+ 0a-]'] == 0.735753498540072"
            ]
        },
        {
            "cell_type": "markdown",
            "metadata": {},
            "source": [
                "It is also possible to evaluate the gradient of a transformation:\n",
                "$$\n",
                "\\frac{\\partial}{\\partial t_k} \\bar{O} = \\frac{\\partial}{\\partial t_k} \\cdots \\exp(-t_2 \\hat{\\tau}_2) \\exp(-t_1 \\hat{\\tau}_1)  O \\exp(t_1 \\hat{\\tau}_1) \\exp(t_2 \\hat{\\tau}_2) \\cdots  \n",
                "$$\n",
                "This quantity can be evaluated with the function `fact_unitary_trans_antiherm_grad`\n"
            ]
        },
        {
            "cell_type": "code",
            "execution_count": 27,
            "metadata": {},
            "outputs": [
                {
                    "name": "stdout",
                    "output_type": "stream",
                    "text": [
                        "Transformed operator = (-0.12433583966497525 + 0i) * [0a+ 0a-]\n",
                        "(-0.22759522787554526 + 0i) * [1a+ 0a-]\n",
                        "(-0.45801271084729195 + 0i) * [0a+ 2a-]\n",
                        "(-0.8383866435942036 + 0i) * [1a+ 2a-]\n",
                        "(0.0679249787857943 + 0i) * [0a+ 1a-]\n",
                        "(0.12433583966497525 + 0i) * [1a+ 1a-]\n"
                    ]
                }
            ],
            "source": [
                "Obar_grad = O.fact_unitary_trans_antiherm_grad(T,0)\n",
                "print(f'Transformed operator = {Obar_grad}')\n",
                "\n",
                "assert Obar_grad['[0a+ 0a-]'] == -0.12433583966497525\n",
                "assert Obar_grad['[0a+ 1a-]'] == 0.0679249787857943"
            ]
        },
        {
            "cell_type": "markdown",
            "metadata": {},
            "source": [
                "And we can easily verify that the computed gradients agree with numerical ones:"
            ]
        },
        {
            "cell_type": "code",
            "execution_count": 28,
            "metadata": {},
            "outputs": [
                {
                    "name": "stdout",
                    "output_type": "stream",
                    "text": [
                        "Analytical gradient = (-0.12433583966497525 + 0i) * [0a+ 0a-]\n",
                        "(-0.22759522787554526 + 0i) * [1a+ 0a-]\n",
                        "(-0.45801271084729195 + 0i) * [0a+ 2a-]\n",
                        "(-0.8383866435942036 + 0i) * [1a+ 2a-]\n",
                        "(0.0679249787857943 + 0i) * [0a+ 1a-]\n",
                        "(0.12433583966497525 + 0i) * [1a+ 1a-]\n",
                        "Numerical gradient = (-0.12433583965187898 + 0i) * [0a+ 0a-]\n",
                        "(-0.2275952278307791 + 0i) * [1a+ 0a-]\n",
                        "(-0.4580127108411158 + 0i) * [0a+ 2a-]\n",
                        "(-0.8383866435812681 + 0i) * [1a+ 2a-]\n",
                        "(0.06792497878049808 + 0i) * [0a+ 1a-]\n",
                        "(0.12433583965187898 + 0i) * [1a+ 1a-]\n",
                        "Difference norm = 5.0799151798035313e-11\n",
                        "Analytical gradient = (-0.2593433800522308 + 0i) * [0a+ 2a-]\n",
                        "(-0.5161705079545379 + 0i) * [1a+ 1a-]\n",
                        "(-0.8038879363274419 + 0i) * [0a+ 1a-]\n",
                        "(-0.8038879363274419 + 0i) * [1a+ 0a-]\n",
                        "(0.1416799342470381 + 0i) * [1a+ 2a-]\n",
                        "(0.5161705079545379 + 0i) * [0a+ 0a-]\n",
                        "Numerical gradient = (-0.25934338004907076 + 0i) * [0a+ 2a-]\n",
                        "(-0.5161705079470558 + 0i) * [1a+ 1a-]\n",
                        "(-0.8038879363292395 + 0i) * [1a+ 0a-]\n",
                        "(-0.8038879363431173 + 0i) * [0a+ 1a-]\n",
                        "(0.14167993425684422 + 0i) * [1a+ 2a-]\n",
                        "(0.5161705079470558 + 0i) * [0a+ 0a-]\n",
                        "Difference norm = 2.1611528605378393e-11\n"
                    ]
                }
            ],
            "source": [
                "h = 1e-6\n",
                "for i in range(2):\n",
                "    Obar_grad = O.fact_unitary_trans_antiherm_grad(T,i)\n",
                "    print(f'Analytical gradient = {Obar_grad}')\n",
                "\n",
                "    # Two-point symmetric finite difference gradient\n",
                "    Tp = forte.SparseOperatorList(T)\n",
                "    Tp[i] = T[i] + h\n",
                "    Tm = forte.SparseOperatorList(T)\n",
                "    Tm[i] = T[i] - h\n",
                "    Obar_grad_num = (O.fact_unitary_trans_antiherm(Tp) - O.fact_unitary_trans_antiherm(Tm))/(2 * h)\n",
                "    print(f'Numerical gradient = {Obar_grad_num}')\n",
                "\n",
                "    print(f'Difference norm = {(Obar_grad - Obar_grad_num).norm()}')\n",
                "    assert (Obar_grad - Obar_grad_num).norm() < 1e-6"
            ]
        }
    ],
    "metadata": {
        "kernelspec": {
            "display_name": "forte",
            "language": "python",
            "name": "python3"
        },
        "language_info": {
            "codemirror_mode": {
                "name": "ipython",
                "version": 3
            },
            "file_extension": ".py",
            "mimetype": "text/x-python",
            "name": "python",
            "nbconvert_exporter": "python",
            "pygments_lexer": "ipython3",
            "version": "3.11.10"
        }
    },
    "nbformat": 4,
    "nbformat_minor": 4
}
