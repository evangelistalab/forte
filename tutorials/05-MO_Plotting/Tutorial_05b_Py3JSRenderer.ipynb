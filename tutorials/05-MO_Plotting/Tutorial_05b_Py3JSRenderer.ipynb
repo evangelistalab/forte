{
 "cells": [
  {
   "cell_type": "markdown",
   "metadata": {},
   "source": [
    "# Forte Tutorial 5b: Forte's pythreejs Renderer\n",
    "\n",
    "---\n",
    "\n",
    "In this tutorial we are going to explore the 3D renderer avaiable in forte."
   ]
  },
  {
   "cell_type": "markdown",
   "metadata": {},
   "source": [
    "Let's import the `psi4` and `forte` modules, including `the forte.utils` submodule"
   ]
  },
  {
   "cell_type": "code",
   "execution_count": null,
   "metadata": {},
   "outputs": [],
   "source": [
    "import psi4\n",
    "import forte\n",
    "import forte.utils"
   ]
  },
  {
   "cell_type": "markdown",
   "metadata": {},
   "source": [
    "Next, we will define some colors"
   ]
  },
  {
   "cell_type": "code",
   "execution_count": null,
   "metadata": {},
   "outputs": [],
   "source": [
    "red = '#E4413C'\n",
    "orange = '#E98E34'\n",
    "yellow = '#F5E34C'\n",
    "lime = '#B1CB44'\n",
    "green = '#5BB13B'\n",
    "emerald = '#41936B'\n",
    "teal = '#2F6E83'\n",
    "prussian = '#274F92'\n",
    "blue = '#282F99'\n",
    "violet = '#533498'\n",
    "purple = '#94258C'\n",
    "magenta = '#C12858'\n",
    "\n",
    "colors = {'red' : '#E4413C',\n",
    "'orange' : '#E98E34',\n",
    "'yellow' : '#F5E34C',\n",
    "'lime' : '#B1CB44',\n",
    "'green' : '#5BB13B',\n",
    "'emerald' : '#41936B',\n",
    "'teal' : '#2F6E83',\n",
    "'prussian' : '#274F92',\n",
    "'blue' : '#282F99',\n",
    "'violet' : '#533498',\n",
    "'purple' :'#94258C',\n",
    "'magenta' : '#C12858'}\n"
   ]
  },
  {
   "cell_type": "markdown",
   "metadata": {},
   "source": [
    "## Creating a renderer object\n",
    "We will start by creating a renderer object and set the dimensions"
   ]
  },
  {
   "cell_type": "code",
   "execution_count": null,
   "metadata": {},
   "outputs": [],
   "source": [
    "renderer = forte.utils.Py3JSRenderer(width=400, height=400)"
   ]
  },
  {
   "cell_type": "markdown",
   "metadata": {},
   "source": [
    "To visualize the renderer we call the `display()` function"
   ]
  },
  {
   "cell_type": "code",
   "execution_count": null,
   "metadata": {},
   "outputs": [],
   "source": [
    "renderer.display()"
   ]
  },
  {
   "cell_type": "markdown",
   "metadata": {},
   "source": [
    "After we execute this command you should see an empty white are of dimension 400 x 400 pixels.\n",
    "\n",
    "---\n",
    "\n",
    "## Py3JSRenderer basic elements\n",
    "The `Py3JSRenderer` class can visualize molecule, cube files, and some simple elements like arrows, planes, spheres. Here is the class specification"
   ]
  },
  {
   "cell_type": "code",
   "execution_count": null,
   "metadata": {},
   "outputs": [],
   "source": [
    "help(renderer)"
   ]
  },
  {
   "cell_type": "markdown",
   "metadata": {},
   "source": [
    "---\n",
    "### Arrows\n",
    "Let's take a look at arrows first. The next three commands add arrows to the rendering. An arrow is created with the `add_arrow` function. This requires a starting point (`xyz1`) and ending point (`xyz2`) and a color (in hexadecimal code)\n",
    "\n",
    "The following code creates three arrows pointing in the x, y, z directions coded in red, green, blue, respectively. In this tutorial we will stay consistent and so the arrows will be color coded `x <-> red`, `y <-> green`, `z <-> blue` as in RGB.  After executing this code, scroll up to see the output"
   ]
  },
  {
   "cell_type": "code",
   "execution_count": null,
   "metadata": {},
   "outputs": [],
   "source": [
    "help(renderer.add_arrow)"
   ]
  },
  {
   "cell_type": "code",
   "execution_count": null,
   "metadata": {},
   "outputs": [],
   "source": [
    "renderer.add_arrow((0,0,0),(1,0,0),red)\n",
    "renderer.add_arrow((0,0,0),(0,1,0),green)\n",
    "renderer.add_arrow((0,0,0),(0,0,1),blue)"
   ]
  },
  {
   "cell_type": "markdown",
   "metadata": {},
   "source": [
    "---\n",
    "### Planes\n",
    "\n",
    "The second type of element supported by `Py3JSRenderer` is a plane. The following code plots three planes lying on the yz, xz, and xy planes and their respective normal unit vectors."
   ]
  },
  {
   "cell_type": "code",
   "execution_count": null,
   "metadata": {},
   "outputs": [],
   "source": [
    "help(renderer.add_plane)"
   ]
  },
  {
   "cell_type": "code",
   "execution_count": null,
   "metadata": {},
   "outputs": [],
   "source": [
    "renderer2 = forte.utils.Py3JSRenderer(width=400, height=400)\n",
    "\n",
    "renderer2.add_arrow((0,0,0),(1,0,0),red)\n",
    "renderer2.add_arrow((0,0,0),(0,1,0),green)\n",
    "renderer2.add_arrow((0,0,0),(0,0,1),blue)\n",
    "\n",
    "renderer2.add_plane(position=(0,0,0),color=red,plane='yz')\n",
    "renderer2.add_plane(position=(0,0,0),color=green,plane='xz')\n",
    "renderer2.add_plane(position=(0,0,0),color=blue,plane='xy')\n",
    "renderer2.display()"
   ]
  },
  {
   "cell_type": "markdown",
   "metadata": {},
   "source": [
    "It is also possible to make square planes and specify the plane by passing a vector orthogonal to the plane"
   ]
  },
  {
   "cell_type": "code",
   "execution_count": null,
   "metadata": {},
   "outputs": [],
   "source": [
    "renderer3 = forte.utils.Py3JSRenderer(width=400, height=400)\n",
    "\n",
    "renderer3.add_arrow((0,0,0),(1,0,0),red)\n",
    "renderer3.add_arrow((0,0,0),(0,1,0),green)\n",
    "renderer3.add_arrow((0,0,0),(0,0,1),blue)\n",
    "\n",
    "renderer3.add_plane(position=(0,0,0),width=5,height=5,color=magenta,normal=(0,1,1),type='square')\n",
    "renderer3.display()"
   ]
  },
  {
   "cell_type": "markdown",
   "metadata": {},
   "source": [
    "---\n",
    "### Boxes\n",
    "We can also plot general boxes oriented in space"
   ]
  },
  {
   "cell_type": "code",
   "execution_count": null,
   "metadata": {},
   "outputs": [],
   "source": [
    "help(renderer.add_box)"
   ]
  },
  {
   "cell_type": "code",
   "execution_count": null,
   "metadata": {},
   "outputs": [],
   "source": [
    "renderer4 = forte.utils.Py3JSRenderer(width=400, height=400)\n",
    "\n",
    "# these arrows have length = 2\n",
    "renderer4.add_arrow((0,0,0),(2,0,0),red)\n",
    "renderer4.add_arrow((0,0,0),(0,2,0),green)\n",
    "renderer4.add_arrow((0,0,0),(0,0,2),blue)\n",
    "\n",
    "# add a box with dimensions: width (x) = 4, height (y) = 2, depth (z) = 1\n",
    "renderer4.add_box(position=(0,0,0),width=2,height=1,depth=0.25,color=purple)\n",
    "renderer4.display()"
   ]
  },
  {
   "cell_type": "markdown",
   "metadata": {},
   "source": [
    "We can also rotate boxes, by specifying a vector normal to the width-heigth plane"
   ]
  },
  {
   "cell_type": "code",
   "execution_count": null,
   "metadata": {},
   "outputs": [],
   "source": [
    "renderer5 = forte.utils.Py3JSRenderer(width=400, height=400)\n",
    "\n",
    "# these arrows have length = 3\n",
    "renderer5.add_arrow((0,0,0),(3,0,0),red)\n",
    "renderer5.add_arrow((0,0,0),(0,3,0),green)\n",
    "renderer5.add_arrow((0,0,0),(0,0,3),blue)\n",
    "\n",
    "# add a box with dimensions: width (x) = 3, height (y) = 3, depth (z) = 0.25 with the\n",
    "# width-height plane normal to the (1,1,0) vector\n",
    "renderer5.add_box(position=(0,0,0),width=3,height=3,depth=0.25,color=orange,normal=(1,1,0))\n",
    "renderer5.display()"
   ]
  },
  {
   "cell_type": "markdown",
   "metadata": {},
   "source": [
    "---\n",
    "### Spheres\n",
    "Spheres can be added with the `add_sphere` function. This is not designed for making molecules because it is not efficient for more than a couple elements"
   ]
  },
  {
   "cell_type": "code",
   "execution_count": null,
   "metadata": {},
   "outputs": [],
   "source": [
    "help(renderer.add_sphere)"
   ]
  },
  {
   "cell_type": "code",
   "execution_count": null,
   "metadata": {},
   "outputs": [],
   "source": [
    "renderer6 = forte.utils.Py3JSRenderer(width=400, height=400)\n",
    "\n",
    "renderer6.add_arrow((0,0,0),(1,0,0),red)\n",
    "renderer6.add_arrow((0,0,0),(0,1,0),green)\n",
    "renderer6.add_arrow((0,0,0),(0,0,1),blue)\n",
    "\n",
    "# add a box with dimensions: width (x) = 4, height (y) = 2, depth (z) = 1\n",
    "renderer6.add_sphere(position=(1,1,1),radius=0.5,color=lime)\n",
    "renderer6.add_sphere(position=(2,0,0),radius=0.5,color=red)\n",
    "renderer6.add_sphere(position=(0,3,0),radius=0.25,color=green)\n",
    "renderer6.add_sphere(position=(0,0,1.5),radius=0.5,color=blue)\n",
    "renderer6.display()"
   ]
  },
  {
   "cell_type": "markdown",
   "metadata": {},
   "source": [
    "---\n",
    "### Cylinders (tubes)\n",
    "Cylinders with different radii at the two ends can be drawn using the `add_cylinder` function"
   ]
  },
  {
   "cell_type": "code",
   "execution_count": null,
   "metadata": {},
   "outputs": [],
   "source": [
    "help(renderer.add_cylinder)"
   ]
  },
  {
   "cell_type": "code",
   "execution_count": null,
   "metadata": {},
   "outputs": [],
   "source": [
    "renderer7 = forte.utils.Py3JSRenderer(width=400, height=400)\n",
    "\n",
    "renderer7.add_arrow((0,0,0),(1,0,0),red)\n",
    "renderer7.add_arrow((0,0,0),(0,1,0),green)\n",
    "renderer7.add_arrow((0,0,0),(0,0,1),blue)\n",
    "\n",
    "# add a box with dimensions: width (x) = 4, height (y) = 2, depth (z) = 1\n",
    "renderer7.add_cylinder(xyz1=(0,0,0),xyz2=(1,1,1), radius=0.125,color=teal)\n",
    "renderer7.add_cylinder(xyz1=(1.5,1.5,1),xyz2=(2,2,1), radius=0.5,color=emerald)\n",
    "for x in range(1,8):\n",
    "    renderer7.add_cylinder(xyz1=(2 - x * 0.5,0,0),xyz2=(2 - x* 0.5,0,1), radius=0.25 /x,color=prussian)\n",
    "    \n",
    "renderer7.display()"
   ]
  },
  {
   "cell_type": "markdown",
   "metadata": {},
   "source": [
    "To specify that the two ends have different radii pass a tuple or list with two elements"
   ]
  },
  {
   "cell_type": "code",
   "execution_count": null,
   "metadata": {},
   "outputs": [],
   "source": [
    "renderer8 = forte.utils.Py3JSRenderer(width=400, height=400)\n",
    "\n",
    "renderer8.add_arrow((0,0,0),(1,0,0),red)\n",
    "renderer8.add_arrow((0,0,0),(0,1,0),green)\n",
    "renderer8.add_arrow((0,0,0),(0,0,1),blue)\n",
    "\n",
    "# add a box with dimensions: width (x) = 4, height (y) = 2, depth (z) = 1\n",
    "renderer8.add_cylinder(xyz1=(2,2,1),xyz2=(2,2,0), radius=(0.25,0.5),color=yellow)\n",
    "renderer8.add_cylinder(xyz1=(1,1,1),xyz2=(1,1,2), radius=[0.5,0.0],color=violet)\n",
    "renderer8.display()"
   ]
  },
  {
   "cell_type": "markdown",
   "metadata": {},
   "source": [
    "That's all!"
   ]
  }
 ],
 "metadata": {
  "kernelspec": {
   "display_name": "Python 3",
   "language": "python",
   "name": "python3"
  },
  "language_info": {
   "codemirror_mode": {
    "name": "ipython",
    "version": 3
   },
   "file_extension": ".py",
   "mimetype": "text/x-python",
   "name": "python",
   "nbconvert_exporter": "python",
   "pygments_lexer": "ipython3",
   "version": "3.7.4"
  }
 },
 "nbformat": 4,
 "nbformat_minor": 2
}
