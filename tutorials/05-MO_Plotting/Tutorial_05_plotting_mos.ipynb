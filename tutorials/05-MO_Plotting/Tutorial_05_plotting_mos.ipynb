{
 "cells": [
  {
   "cell_type": "markdown",
   "metadata": {},
   "source": [
    "# Forte Tutorial 5: Visualizing orbitals in Jupyter notebooks \n",
    "\n",
    "---\n",
    "\n",
    "In this tutorial we are going to explore how to generate orbitals and visualize them in Jupyter notebooks using the Python API."
   ]
  },
  {
   "cell_type": "markdown",
   "metadata": {},
   "source": [
    "Let's import the `psi4` and `forte` modules, including `the forte.utils` submodule"
   ]
  },
  {
   "cell_type": "code",
   "execution_count": null,
   "metadata": {},
   "outputs": [],
   "source": [
    "import psi4\n",
    "import forte\n",
    "import forte.utils"
   ]
  },
  {
   "cell_type": "markdown",
   "metadata": {},
   "source": [
    "**Note: in this tutorial we do not call `forte.startup()/cleanup()` because we are not going to do any computation using `forte`**"
   ]
  },
  {
   "cell_type": "markdown",
   "metadata": {},
   "source": [
    "We will start by generating SCF orbitals via psi4 using the forte.util"
   ]
  },
  {
   "cell_type": "code",
   "execution_count": null,
   "metadata": {},
   "outputs": [],
   "source": [
    "xyz = \"\"\"\n",
    "0 1\n",
    "C      0.722300    0.722300    0.000000\n",
    "C      0.722300   -0.722300    0.000000\n",
    "C     -0.722300    0.722300    0.000000\n",
    "C     -0.722300   -0.722300    0.000000\n",
    "H      1.483571    1.483571    0.000000\n",
    "H      1.483571   -1.483571    0.000000\n",
    "H     -1.483571    1.483571    0.000000\n",
    "H     -1.483571   -1.483571    0.000000\n",
    "symmetry c1\"\"\"\n",
    "\n",
    "E_scf, wfn = forte.utils.psi4_scf(xyz, 'sto-3g', 'rhf', functional = 'hf')"
   ]
  },
  {
   "cell_type": "markdown",
   "metadata": {},
   "source": [
    "## Generating the cube files using the `forte.utils.psi4_cubeprop` function\n",
    "\n",
    "\n",
    "Next we use a convenience function that generates cube files. Here is some information on it:\n",
    "\n",
    "```python\n",
    "def psi4_cubeprop(wfn, path = '.', orbs = [], nocc = 3, nvir = 3, load = False):\n",
    "    \"\"\"\n",
    "    Run a psi4 cubeprop computation to generate cube files from a given Wavefunction object\n",
    "    By default this function plots from the HOMO -2 to the LUMO + 2\n",
    "\n",
    "    Parameters\n",
    "    ----------\n",
    "    wfn : psi4Wavefunction\n",
    "        A psi4 Wavefunction object\n",
    "    path : str\n",
    "        The path of the directory that will contain the cube files\n",
    "    orbs : list\n",
    "        The list of orbitals to convert to cube files (one based).\n",
    "    nocc : int\n",
    "        The number of occupied orbitals\n",
    "    nvir : int\n",
    "        The number of virtual orbitals\n",
    "```\n",
    "\n",
    "We want to plot two occupied and two virtual orbitals so we pass the arguments `nocc=2` and `nvir=2`."
   ]
  },
  {
   "cell_type": "code",
   "execution_count": null,
   "metadata": {},
   "outputs": [],
   "source": [
    "forte.utils.psi4_cubeprop(wfn,path='cubes',nocc=2,nvir=2)"
   ]
  },
  {
   "cell_type": "markdown",
   "metadata": {},
   "source": [
    "After we execute this command, four cube files are generated in the folder `./cubes`. We can list them with the `os.listdir` function:"
   ]
  },
  {
   "cell_type": "code",
   "execution_count": null,
   "metadata": {},
   "outputs": [],
   "source": [
    "import os\n",
    "os.listdir('./cubes')"
   ]
  },
  {
   "cell_type": "markdown",
   "metadata": {},
   "source": [
    "## Reading cube files\n",
    "To load these cube files we will use the `CubeFile` class. This class reads a cube file and lets us manipulate them. Let's load the HOMO, which is orbital 15 (the cube files use 1-based indexing)"
   ]
  },
  {
   "cell_type": "code",
   "execution_count": null,
   "metadata": {},
   "outputs": [],
   "source": [
    "cube = forte.CubeFile('cubes/Psi_a_15_15-A.cube')"
   ]
  },
  {
   "cell_type": "markdown",
   "metadata": {},
   "source": [
    "A `CubeFile` object cannot be directly visualized. However, we can access all the information about the cube file."
   ]
  },
  {
   "cell_type": "code",
   "execution_count": null,
   "metadata": {},
   "outputs": [],
   "source": [
    "# number of atoms\n",
    "print(f'cube.natoms() -> {cube.natoms()}')\n",
    "\n",
    "# number of grid points along each direction\n",
    "print(f'cube.num() -> {cube.num()}')"
   ]
  },
  {
   "cell_type": "markdown",
   "metadata": {},
   "source": [
    "The `CubeFile` class provides a convenient method (`compute_levels`) to determine the isocontour levels that contain a given fraction of the electron density. For example, to compute the isovalues that encompass 85% of the density we call `compute_levels('mo',0.85)`, where the argument `'mo'` indicates that the cube file stores the values of a molecular orbital (this is necessary, because the levels are computed differently for the density)"
   ]
  },
  {
   "cell_type": "code",
   "execution_count": null,
   "metadata": {},
   "outputs": [],
   "source": [
    "levels85 = cube.compute_levels('mo',0.85)\n",
    "levels85"
   ]
  },
  {
   "cell_type": "markdown",
   "metadata": {},
   "source": [
    "This information is also generated and stored by `psi4` in the cube file (this is not standard, only `psi4` implements this feature)"
   ]
  },
  {
   "cell_type": "code",
   "execution_count": null,
   "metadata": {},
   "outputs": [],
   "source": [
    "with open('cubes/Psi_a_15_15-A.cube') as f:\n",
    "    print(\"\".join(f.readlines()[:6]))"
   ]
  },
  {
   "cell_type": "markdown",
   "metadata": {},
   "source": [
    "## Rendering cube files\n",
    "Forte implements a simple 3D rederer based on the `pythreejs` module. To install it via conda type in the command line: `conda install -c conda-forge pythreejs`. The renderer is an object of the `Pt3JSRendered` class (a python class)"
   ]
  },
  {
   "cell_type": "code",
   "execution_count": null,
   "metadata": {},
   "outputs": [],
   "source": [
    "renderer = forte.utils.Py3JSRenderer(width=400, height=400)"
   ]
  },
  {
   "cell_type": "markdown",
   "metadata": {},
   "source": [
    "Once created, we can add it a `CubeFile` object and display it. This is a Python widget and it is interactive. Try to interact with it by clicking and dragging the pointer around. You can also zoom the molecule in and out."
   ]
  },
  {
   "cell_type": "code",
   "execution_count": null,
   "metadata": {},
   "outputs": [],
   "source": [
    "renderer.add_cubefile(cube)\n",
    "renderer.display()"
   ]
  },
  {
   "cell_type": "markdown",
   "metadata": {},
   "source": [
    "The `CubeFile` class will find the isolevels that correspond to 85% of the density. However, we can select a different value by passing the `sumlevel` argument."
   ]
  },
  {
   "cell_type": "code",
   "execution_count": null,
   "metadata": {},
   "outputs": [],
   "source": [
    "renderer2 = forte.utils.Py3JSRenderer(width=400, height=400)\n",
    "renderer2.add_cubefile(cube, sumlevel=0.5)\n",
    "renderer2.display()"
   ]
  },
  {
   "cell_type": "markdown",
   "metadata": {},
   "source": [
    "We can even specify custom levels and colors via the `levels` and `colors` parameters"
   ]
  },
  {
   "cell_type": "code",
   "execution_count": null,
   "metadata": {},
   "outputs": [],
   "source": [
    "renderer3 = forte.utils.Py3JSRenderer(width=400, height=400)\n",
    "renderer3.add_cubefile(cube, levels = [0.06,-0.04],colors = ['#4412B3', '#0DC2FF'])\n",
    "renderer3.display()"
   ]
  },
  {
   "cell_type": "code",
   "execution_count": null,
   "metadata": {},
   "outputs": [],
   "source": [
    "cube_lumo = forte.CubeFile('cubes/Psi_a_16_16-A.cube')\n",
    "renderer_lumo = forte.utils.Py3JSRenderer(width=400, height=400)\n",
    "renderer_lumo.add_cubefile(cube_lumo)\n",
    "renderer_lumo.display()"
   ]
  },
  {
   "cell_type": "markdown",
   "metadata": {},
   "source": [
    "## Rendering many cube files\n",
    "Forte implements a few trick to plot several orbitals all at once. For example, if we pass the argument `load=True` to the function `forte.utils.psi4_cubeprop` we can automatically load all the cube file generated"
   ]
  },
  {
   "cell_type": "code",
   "execution_count": null,
   "metadata": {},
   "outputs": [],
   "source": [
    "cubes = forte.utils.psi4_cubeprop(wfn,path='cubes',nocc=2,nvir=2,load=True)"
   ]
  },
  {
   "cell_type": "markdown",
   "metadata": {},
   "source": [
    "There is also a convenience function (`cube_viewer`) that allows to plot several cube files al at once. This can be invoked with"
   ]
  },
  {
   "cell_type": "code",
   "execution_count": null,
   "metadata": {},
   "outputs": [],
   "source": [
    "forte.utils.cube_viewer(cubes)"
   ]
  },
  {
   "cell_type": "markdown",
   "metadata": {},
   "source": [
    "This function is customizable, for example we can change the size and select a different font (or even not display the text)"
   ]
  },
  {
   "cell_type": "code",
   "execution_count": null,
   "metadata": {},
   "outputs": [],
   "source": [
    "forte.utils.cube_viewer(cubes, width=500, height=500, font_size = 20, font_family = 'Times New Roman')"
   ]
  },
  {
   "cell_type": "markdown",
   "metadata": {},
   "source": [
    "## Manipulating cube files\n",
    "The `CubeFile` class supports three type of operations:\n",
    "- `scale(double factor)`: scale all the values on the grid by `factor`:\n",
    "$$ \\phi(\\mathbf{r}_i) \\leftarrow \\mathtt{factor} * \\phi(\\mathbf{r}_i) $$\n",
    "- `add(CubeFile cube)`: add to this cube file the grid values stored in cube:\n",
    "$$ \\phi(\\mathbf{r}_i) \\leftarrow \\phi(\\mathbf{r}_i) + \\psi(\\mathbf{r}_i) $$\n",
    "- `pointwise_product(CubeFile cube)`: multiply each point of this cube file with the values stored in cube:\n",
    "$$ \\phi(\\mathbf{r}_i) \\leftarrow \\phi(\\mathbf{r}_i) * \\psi(\\mathbf{r}_i) $$"
   ]
  },
  {
   "cell_type": "markdown",
   "metadata": {},
   "source": [
    "To evaluate the density corresponing to the HOMO we can do just compute the pointwise product with itself"
   ]
  },
  {
   "cell_type": "code",
   "execution_count": null,
   "metadata": {},
   "outputs": [],
   "source": [
    "dens = forte.CubeFile(cube)\n",
    "dens.pointwise_product(dens)"
   ]
  },
  {
   "cell_type": "markdown",
   "metadata": {},
   "source": [
    "Then we can render it using the `compute_levels` function to find the appropriate levels. Here we cannot let the renderer determine the levels because it cannot tell that this is a density."
   ]
  },
  {
   "cell_type": "code",
   "execution_count": null,
   "metadata": {},
   "outputs": [],
   "source": [
    "dens_renderer = forte.utils.Py3JSRenderer(width=400, height=400)\n",
    "dens_levels = dens.compute_levels('density',0.6)\n",
    "dens_renderer.add_cubefile(dens, levels = dens_levels) # need to specify a sensible rendering level\n",
    "dens_renderer.display()"
   ]
  },
  {
   "cell_type": "markdown",
   "metadata": {},
   "source": [
    "If we want, we can also save a cubefile to disk using the `save` function"
   ]
  },
  {
   "cell_type": "code",
   "execution_count": null,
   "metadata": {},
   "outputs": [],
   "source": [
    "dens.save('cubes/dens.cube')"
   ]
  }
 ],
 "metadata": {
  "kernelspec": {
   "display_name": "Python 3",
   "language": "python",
   "name": "python3"
  },
  "language_info": {
   "codemirror_mode": {
    "name": "ipython",
    "version": 3
   },
   "file_extension": ".py",
   "mimetype": "text/x-python",
   "name": "python",
   "nbconvert_exporter": "python",
   "pygments_lexer": "ipython3",
   "version": "3.7.4"
  }
 },
 "nbformat": 4,
 "nbformat_minor": 2
}
