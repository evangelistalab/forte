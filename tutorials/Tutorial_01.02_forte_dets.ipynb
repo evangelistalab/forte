{
 "cells": [
  {
   "cell_type": "markdown",
   "metadata": {},
   "source": [
    "# Forte Tutorial 1.02: Forte's determinant class\n",
    "\n",
    "---\n",
    "\n",
    "In this tutorial we are going to explore how to create a simple FCI code using forte's Python API.\n",
    "\n",
    "## Import modules\n",
    "Here we will use modules to run an initial SCF computation and provide the integrals"
   ]
  },
  {
   "cell_type": "code",
   "execution_count": 1,
   "metadata": {},
   "outputs": [],
   "source": [
    "import psi4\n",
    "import forte"
   ]
  },
  {
   "cell_type": "markdown",
   "metadata": {},
   "source": [
    "First we will use the module `ObjectsUtilPsi4` to perform a Hartree–Fock computation and prepare all the Forte objects. Here we freeze one orbital and indicated that two more should be treated as restricted (not included in the active space):"
   ]
  },
  {
   "cell_type": "code",
   "execution_count": null,
   "metadata": {},
   "outputs": [],
   "source": [
    "# setup molecule object\n",
    "molecule = psi4.geometry(\"\"\"\n",
    "O\n",
    "H 1 1.0\n",
    "H 1 1.0 2 180.0\n",
    "\"\"\")\n",
    "\n",
    "# Setup forte and prepare the active space integral class\n",
    "mos_spaces = {'FROZEN_DOCC' :     [1,0,0,0,0,0,0,0], # freeze the O 1s orbital\n",
    "              'RESTRICTED_DOCC' : [1,0,0,0,0,1,0,0]}\n",
    "\n",
    "# Run the module ObjectsUtilPsi4 to generate the Forte data object\n",
    "data = forte.modules.ObjectsUtilPsi4(molecule=molecule, basis=\"sto-3g\", mo_spaces=mos_spaces).run()"
   ]
  },
  {
   "cell_type": "markdown",
   "metadata": {},
   "source": [
    "Now we are ready to grab the objects that we will need: the active space integrals and the orbital information:"
   ]
  },
  {
   "cell_type": "code",
   "execution_count": null,
   "metadata": {},
   "outputs": [],
   "source": [
    "as_ints = data.as_ints\n",
    "mo_space_info = data.mo_space_info\n",
    "psi_wfn = data.psi_wfn\n",
    "\n",
    "print(f'Frozen-core energy = {as_ints.frozen_core_energy()}')\n",
    "print(f'Nuclear repulsion energy = {as_ints.nuclear_repulsion_energy()}')\n",
    "print(f'Scalar energy = {as_ints.scalar_energy()}')"
   ]
  },
  {
   "cell_type": "markdown",
   "metadata": {},
   "source": [
    "## Creating determinants\n",
    "\n",
    "Determinants are represented by the class `Determinant`. Here we create an empty determinant and print it by invoking the `str` function. This function prints the entire determinant (which has fixed size):"
   ]
  },
  {
   "cell_type": "code",
   "execution_count": null,
   "metadata": {},
   "outputs": [],
   "source": [
    "d = forte.Determinant()\n",
    "print(f'Determinant: {d}')"
   ]
  },
  {
   "cell_type": "markdown",
   "metadata": {},
   "source": [
    "If we are working with only a few orbitals we can use the `.str()` function to produce a more compact representation:"
   ]
  },
  {
   "cell_type": "code",
   "execution_count": null,
   "metadata": {},
   "outputs": [],
   "source": [
    "nact = mo_space_info.size('ACTIVE')\n",
    "print(f'Determinant: {d.str(nact)}') # print only the active space part of the determinant (4 orbital)"
   ]
  },
  {
   "cell_type": "markdown",
   "metadata": {},
   "source": [
    "There are several ways one can create determinants. The utility function `forte.det` converts a string to a determinant:"
   ]
  },
  {
   "cell_type": "code",
   "execution_count": null,
   "metadata": {},
   "outputs": [],
   "source": [
    "d = forte.det(\"2+0-ab\")\n",
    "print(f'Determinant: {d}')"
   ]
  },
  {
   "cell_type": "markdown",
   "metadata": {},
   "source": [
    "## Applying creation and annihilation operators to determinants\n",
    "\n",
    "Determinants can be modified by applying second quantized creation and annihilation operators.\n",
    "To apply the creation operator $\\hat{a}^\\dagger_1$, which adds one electron in the spin orbital $\\phi_{i,\\alpha}$, we can use the function (`create_alfa_bit`). This function returns the corresponding sign and modifies the original determinant (this is done for performance reasons):"
   ]
  },
  {
   "cell_type": "code",
   "execution_count": null,
   "metadata": {},
   "outputs": [],
   "source": [
    "d = forte.Determinant()\n",
    "print(f'Original determinant: {d.str(nact)}')\n",
    "\n",
    "sign = d.create_alfa_bit(1)\n",
    "print(f'New determinant:      {d.str(nact)}, sign = {sign}')"
   ]
  },
  {
   "cell_type": "markdown",
   "metadata": {},
   "source": [
    "Here we create an electron in spin orbital 2 beta "
   ]
  },
  {
   "cell_type": "code",
   "execution_count": null,
   "metadata": {},
   "outputs": [],
   "source": [
    "sign = d.create_beta_bit(2)\n",
    "print(f'Determinant: {d.str(nact)}, sign = {sign}')"
   ]
  },
  {
   "cell_type": "markdown",
   "metadata": {},
   "source": [
    "Similarly, we can remove (annihilate) an electron with the command `destroy_alfa_bit` (`destroy_beta_bit` for the beta case). Since this orbital is empty, the sign returned is 0"
   ]
  },
  {
   "cell_type": "code",
   "execution_count": null,
   "metadata": {},
   "outputs": [],
   "source": [
    "sign = d.destroy_alfa_bit(2)\n",
    "print(f'Determinant: {d.str(nact)}, sign = {sign}')"
   ]
  },
  {
   "cell_type": "markdown",
   "metadata": {},
   "source": [
    "## Creating the HF determinant"
   ]
  },
  {
   "cell_type": "markdown",
   "metadata": {},
   "source": [
    "Next we do some bookeeping to find out the occupation of the Hartree-Fock determinant using the occupation returned to us by psi4"
   ]
  },
  {
   "cell_type": "code",
   "execution_count": null,
   "metadata": {},
   "outputs": [],
   "source": [
    "# number of irreps\n",
    "nirrep = mo_space_info.nirrep()\n",
    "\n",
    "# number of doubly occupied orbitals per irrep\n",
    "ndoccpi = mo_space_info.dimension('FROZEN_DOCC') + mo_space_info.dimension('RESTRICTED_DOCC')\n",
    "\n",
    "# number of active orbitals per irrep\n",
    "nactpi = mo_space_info.dimension('ACTIVE').to_tuple()\n",
    "\n",
    "# compute the number of alpha electrons per irrep (total alpha - ndocc)\n",
    "nact_aelpi = psi_wfn.nalphapi() - ndoccpi\n",
    "nact_aelpi = nact_aelpi.to_tuple()      \n",
    "\n",
    "# compute the number of beta electrons per irrep (total beta - ndocc)\n",
    "nact_belpi = psi_wfn.nbetapi() - ndoccpi\n",
    "nact_belpi = nact_belpi.to_tuple()\n",
    "\n",
    "print(f'Number of alpha electrons per irrep: {nact_aelpi}')\n",
    "print(f'Number of beta electrons per irrep:  {nact_belpi}')\n",
    "\n",
    "ref = forte.Determinant()\n",
    "\n",
    "# we loop over each irrep and fill the occupied orbitals \n",
    "irrep_start = [sum(nactpi[:h]) for h in range(nirrep)]\n",
    "for h in range(nirrep):\n",
    "    for i in range(nact_aelpi[h]): ref.set_alfa_bit(irrep_start[h] + i, True)\n",
    "    for i in range(nact_belpi[h]): ref.set_beta_bit(irrep_start[h] + i, True)        \n",
    "    \n",
    "print(f'Reference determinant: {ref.str(nact)}')"
   ]
  },
  {
   "cell_type": "markdown",
   "metadata": {},
   "source": [
    "We can now compute the energy of the determinant as $\\langle \\Phi | \\hat{H} | \\Phi \\rangle$ using the `slater_rules` function in the `ActiveSpaceIntegrals` class"
   ]
  },
  {
   "cell_type": "code",
   "execution_count": null,
   "metadata": {},
   "outputs": [],
   "source": [
    "as_ints.slater_rules(ref,ref) + as_ints.scalar_energy() + as_ints.nuclear_repulsion_energy() "
   ]
  },
  {
   "cell_type": "markdown",
   "metadata": {},
   "source": [
    "## Creating the FCI determinant basis\n",
    "\n",
    "Forte provides the utility function `hilbert_space` that uses symmetry information to generate only those determinants that have the desired symmetry and given number of alpha/beta electrons. This function runs in C++ and will return a list of determinants:"
   ]
  },
  {
   "cell_type": "code",
   "execution_count": null,
   "metadata": {},
   "outputs": [],
   "source": [
    "# active orbitals per irrep\n",
    "symmetry = mo_space_info.symmetry('ACTIVE')\n",
    "print(f'Symmetry of active space: {symmetry}')\n",
    "\n",
    "nact_ael = sum(nact_aelpi)\n",
    "nact_bel = sum(nact_belpi)\n",
    "\n",
    "print(f'Number of alpha active electrons: {nact_ael}')\n",
    "print(f'Number of beta active electrons:  {nact_bel}')\n",
    "\n",
    "dets = forte.hilbert_space(nact,nact_ael,nact_bel,nirrep,symmetry)\n",
    "\n",
    "print(f'==> List of FCI determinants <==')\n",
    "for d in dets:\n",
    "    print(f'{d.str(4)}')"
   ]
  },
  {
   "cell_type": "markdown",
   "metadata": {},
   "source": [
    "## Diagonalize the Hamiltonian in the FCI space\n",
    "\n",
    "In the last step, we diagonalize the Hamiltonian in the FCI determinant basis. We use the function `hamiltonian_matrix` to compute the matrix elements $\\langle \\Phi_I | \\hat{H} | \\Phi_J \\rangle$."
   ]
  },
  {
   "cell_type": "code",
   "execution_count": null,
   "metadata": {},
   "outputs": [],
   "source": [
    "import numpy as np\n",
    "\n",
    "# build the Hamiltonian matrix\n",
    "H = forte.hamiltonian_matrix(dets,as_ints).to_array()\n",
    "\n",
    "# diagonalize the Hamiltonian\n",
    "evals, evecs = np.linalg.eigh(H)\n",
    "\n",
    "psi4_fci = -74.846380133240530\n",
    "print(f'FCI Energy = {evals[0] + as_ints.scalar_energy() + as_ints.nuclear_repulsion_energy()}')\n",
    "print(f'FCI Energy Error = {evals[0] + as_ints.scalar_energy() + as_ints.nuclear_repulsion_energy()- psi4_fci}')\n",
    "\n",
    "index_hf = dets.index(ref)\n",
    "print(f'Index of the HF determinant in the FCI vector {index_hf}')"
   ]
  }
 ],
 "metadata": {
  "kernelspec": {
   "display_name": "forte",
   "language": "python",
   "name": "python3"
  },
  "language_info": {
   "codemirror_mode": {
    "name": "ipython",
    "version": 3
   },
   "file_extension": ".py",
   "mimetype": "text/x-python",
   "name": "python",
   "nbconvert_exporter": "python",
   "pygments_lexer": "ipython3",
   "version": "3.11.10"
  }
 },
 "nbformat": 4,
 "nbformat_minor": 4
}
