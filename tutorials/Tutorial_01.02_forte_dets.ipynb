{
 "cells": [
  {
   "cell_type": "markdown",
   "metadata": {},
   "source": [
    "# Forte Tutorial 1.02: Forte's determinant class\n",
    "\n",
    "---\n",
    "\n",
    "In this tutorial we are going to explore how to create a simple FCI code using forte's Python API.\n",
    "\n",
    "## Import modules\n",
    "Here we import `forte.utils` bto access functions to directly run an SCF computation in psi4."
   ]
  },
  {
   "cell_type": "code",
   "execution_count": null,
   "metadata": {},
   "outputs": [],
   "source": [
    "import psi4\n",
    "import forte\n",
    "import forte.utils"
   ]
  },
  {
   "cell_type": "markdown",
   "metadata": {},
   "source": [
    "First we will run psi4 using the function `forte.utils.psi4_scf`"
   ]
  },
  {
   "cell_type": "code",
   "execution_count": null,
   "metadata": {},
   "outputs": [],
   "source": [
    "# setup xyz geometry\n",
    "geom = \"\"\"\n",
    "O\n",
    "H 1 1.0\n",
    "H 1 1.0 2 180.0\n",
    "\"\"\"\n",
    "(E_scf, wfn) = forte.utils.psi4_scf(geom,basis='sto-3g',reference='rhf')\n",
    "print(f'SCF Energy = {E_scf}')"
   ]
  },
  {
   "cell_type": "markdown",
   "metadata": {},
   "source": [
    "## Starting Forte and reading options"
   ]
  },
  {
   "cell_type": "code",
   "execution_count": null,
   "metadata": {},
   "outputs": [],
   "source": [
    "forte.startup()\n",
    "\n",
    "from forte import forte_options\n",
    "\n",
    "options = psi4.core.get_options() # options = psi4 option object\n",
    "options.set_current_module('FORTE') # read options labeled 'FORTE'\n",
    "forte_options.get_options_from_psi4(options)"
   ]
  },
  {
   "cell_type": "markdown",
   "metadata": {},
   "source": [
    "## Setting the molecular orbital spaces"
   ]
  },
  {
   "cell_type": "code",
   "execution_count": null,
   "metadata": {},
   "outputs": [],
   "source": [
    "# Setup forte and prepare the active space integral class\n",
    "mos_spaces = {'FROZEN_DOCC' :     [1,0,0,0,0,0,0,0], # freeze the O 1s orbital\n",
    "              'RESTRICTED_DOCC' : [1,0,0,0,0,1,0,0]}\n",
    "nmopi = wfn.nmopi()\n",
    "point_group = wfn.molecule().point_group().symbol()\n",
    "mo_space_info = forte.make_mo_space_info_from_map(nmopi,point_group,mos_spaces,[])"
   ]
  },
  {
   "cell_type": "code",
   "execution_count": null,
   "metadata": {},
   "outputs": [],
   "source": [
    "mo_space_info.size('ACTIVE')"
   ]
  },
  {
   "cell_type": "markdown",
   "metadata": {},
   "source": [
    "## Building a `ForteIntegral` object to read integrals from psi4\n",
    "\n",
    "In Forte there are two classes responsible for handling integrals:\n",
    "- `ForteIntegral`: reads the integrals from psi4 and stores them in varios formats (conventional, density fitting, Cholesky, ...).\n",
    "- `ActiveSpaceIntegrals`: stores a copy of all integrals and it is used by active space methods. This class only stores a subset of the integrals and includes an effective potential due to non-active doubly occupied orbitals.\n",
    "\n",
    "We will first build the `ForteIntegral` object via the function `make_forte_integrals`"
   ]
  },
  {
   "cell_type": "code",
   "execution_count": null,
   "metadata": {},
   "outputs": [],
   "source": [
    "ints = forte.make_ints_from_psi4(wfn, forte_options, mo_space_info)\n",
    "print(f'Number of molecular orbitals: {ints.nmo()}')\n",
    "print(f'Number of correlated molecular orbitals: {ints.ncmo()}')\n",
    "\n",
    "# the space that defines the active orbitals. We select only the 'ACTIVE' part\n",
    "active_space = 'ACTIVE'\n",
    "# the space(s) with non-active doubly occupied orbitals\n",
    "core_spaces = ['RESTRICTED_DOCC']\n",
    "\n",
    "as_ints = forte.make_active_space_ints(mo_space_info, ints, active_space, core_spaces)\n",
    "\n",
    "print(f'Frozen-core energy = {as_ints.frozen_core_energy()}')\n",
    "print(f'Nuclear repulsion energy = {as_ints.nuclear_repulsion_energy()}')\n",
    "print(f'Scalar energy = {as_ints.scalar_energy()}')"
   ]
  },
  {
   "cell_type": "markdown",
   "metadata": {},
   "source": [
    "## Creating determinants\n",
    "\n",
    "Objects that represent determinants are represented by the class `Determinant`. Here we create an empty determinant and print it by invoking the `str` function. This function prints the entire determinant (which has fixed size), and so if we are working with only a few orbitals we can specify how many we want to print"
   ]
  },
  {
   "cell_type": "code",
   "execution_count": null,
   "metadata": {},
   "outputs": [],
   "source": [
    "d = forte.Determinant()\n",
    "print(f'Determinant: {d}')\n",
    "\n",
    "nact = mo_space_info.size('ACTIVE')\n",
    "print(f'Determinant: {d.str(nact)}')"
   ]
  },
  {
   "cell_type": "markdown",
   "metadata": {},
   "source": [
    "We modify the determinant by applying to it a creation operator $\\hat{a}^\\dagger_1$ that adds one electron in the spin orbital $\\phi_{i,\\alpha}$ using the function (`create_alfa_bit`). This function returns the corresponding sign"
   ]
  },
  {
   "cell_type": "code",
   "execution_count": null,
   "metadata": {},
   "outputs": [],
   "source": [
    "sign = d.create_alfa_bit(1)\n",
    "print(f'Determinant: {d.str(nact)}, sign = {sign}')"
   ]
  },
  {
   "cell_type": "markdown",
   "metadata": {},
   "source": [
    "Here we create an electron in orbital 2"
   ]
  },
  {
   "cell_type": "code",
   "execution_count": null,
   "metadata": {},
   "outputs": [],
   "source": [
    "sign = d.create_alfa_bit(2)\n",
    "print(f'Determinant: {d.str(nact)}, sign = {sign}')"
   ]
  },
  {
   "cell_type": "markdown",
   "metadata": {},
   "source": [
    "Similarly, we can remove (annihilate) an electron with the command `destroy_alfa_bit` (`destroy_beta_bit` for the beta case)"
   ]
  },
  {
   "cell_type": "code",
   "execution_count": null,
   "metadata": {},
   "outputs": [],
   "source": [
    "sign = d.destroy_alfa_bit(2)\n",
    "print(f'Determinant: {d.str(nact)}, sign = {sign}')"
   ]
  },
  {
   "cell_type": "markdown",
   "metadata": {},
   "source": [
    "## Creating the HF determinant"
   ]
  },
  {
   "cell_type": "markdown",
   "metadata": {},
   "source": [
    "Next we do some bookeeping to find out the occupation of the Hartree-Fock determinant using the occupation returned to us by psi4"
   ]
  },
  {
   "cell_type": "code",
   "execution_count": null,
   "metadata": {},
   "outputs": [],
   "source": [
    "nirrep = mo_space_info.nirrep()\n",
    "nactpi = mo_space_info.dimension('ACTIVE').to_tuple()\n",
    "\n",
    "# compute the number of alpha electrons per irrep\n",
    "nact_aelpi = wfn.nalphapi() - mo_space_info.dimension('FROZEN_DOCC') - mo_space_info.dimension('RESTRICTED_DOCC')\n",
    "nact_aelpi = nact_aelpi.to_tuple()      \n",
    "# compute the number of beta electrons per irrep\n",
    "nact_belpi = wfn.nbetapi() - mo_space_info.dimension('FROZEN_DOCC') - mo_space_info.dimension('RESTRICTED_DOCC')\n",
    "nact_belpi = nact_belpi.to_tuple()           \n",
    "\n",
    "print(f'Number of alpha electrons per irrep: {nact_aelpi}')\n",
    "print(f'Number of beta electrons per irrep:  {nact_belpi}')\n",
    "print(f'Number of active orbtials per irrep: {nactpi}')\n",
    "\n",
    "ref = forte.Determinant()\n",
    "\n",
    "# we loop over each irrep and fill the occupied orbitals \n",
    "irrep_start = [sum(nactpi[:h]) for h in range(nirrep)]\n",
    "for h in range(nirrep):\n",
    "    for i in range(nact_aelpi[h]): ref.set_alfa_bit(irrep_start[h] + i, True)\n",
    "    for i in range(nact_belpi[h]): ref.set_beta_bit(irrep_start[h] + i, True)        \n",
    "    \n",
    "print(f'Reference determinant: {ref.str(nact)}')"
   ]
  },
  {
   "cell_type": "markdown",
   "metadata": {},
   "source": [
    "We can now compute the energy of the determinant as $\\langle \\Phi | \\hat{H} | \\Phi \\rangle$ using the `slater_rules` function in the `ActiveSpaceIntegrals` class"
   ]
  },
  {
   "cell_type": "code",
   "execution_count": null,
   "metadata": {},
   "outputs": [],
   "source": [
    "as_ints.slater_rules(ref,ref) + as_ints.scalar_energy() + as_ints.nuclear_repulsion_energy() "
   ]
  },
  {
   "cell_type": "markdown",
   "metadata": {},
   "source": [
    "## Creating the FCI determinant basis\n",
    "\n",
    "Next we enumerate the FCI determinants. Here we use symmetry information and generate only those determinants that have the desired symmetry. We do it in a wasteful way, because we simply generate all the combinations of alpha/beta electrons and then check for the symmetry of the determinant. "
   ]
  },
  {
   "cell_type": "code",
   "execution_count": null,
   "metadata": {},
   "outputs": [],
   "source": [
    "import itertools\n",
    "import functools\n",
    "\n",
    "dets = []\n",
    "orbs = range(nact)\n",
    "\n",
    "# get the symmetry of each active orbital\n",
    "act_sym = mo_space_info.symmetry('ACTIVE')\n",
    "\n",
    "nact_ael = sum(nact_aelpi)\n",
    "nact_bel = sum(nact_belpi)\n",
    "print(f'Number of alpha electrons: {nact_ael}')\n",
    "print(f'Number of beta electrons:  {nact_bel}')\n",
    "\n",
    "# specify the target symmetry\n",
    "sym = 0\n",
    "\n",
    "# generate all the alpha strings\n",
    "for astr in itertools.combinations(orbs, nact_ael):\n",
    "    # compute the symmetry of the alpha string\n",
    "    asym = functools.reduce(lambda i, j:  act_sym[i] ^ act_sym[j], astr)\n",
    "    # generate all the beta strings\n",
    "    for bstr in itertools.combinations(orbs, nact_bel):\n",
    "        # compute the symmetry of the beta string\n",
    "        bsym = functools.reduce(lambda i, j:  act_sym[i] ^ act_sym[j], bstr)    \n",
    "        # if the determinant has the correct symmetry save it\n",
    "        if (asym ^ bsym) == sym:\n",
    "            d = forte.Determinant()\n",
    "            for i in astr: d.set_alfa_bit(i, True)\n",
    "            for i in bstr: d.set_beta_bit(i, True)                \n",
    "            dets.append(d)\n",
    "\n",
    "print(f'==> List of FCI determinants <==')\n",
    "for d in dets:\n",
    "    print(f'{d.str(4)}')"
   ]
  },
  {
   "cell_type": "markdown",
   "metadata": {},
   "source": [
    "## Diagonalize the Hamiltonian in the FCI space\n",
    "\n",
    "In the last step, we diagonalize the Hamiltonian in the FCI determinant basis. We use the function `slater_rules` from the `ActiveSpaceIntegrals` class, which implements Slater rules to compute the matrix elements $\\langle \\Phi_I | \\hat{H} | \\Phi_J \\rangle$."
   ]
  },
  {
   "cell_type": "code",
   "execution_count": null,
   "metadata": {},
   "outputs": [],
   "source": [
    "import numpy as np\n",
    "\n",
    "ndets = len(dets)\n",
    "H = np.ndarray((ndets,ndets))\n",
    "for I, detI in enumerate(dets):\n",
    "    for J, detJ in enumerate(dets):\n",
    "        H[I][J] = as_ints.slater_rules(detI,detJ)\n",
    "\n",
    "# or we could use the more fancy looping below that avoid computing half of the matrix elements\n",
    "# for I, detI in enumerate(dets):\n",
    "#     H[I][I] = as_ints.slater_rules(detI,detI) # diagonal term\n",
    "#     for J, detJ in enumerate(dets[:I]):\n",
    "#         HIJ = as_ints.slater_rules(detI,detJ) # off-diagonal term (only upper half)\n",
    "#         H[I][J] = H[J][I] = HIJ\n",
    "   \n",
    "print(H)\n",
    "evals, evecs = np.linalg.eigh(H)\n",
    "\n",
    "psi4_fci = -74.846380133240530\n",
    "print(f'FCI Energy = {evals[0] + as_ints.scalar_energy() + as_ints.nuclear_repulsion_energy()}')\n",
    "print(f'FCI Energy Error = {evals[0] + as_ints.scalar_energy() + as_ints.nuclear_repulsion_energy()- psi4_fci}')\n",
    "\n",
    "index_hf = dets.index(ref)\n",
    "print(f'Index of the HF determinant in the FCI vector {index_hf}')"
   ]
  },
  {
   "cell_type": "code",
   "execution_count": null,
   "metadata": {},
   "outputs": [],
   "source": [
    "forte.cleanup()"
   ]
  }
 ],
 "metadata": {
  "kernelspec": {
   "display_name": "Python 3",
   "language": "python",
   "name": "python3"
  },
  "language_info": {
   "codemirror_mode": {
    "name": "ipython",
    "version": 3
   },
   "file_extension": ".py",
   "mimetype": "text/x-python",
   "name": "python",
   "nbconvert_exporter": "python",
   "pygments_lexer": "ipython3",
   "version": "3.8.5"
  }
 },
 "nbformat": 4,
 "nbformat_minor": 4
}
