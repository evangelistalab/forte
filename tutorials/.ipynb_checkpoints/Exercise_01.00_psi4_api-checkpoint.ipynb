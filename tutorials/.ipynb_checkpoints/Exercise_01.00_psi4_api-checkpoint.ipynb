{
 "cells": [
  {
   "cell_type": "markdown",
   "metadata": {},
   "source": [
    "# Forte Exercise 1.00: Running psi4 jobs in Jupyter notebooks \n",
    "## **Goal**: find the symmetry of the triple ground state of linear water\n",
    "\n",
    "---\n",
    "\n",
    "In this exercise you are going to use psi4's Python API to compute the restricted open-shell Hartree-Fock wave function of triplet linear water and will use the symmetry information to find out the irrep of the final state.\n",
    "\n",
    "## Import psi4\n",
    "The first step necessary to run psi4 in Jupyter is to import psi4"
   ]
  },
  {
   "cell_type": "code",
   "execution_count": null,
   "metadata": {},
   "outputs": [],
   "source": [
    "import psi4"
   ]
  },
  {
   "cell_type": "markdown",
   "metadata": {},
   "source": [
    "## Specify the molecular geometry\n",
    "Next, we specify the molecular geometry. We will consider an hydrogen molecule with a bond distance of 1 Å and specify the geometry using the xyz format"
   ]
  },
  {
   "cell_type": "code",
   "execution_count": null,
   "metadata": {},
   "outputs": [],
   "source": [
    "charge = 0\n",
    "multp = 3\n",
    "rHH = 1.0 # Ångstrom\n",
    "geom = f'{charge} {multp}\\nO\\nH 1 1.0\\nH 1 1.0 2 180.0' # we use formatted strings\n",
    "print(geom)"
   ]
  },
  {
   "cell_type": "markdown",
   "metadata": {},
   "source": [
    "## Creating the molecule object and accessing its properties\n",
    "We can now pass the geometry to psi4 and build a `Molecule` object. (see `psi4/src/libmints/molecule.h`)"
   ]
  },
  {
   "cell_type": "code",
   "execution_count": null,
   "metadata": {},
   "outputs": [],
   "source": [
    "mol = psi4.geometry(geom)"
   ]
  },
  {
   "cell_type": "markdown",
   "metadata": {},
   "source": [
    "The molecule object can queried for information"
   ]
  },
  {
   "cell_type": "code",
   "execution_count": null,
   "metadata": {},
   "outputs": [],
   "source": [
    "print(f\"Number of atoms = {mol.natom()}\")\n",
    "print(f\"Nuclear repulsion energy = {mol.nuclear_repulsion_energy()}\")"
   ]
  },
  {
   "cell_type": "markdown",
   "metadata": {},
   "source": [
    "and we can even list information about all functions"
   ]
  },
  {
   "cell_type": "markdown",
   "metadata": {},
   "source": [
    "## Generate Hartree-Fock orbitals using psi4\n",
    "Using the molecule object we can now compute the MOs using psi4. We first set the options:\n",
    "1. basis: the basis set (string)\n",
    "2. scf_type: the type of SCF computation (string). 'pk' stands for the SCF algorithm with conventional integrals "
   ]
  },
  {
   "cell_type": "code",
   "execution_count": null,
   "metadata": {},
   "outputs": [],
   "source": [
    "# set basis/options\n",
    "basis = 'cc-pVDZ'\n",
    "reference = 'rohf'\n",
    "\n",
    "psi4.core.clean()\n",
    "\n",
    "psi4.set_options({'basis': basis,'scf_type': 'pk', 'reference' : reference})\n",
    "\n",
    "# pipe output to the file output.dat\n",
    "psi4.core.set_output_file('output.dat', False)\n",
    "\n",
    "# run scf and return the energy and a wavefunction object (will work only if pass return_wfn=True)\n",
    "E_scf, wfn = psi4.energy('scf', return_wfn=True)"
   ]
  },
  {
   "cell_type": "code",
   "execution_count": null,
   "metadata": {},
   "outputs": [],
   "source": [
    "print(f'SCF Energy: {E_scf}')"
   ]
  },
  {
   "cell_type": "markdown",
   "metadata": {},
   "source": [
    "# Extracting useful information from psi4\n",
    "The wavefunction object returned by psi4 is full of useful information. For example, we can ask how many orbitals are there in total"
   ]
  },
  {
   "cell_type": "code",
   "execution_count": null,
   "metadata": {},
   "outputs": [],
   "source": [
    "print(f\"Number of orbitals = {wfn.nmo()}\")\n",
    "print(f\"Number of alpha electrons = {wfn.nalpha()}\")"
   ]
  },
  {
   "cell_type": "markdown",
   "metadata": {},
   "source": [
    "or we can get information about symmetry"
   ]
  },
  {
   "cell_type": "code",
   "execution_count": null,
   "metadata": {},
   "outputs": [],
   "source": [
    "print(f\"Number of irreducible representations (irreps) = {wfn.nirrep()}\")\n",
    "nirrep = wfn.nirrep()"
   ]
  },
  {
   "cell_type": "markdown",
   "metadata": {},
   "source": [
    "In this case, psi4 detects D2h symmetry, which has eight irreducible representations. We can also find out how many orbitals there are for each irrep."
   ]
  },
  {
   "cell_type": "code",
   "execution_count": null,
   "metadata": {},
   "outputs": [],
   "source": [
    "# number of occupied molecular orbitals per irrep (mopi). Stored as a Dimension object\n",
    "nmopi = wfn.nmopi()\n",
    "\n",
    "# here we convert the psi4 Dimension object to a python tuple\n",
    "print(f\"Number of orbitals in each irreducible representation = {nmopi.to_tuple()}\")"
   ]
  },
  {
   "cell_type": "markdown",
   "metadata": {},
   "source": [
    "## Using the symmetry information in psi4\n",
    "General symmetry information can be found in the molecule object (because this information is independent of the details of the computation like basis set, method, etc). The information is found in the `PointGroup` object contained in the `Molecule` class."
   ]
  },
  {
   "cell_type": "code",
   "execution_count": null,
   "metadata": {},
   "outputs": [],
   "source": [
    "point_group = mol.point_group()\n",
    "print(f'Point group = {point_group.symbol()}')\n",
    "point_group_symbol = point_group.symbol()\n",
    "\n",
    "char_table = point_group.char_table()\n",
    "for h in range(nirrep):\n",
    "    print(f'Irrep {h} = {char_table.gamma(h).symbol()}')\n",
    "    \n",
    "# let's grab the irrep labels frpm psi4's character table\n",
    "irrep_labels = [char_table.gamma(h).symbol() for h in range(nirrep)]    "
   ]
  },
  {
   "cell_type": "code",
   "execution_count": null,
   "metadata": {},
   "outputs": [],
   "source": [
    "print(f\"Number of alpha electrons in each irreducible representation = {wfn.nalphapi().to_tuple()}\")\n",
    "print(f\"Number of beta electrons in each irreducible representation = {wfn.nbetapi().to_tuple()}\")"
   ]
  },
  {
   "cell_type": "code",
   "execution_count": null,
   "metadata": {},
   "outputs": [],
   "source": [
    "sym = 0\n",
    "\n",
    "# compute the product of the irrep of all the occupied orbitals\n",
    "for h, nh in enumerate(wfn.nalphapi().to_tuple()):\n",
    "    if nh % 2 == 1: sym ^= h \n",
    "for h, nh in enumerate(wfn.nbetapi().to_tuple()):\n",
    "    if nh % 2 == 1: sym ^= h\n",
    "        \n",
    "print(f'Symmetry = {irrep_labels[sym]}')"
   ]
  }
 ],
 "metadata": {
  "kernelspec": {
   "display_name": "Python 3",
   "language": "python",
   "name": "python3"
  },
  "language_info": {
   "codemirror_mode": {
    "name": "ipython",
    "version": 3
   },
   "file_extension": ".py",
   "mimetype": "text/x-python",
   "name": "python",
   "nbconvert_exporter": "python",
   "pygments_lexer": "ipython3",
   "version": "3.8.5"
  }
 },
 "nbformat": 4,
 "nbformat_minor": 4
}
