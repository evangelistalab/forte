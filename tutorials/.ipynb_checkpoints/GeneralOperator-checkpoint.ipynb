{
 "cells": [
  {
   "cell_type": "code",
   "execution_count": 10,
   "metadata": {},
   "outputs": [],
   "source": [
    "import forte\n",
    "from IPython.display import display, Math, Latex\n",
    "\n",
    "def latex(obj): display(Math(obj.latex()))"
   ]
  },
  {
   "cell_type": "markdown",
   "metadata": {},
   "source": [
    "## The StateVecto class"
   ]
  },
  {
   "cell_type": "code",
   "execution_count": 12,
   "metadata": {},
   "outputs": [
    {
     "data": {
      "text/plain": [
       "|+0-0000000000000000000000000000000000000000000000000000000000000>"
      ]
     },
     "execution_count": 12,
     "metadata": {},
     "output_type": "execute_result"
    }
   ],
   "source": [
    "forte.det('+0-')"
   ]
  },
  {
   "cell_type": "code",
   "execution_count": 13,
   "metadata": {},
   "outputs": [],
   "source": [
    "psi = forte.StateVector({ forte.det('20'): 1.0, forte.det('00') : 1.0})"
   ]
  },
  {
   "cell_type": "code",
   "execution_count": 14,
   "metadata": {},
   "outputs": [
    {
     "name": "stdout",
     "output_type": "stream",
     "text": [
      "|200> * 1.000000\n",
      "|000> * 1.000000\n",
      "\n"
     ]
    }
   ],
   "source": [
    "print(psi.str(3))"
   ]
  },
  {
   "cell_type": "code",
   "execution_count": 15,
   "metadata": {},
   "outputs": [
    {
     "data": {
      "text/latex": [
       "$\\displaystyle $"
      ],
      "text/plain": [
       "<IPython.core.display.Math object>"
      ]
     },
     "metadata": {},
     "output_type": "display_data"
    }
   ],
   "source": [
    "op = forte.SparseOperator()\n",
    "op.str()\n",
    "display(Math(op.latex()))"
   ]
  },
  {
   "cell_type": "markdown",
   "metadata": {},
   "source": [
    " *  creation_i  : bool (true = creation, false = annihilation)\n",
    " *  alpha_i     : bool (true = alpha, false = beta)\n",
    " *  orb_i   "
   ]
  },
  {
   "cell_type": "code",
   "execution_count": 16,
   "metadata": {},
   "outputs": [
    {
     "data": {
      "text/latex": [
       "$\\displaystyle 0.500000\\;\\hat{a}_{0 \\alpha}$"
      ],
      "text/plain": [
       "<IPython.core.display.Math object>"
      ]
     },
     "metadata": {},
     "output_type": "display_data"
    }
   ],
   "source": [
    "op.add_term([(False,True,0)],0.5)\n",
    "op.str()\n",
    "latex(op)"
   ]
  },
  {
   "cell_type": "code",
   "execution_count": 17,
   "metadata": {},
   "outputs": [
    {
     "data": {
      "text/latex": [
       "$\\displaystyle 0.500000\\;\\hat{a}_{0 \\alpha} + -0.500000\\;\\hat{a}_{0 \\alpha}^\\dagger$"
      ],
      "text/plain": [
       "<IPython.core.display.Math object>"
      ]
     },
     "metadata": {},
     "output_type": "display_data"
    }
   ],
   "source": [
    "op2 = forte.SparseOperator(antihermitian=True)\n",
    "op2.add_term_from_str('[0a-]',0.5)\n",
    "latex(op2)"
   ]
  },
  {
   "cell_type": "code",
   "execution_count": 18,
   "metadata": {},
   "outputs": [
    {
     "name": "stdout",
     "output_type": "stream",
     "text": [
      "|+00> * -0.500000\n",
      "|-00> * 0.500000\n",
      "\n"
     ]
    }
   ],
   "source": [
    "new_psi = forte.apply_operator(op2,psi)\n",
    "print(new_psi.str(3))"
   ]
  },
  {
   "cell_type": "code",
   "execution_count": 19,
   "metadata": {},
   "outputs": [
    {
     "data": {
      "text/latex": [
       "$\\displaystyle -0.250000\\;\\hat{a}_{1 \\alpha}^\\dagger\\hat{a}_{0 \\alpha}$"
      ],
      "text/plain": [
       "<IPython.core.display.Math object>"
      ]
     },
     "metadata": {},
     "output_type": "display_data"
    },
    {
     "name": "stdout",
     "output_type": "stream",
     "text": [
      "|-+0> * -0.250000\n",
      "\n"
     ]
    }
   ],
   "source": [
    "op2 = forte.GeneralOperator()\n",
    "op2.add_term_from_str('[0a- 1a+]',0.25)\n",
    "latex(op2)\n",
    "\n",
    "new_psi = forte.apply_operator(op2,psi)\n",
    "print(new_psi.str(3))"
   ]
  },
  {
   "cell_type": "code",
   "execution_count": 20,
   "metadata": {},
   "outputs": [
    {
     "data": {
      "text/latex": [
       "$\\displaystyle 0.500000 * ( 1.000000\\; \\hat{a}_{0 \\alpha} -1.000000\\; \\hat{a}_{0 \\alpha}^\\dagger ) + 1.500000 * ( 1.000000\\; \\hat{a}_{1 \\alpha} -1.000000\\; \\hat{a}_{1 \\alpha}^\\dagger )$"
      ],
      "text/plain": [
       "<IPython.core.display.Math object>"
      ]
     },
     "metadata": {},
     "output_type": "display_data"
    }
   ],
   "source": [
    "op2 = forte.GeneralOperator()\n",
    "op2.add_term_from_str('[0a-] - [0a+]',0.5)\n",
    "op2.add_term_from_str('[1a-] - [1a+]',1.5)\n",
    "latex(op2)"
   ]
  },
  {
   "cell_type": "code",
   "execution_count": null,
   "metadata": {},
   "outputs": [],
   "source": []
  },
  {
   "cell_type": "code",
   "execution_count": null,
   "metadata": {},
   "outputs": [],
   "source": []
  }
 ],
 "metadata": {
  "kernelspec": {
   "display_name": "Python 3 (ipykernel)",
   "language": "python",
   "name": "python3"
  },
  "language_info": {
   "codemirror_mode": {
    "name": "ipython",
    "version": 3
   },
   "file_extension": ".py",
   "mimetype": "text/x-python",
   "name": "python",
   "nbconvert_exporter": "python",
   "pygments_lexer": "ipython3",
   "version": "3.9.7"
  }
 },
 "nbformat": 4,
 "nbformat_minor": 4
}
