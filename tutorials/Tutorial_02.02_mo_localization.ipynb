{
 "cells": [
  {
   "cell_type": "markdown",
   "metadata": {},
   "source": [
    "# Forte Tutorial 2.02: Orbital localization\n",
    "\n",
    "---\n",
    "\n",
    "In this tutorial we are going to explore how to localize orbitals and visualize them in Jupyter notebooks using the Python API."
   ]
  },
  {
   "cell_type": "markdown",
   "metadata": {},
   "source": [
    "Let's import the `psi4` and `forte` modules, including `the forte.utils` submodule"
   ]
  },
  {
   "cell_type": "code",
   "execution_count": null,
   "metadata": {},
   "outputs": [],
   "source": [
    "import psi4\n",
    "import forte\n",
    "import forte.utils"
   ]
  },
  {
   "cell_type": "markdown",
   "metadata": {},
   "source": [
    "We will start by generating SCF orbitals for methane via psi4 using the `forte.util.psi4_scf` function"
   ]
  },
  {
   "cell_type": "code",
   "execution_count": null,
   "metadata": {},
   "outputs": [],
   "source": [
    "xyz = \"\"\"\n",
    "0 1\n",
    "C       -1.9565506735      0.4146729724      0.0000000000                 \n",
    "H       -0.8865506735      0.4146729724      0.0000000000                 \n",
    "H       -2.3132134555      1.1088535618     -0.7319870007                 \n",
    "H       -2.3132183114      0.7015020975      0.9671697106                 \n",
    "H       -2.3132196063     -0.5663349614     -0.2351822830\n",
    "symmetry c1\"\"\"\n",
    "\n",
    "E_scf, wfn = forte.utils.psi4_scf(xyz, 'sto-3g', 'rhf', functional = 'hf')"
   ]
  },
  {
   "cell_type": "markdown",
   "metadata": {},
   "source": [
    "Next we start forte, setup the MOSpaceInfo object specifying the number of orbitals, and start the integral object"
   ]
  },
  {
   "cell_type": "code",
   "execution_count": null,
   "metadata": {},
   "outputs": [],
   "source": [
    "from forte import forte_options\n",
    "\n",
    "forte.startup()\n",
    "\n",
    "options = forte.forte_options\n",
    "\n",
    "mos_spaces = {'RESTRICTED_DOCC' : [5], 'ACTIVE' : [0]}\n",
    "mo_space_info = forte.make_mo_space_info_from_map(wfn,mos_spaces,[])\n",
    "scf_info = forte.SCFInfo(wfn)\n",
    "ints = forte.make_forte_integrals(wfn, options, mo_space_info)"
   ]
  },
  {
   "cell_type": "markdown",
   "metadata": {},
   "source": [
    "## Localizing the orbitals\n",
    "To localize the orbitals we create a `Localize` object. We have to pass a few object to perform the localization"
   ]
  },
  {
   "cell_type": "code",
   "execution_count": null,
   "metadata": {},
   "outputs": [],
   "source": [
    "localizer = forte.Localize(forte.forte_options, ints, mo_space_info)"
   ]
  },
  {
   "cell_type": "markdown",
   "metadata": {},
   "source": [
    "Once the `Localize` object is created, we specify which orbital space we want to be localized and compute the unitary transformation"
   ]
  },
  {
   "cell_type": "code",
   "execution_count": null,
   "metadata": {},
   "outputs": [],
   "source": [
    "localizer.set_orbital_space(['RESTRICTED_DOCC'])\n",
    "localizer.compute_transformation()"
   ]
  },
  {
   "cell_type": "markdown",
   "metadata": {},
   "source": [
    "From the localizer we can then extract the unitary transformation matrix that correspond to the orbital localizaition. Here we get the alpha part"
   ]
  },
  {
   "cell_type": "code",
   "execution_count": null,
   "metadata": {},
   "outputs": [],
   "source": [
    "Ua = localizer.get_Ua()"
   ]
  },
  {
   "cell_type": "markdown",
   "metadata": {},
   "source": [
    "We are now ready to read the MOs from psi4 and transform them by computing the product $\\mathbf{C}' = \\mathbf{C} \\mathbf{U}$. We then place the orbitals back into psi4 by calling the `copy` function on `wfn.Ca()`. We have to do this because this function returns a smart pointer to the matrix that holds $\\mathbf{C}$. If we assigned `Ca_local` via `wfn.Ca() = Ca_local` we would not change the orbitals in psi4."
   ]
  },
  {
   "cell_type": "code",
   "execution_count": null,
   "metadata": {},
   "outputs": [],
   "source": [
    "Ca = wfn.Ca()\n",
    "Ca_local = psi4.core.doublet(Ca,Ua,False,False)\n",
    "wfn.Ca().copy(Ca_local)"
   ]
  },
  {
   "cell_type": "markdown",
   "metadata": {},
   "source": [
    "Lastly we generate cube files for all the occupied orbitals and visualize them. The resulting orbitals consist of a core orbital (which cannot be seen) and four localized C-H $\\sigma$ bond orbitals"
   ]
  },
  {
   "cell_type": "code",
   "execution_count": null,
   "metadata": {},
   "outputs": [],
   "source": [
    "cubes = forte.utils.psi4_cubeprop(wfn,path='cubes',nocc=5,nvir=0, load=True)\n",
    "plot = forte.utils.cube_viewer(cubes)\n",
    "plot"
   ]
  },
  {
   "cell_type": "code",
   "execution_count": null,
   "metadata": {},
   "outputs": [],
   "source": [
    "forte.cleanup()"
   ]
  }
 ],
 "metadata": {
  "kernelspec": {
   "display_name": "Python 3",
   "language": "python",
   "name": "python3"
  },
  "language_info": {
   "codemirror_mode": {
    "name": "ipython",
    "version": 3
   },
   "file_extension": ".py",
   "mimetype": "text/x-python",
   "name": "python",
   "nbconvert_exporter": "python",
   "pygments_lexer": "ipython3",
   "version": "3.7.6"
  }
 },
 "nbformat": 4,
 "nbformat_minor": 4
}
