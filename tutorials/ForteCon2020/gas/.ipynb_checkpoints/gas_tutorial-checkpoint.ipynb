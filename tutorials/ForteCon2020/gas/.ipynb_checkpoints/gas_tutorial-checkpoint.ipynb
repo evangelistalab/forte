{
 "cells": [
  {
   "cell_type": "markdown",
   "metadata": {},
   "source": [
    "# Forte Tutorial: Running GASCI and GASSCF in Forte\n",
    "\n",
    "---\n",
    "\n",
    "In this tutorial we are going to explore how to perform a GAS related computation using Psi4 and Forte.\n",
    "\n"
   ]
  },
  {
   "cell_type": "markdown",
   "metadata": {},
   "source": [
    "## 1. CISD on H2O molecule using Forte and PSI\n",
    "\n",
    "### 1.1: CISD calculation on PSI4"
   ]
  },
  {
   "cell_type": "code",
   "execution_count": 1,
   "metadata": {},
   "outputs": [],
   "source": [
    "import psi4\n",
    "import forte\n",
    "import numpy as np\n",
    "import subprocess"
   ]
  },
  {
   "cell_type": "markdown",
   "metadata": {},
   "source": [
    "I stole this function from York which performs a Psi4 calculation. I added a key 'detect_default' which detects all the Forte option value which is NOT equal to its default value in forte. These options can be read from Psi4 or previous Forte calculation. "
   ]
  },
  {
   "cell_type": "code",
   "execution_count": 2,
   "metadata": {},
   "outputs": [],
   "source": [
    "def run_psi4_energy(job, mol, options, ref_wfn=None, forte_options=None, detect_default = False):\n",
    "    \"\"\"\n",
    "    Run a Psi4 calculation.\n",
    "    :param job: a string to be passed to psi4.energy()\n",
    "    :param mol: a Psi4 Molecule object\n",
    "    :param options: a Python dictionary to be passed to psi4.set_options()\n",
    "    :param ref_wfn: a Psi4 Wavefunction object as reference\n",
    "    :param forte_options: a Python dictionary stores Forte options\n",
    "    :return: the energy and the Wavefunction\n",
    "    \"\"\"\n",
    "    psi4.core.set_active_molecule(mol)\n",
    "\n",
    "    psi4.set_options(options)\n",
    "\n",
    "    def detect(forte_options):\n",
    "        list_none_value = ['REFERENCE','SCF_TYPE','BASIS']\n",
    "        non_default = [i for i in forte.forte_options.dict() if forte.forte_options.dict()[i]['value']!= forte.forte_options.dict()[i]['default_value']]\n",
    "        removed_none = [i for i in non_default if i not in list_none_value ]\n",
    "        for i in forte_options:\n",
    "            if i.upper() in removed_none:\n",
    "                removed_none.remove(i.upper())\n",
    "        for i in removed_none:\n",
    "            print(f\"The {i} key which has not been defined has a value {forte.forte_options.dict()[i]['value']} which is different from its default value {forte.forte_options.dict()[i]['default_value']}\")\n",
    "    \n",
    "    if forte_options is not None:\n",
    "        psi4.set_module_options('forte', forte_options)\n",
    "        if detect_default:\n",
    "            detect(forte_options)\n",
    "        \n",
    "    if ref_wfn is None:\n",
    "        Epsi4, wfn = psi4.energy(job, return_wfn=True)\n",
    "        # molecule can be directly passed to energy:\n",
    "        # Epsi4, wfn = psi4.energy(job, molecule=mol, return_wfn=True)\n",
    "    else:\n",
    "        Epsi4, wfn = psi4.energy(job, ref_wfn=ref_wfn, return_wfn=True)\n",
    "    \n",
    "    return Epsi4, wfn"
   ]
  },
  {
   "cell_type": "markdown",
   "metadata": {},
   "source": [
    "Create the water molecule."
   ]
  },
  {
   "cell_type": "code",
   "execution_count": 3,
   "metadata": {},
   "outputs": [],
   "source": [
    "geom_H2O = f\"\"\"O\n",
    "         H 1 1.00\n",
    "         H 1 1.00 2 103.1\n",
    "         \"\"\"\n",
    "mol_H2O = psi4.geometry(geom_H2O)"
   ]
  },
  {
   "cell_type": "markdown",
   "metadata": {},
   "source": [
    "It is quite straighforward to run the psi4 cisd calculation, which I believe also used RASCI module in psi4."
   ]
  },
  {
   "cell_type": "code",
   "execution_count": 4,
   "metadata": {},
   "outputs": [
    {
     "name": "stdout",
     "output_type": "stream",
     "text": [
      "Psi4 CISD Energy: -76.219847448329404\n"
     ]
    }
   ],
   "source": [
    "psi4.core.set_output_file('cisd_psi4.out', False)  # pipe output to the file\n",
    "\n",
    "options = {'basis': '6-31g**', 'reference': 'rohf', 'qc_module' : 'detci'}\n",
    "\n",
    "Ecisd_psi4, wfn = run_psi4_energy('cisd', mol_H2O, options)\n",
    "print(f\"Psi4 CISD Energy: {Ecisd_psi4:.15f}\")"
   ]
  },
  {
   "cell_type": "markdown",
   "metadata": {},
   "source": [
    "### 1.2: CISD calculation on Forte\n",
    "\n",
    "We then carry out the same computation using Forte.\n",
    "First, we checkout the active space of H2O from psi4 calcualtion we just did. Again, credit to York for writing this."
   ]
  },
  {
   "cell_type": "code",
   "execution_count": 5,
   "metadata": {},
   "outputs": [
    {
     "name": "stdout",
     "output_type": "stream",
     "text": [
      "Number of irreps: 4\n",
      "FROZEN_DOCC : (0, 0, 0, 0)\n",
      "NMOPI       : (12, 2, 4, 7)\n",
      "DOCCPI      : (3, 0, 1, 1)\n",
      "SOCCPI      : (0, 0, 0, 0)\n",
      "UOCCPI      : (9, 2, 3, 6)\n"
     ]
    }
   ],
   "source": [
    "nirrep = wfn.nirrep()\n",
    "uoccpi = wfn.nmopi() - wfn.doccpi() - wfn.soccpi()\n",
    "occ_map = {\n",
    "    \"FROZEN_DOCC\": wfn.frzcpi(),\n",
    "    \"NMOPI\": wfn.nmopi(),\n",
    "    \"DOCCPI\": wfn.doccpi(),\n",
    "    \"SOCCPI\": wfn.soccpi(),\n",
    "    \"UOCCPI\": uoccpi\n",
    "}   \n",
    "print(f\"Number of irreps: {nirrep}\")\n",
    "for k, v in occ_map.items():\n",
    "    print(f\"{k:12}: {v.to_tuple()}\")"
   ]
  },
  {
   "cell_type": "markdown",
   "metadata": {},
   "source": [
    "Here, we can perform the CISD calculation by separating all orbitals into two GAS. The doubly occupied ones are set as GAS1, and the unoccupied ones are set as GAS2. By allowing GAS2 to have no more than 2 electrons, we successfully set the CISD calculation up.\n",
    "\n",
    "#### GASX\n",
    "The current version of Forte supports in maximum 6 gas spaces, and GAS space can be defined as a list which has a length of ireps in the molecule. \n",
    "\n",
    "Forte automatically sum all the GASX into Active, so you don't have to define Active in this case. You can either define Active or GAS1 if you only need one GAS.\n",
    "\n",
    "#### GASMAX/GASMIN\n",
    "The maximum and minimum number of electron in the each GAS space is defined using GASXMAX/GASXMIN where X is from 1-6. GASXMAX/GASXMIN are list which have the same number of elements as AVG_STATE. When AVG_STATE is not defined, they have a lenth of 1.\n",
    "The default value of GASXMAX is the number of orbitals times 2.\n",
    "The default value of GASXMIN is 0.\n",
    "Forte can handle the case where GASXMAX is greater than number of electrons in this system.\n",
    "\n",
    "#### ACI OPTIONS\n",
    "Since the current version of GAS is implemented with ACI code, therefore, ACTIVE_SPACE_SOLVER has to be defined as ACI and the ACTIVE_REF_TYPE keyword is GAS for including all possible determinants under the GAS separtion and limitation of electron occupations. The 'One_Cycle' option is specifically to used for ACI to do a FCI type calculation, and this should be removed in the further development."
   ]
  },
  {
   "cell_type": "code",
   "execution_count": 6,
   "metadata": {},
   "outputs": [
    {
     "name": "stderr",
     "output_type": "stream",
     "text": [
      "/home/mhuang/forte/pymodule.py:372: UserWarning: \n",
      "  Forte is using orbitals from a psi4 SCF reference. This is not the best choice for multireference computations.\n",
      "  To use CASSCF orbitals from psi4 set REF_TYPE to CASSCF.\n",
      "\n",
      "  UserWarning)\n"
     ]
    },
    {
     "name": "stdout",
     "output_type": "stream",
     "text": [
      "Forte CISD Energy: -76.219847449870727\n"
     ]
    }
   ],
   "source": [
    "psi4.core.set_output_file('cisd_forte.out', False)\n",
    "\n",
    "GAS1 = list(wfn.doccpi())\n",
    "GAS2 = list(uoccpi)\n",
    "GAS2MAX = [2]\n",
    "\n",
    "options = {'basis': '6-31g**', 'reference': 'rohf', 'scf_type':'pk'}\n",
    "foptions = {\n",
    "    'ACTIVE_SPACE_SOLVER': 'ACI',\n",
    "    'ACTIVE_REF_TYPE': 'GAS',\n",
    "    'GAS1': GAS1,\n",
    "    'GAS2': GAS2,\n",
    "    'GAS2MAX': GAS2MAX,\n",
    "    'One_cycle': True\n",
    "}\n",
    "\n",
    "\n",
    "Ecisd_forte, wfn_forte = run_psi4_energy('forte', mol_H2O, options, forte_options=foptions, detect_default = True)\n",
    "print(f\"Forte CISD Energy: {Ecisd_forte:.15f}\")\n",
    "\n",
    "assert abs(Ecisd_forte - Ecisd_psi4) < 1.0e-6"
   ]
  },
  {
   "cell_type": "markdown",
   "metadata": {},
   "source": [
    "### 1.3: CISDT calculation on Forte"
   ]
  },
  {
   "cell_type": "markdown",
   "metadata": {},
   "source": [
    "Try to modify GAS1, GAS2 and GAS2MAX to do a CISDT calculation."
   ]
  },
  {
   "cell_type": "code",
   "execution_count": 7,
   "metadata": {},
   "outputs": [
    {
     "name": "stderr",
     "output_type": "stream",
     "text": [
      "/home/mhuang/forte/pymodule.py:372: UserWarning: \n",
      "  Forte is using orbitals from a psi4 SCF reference. This is not the best choice for multireference computations.\n",
      "  To use CASSCF orbitals from psi4 set REF_TYPE to CASSCF.\n",
      "\n",
      "  UserWarning)\n"
     ]
    },
    {
     "name": "stdout",
     "output_type": "stream",
     "text": [
      "Forte CISDT Energy: -76.219847449870571\n"
     ]
    },
    {
     "ename": "AssertionError",
     "evalue": "",
     "output_type": "error",
     "traceback": [
      "\u001b[0;31m---------------------------------------------------------------------------\u001b[0m",
      "\u001b[0;31mAssertionError\u001b[0m                            Traceback (most recent call last)",
      "\u001b[0;32m<ipython-input-7-38f099b03c7c>\u001b[0m in \u001b[0;36m<module>\u001b[0;34m()\u001b[0m\n\u001b[1;32m     19\u001b[0m \u001b[0mprint\u001b[0m\u001b[0;34m(\u001b[0m\u001b[0;34mf\"Forte CISDT Energy: {Ecisdt_forte:.15f}\"\u001b[0m\u001b[0;34m)\u001b[0m\u001b[0;34m\u001b[0m\u001b[0;34m\u001b[0m\u001b[0m\n\u001b[1;32m     20\u001b[0m \u001b[0;34m\u001b[0m\u001b[0m\n\u001b[0;32m---> 21\u001b[0;31m \u001b[0;32massert\u001b[0m \u001b[0mabs\u001b[0m\u001b[0;34m(\u001b[0m\u001b[0mEcisdt_forte\u001b[0m \u001b[0;34m-\u001b[0m \u001b[0;34m-\u001b[0m\u001b[0;36m76.222724956813963\u001b[0m\u001b[0;34m)\u001b[0m \u001b[0;34m<\u001b[0m \u001b[0;36m1.0e-6\u001b[0m\u001b[0;34m\u001b[0m\u001b[0;34m\u001b[0m\u001b[0m\n\u001b[0m",
      "\u001b[0;31mAssertionError\u001b[0m: "
     ]
    }
   ],
   "source": [
    "#TODO : To calculate the CISDT energy of H2O molecule at this geometry\n",
    "psi4.core.set_output_file('cisdt_forte.out', False)\n",
    "\n",
    "GAS1 = list(wfn.doccpi())\n",
    "GAS2 = list(uoccpi)\n",
    "GAS2MAX = [2]\n",
    "\n",
    "options = {'basis': '6-31g**', 'reference': 'rohf', 'scf_type':'pk'}\n",
    "foptions = {\n",
    "    'ACTIVE_SPACE_SOLVER': 'ACI',\n",
    "    'ACTIVE_REF_TYPE': 'GAS',\n",
    "    'GAS1': GAS1,\n",
    "    'GAS2': GAS2,\n",
    "    'GAS2MAX': GAS2MAX,\n",
    "    'One_cycle': True\n",
    "}\n",
    "\n",
    "Ecisdt_forte, wfn_forte = run_psi4_energy('forte', mol_H2O, options, forte_options=foptions)\n",
    "print(f\"Forte CISDT Energy: {Ecisdt_forte:.15f}\")\n",
    "\n",
    "assert abs(Ecisdt_forte - -76.222724956813963) < 1.0e-6"
   ]
  },
  {
   "cell_type": "markdown",
   "metadata": {},
   "source": [
    "### 1.4: CISDTQ calculation with GAS-ACI on Forte\n",
    "In this case, we are unable to do a FCI calcualtion within GAS as the number of determinants is too big. We can use Adaptive CI to do an approximate calculation which selects the only important determinants. To save time, we will just perform a ACI with very rough accuaracy here for CISDTQ calcualtion."
   ]
  },
  {
   "cell_type": "markdown",
   "metadata": {},
   "source": [
    "#### Sigma\n",
    "The threshold of ACI selection. The smaller sigma is, the more determinants are selected, and the more ACI is closer to the FCI>\n",
    "\n",
    "#### ACTIVE_REF_TYPE = GAS_SINGLE\n",
    "Choose the aufbau principle state within the GAS to start the ACI calculation. You should not use ACTIVE_REF_TYPE = GAS for ACI."
   ]
  },
  {
   "cell_type": "code",
   "execution_count": 8,
   "metadata": {},
   "outputs": [
    {
     "name": "stderr",
     "output_type": "stream",
     "text": [
      "/home/mhuang/forte/pymodule.py:372: UserWarning: \n",
      "  Forte is using orbitals from a psi4 SCF reference. This is not the best choice for multireference computations.\n",
      "  To use CASSCF orbitals from psi4 set REF_TYPE to CASSCF.\n",
      "\n",
      "  UserWarning)\n"
     ]
    },
    {
     "name": "stdout",
     "output_type": "stream",
     "text": [
      "Forte CISDTQ ACI Energy: -76.152274556850358\n"
     ]
    }
   ],
   "source": [
    "psi4.core.set_output_file('cisdtq_aci_forte.out', False)\n",
    "options = {'basis': '6-31g**', 'reference': 'rohf', 'scf_type':'pk'}\n",
    "foptions = {\n",
    "    'ACTIVE_SPACE_SOLVER': 'ACI',\n",
    "    'ACTIVE_REF_TYPE': 'GAS_SINGLE',\n",
    "    'GAS1': [3, 0, 1, 1],\n",
    "    'GAS2': [9, 2, 3, 6],\n",
    "    'GAS2MAX': [4],\n",
    "    'One_cycle': False,\n",
    "    'sigma':0.1\n",
    "}\n",
    "\n",
    "Ecisdtq_forte, wfn_forte = run_psi4_energy('forte', mol_H2O, options, forte_options=foptions)\n",
    "print(f\"Forte CISDTQ ACI Energy: {Ecisdtq_forte:.15f}\")\n",
    "\n",
    "assert abs(Ecisdtq_forte - -76.152274556850642) < 1.0e-6"
   ]
  },
  {
   "cell_type": "markdown",
   "metadata": {},
   "source": [
    "## 2. Core Excited transition of H2O molecule using GASCI and GASSCF in Forte \n",
    "\n",
    "### 2.1 GASCI calculation on O K-Edge transition of H2O molecule\n",
    "One of the applications of GAS is to calculate the core-excited or core-ionized electronic states. These are directly related to transitions in X-ray region.\n",
    "\n",
    "Let us first try to calculate the 1A1 -> 4A1 transition energy of H2O using GASCI.\n",
    "\n",
    "For H2O and the full core and valence contains 1A1, 2A1, 1B2, 3A1, 1B1, 4A1, 2B2 orbitals."
   ]
  },
  {
   "cell_type": "code",
   "execution_count": 9,
   "metadata": {
    "scrolled": true
   },
   "outputs": [
    {
     "name": "stderr",
     "output_type": "stream",
     "text": [
      "/home/mhuang/forte/pymodule.py:372: UserWarning: \n",
      "  Forte is using orbitals from a psi4 SCF reference. This is not the best choice for multireference computations.\n",
      "  To use CASSCF orbitals from psi4 set REF_TYPE to CASSCF.\n",
      "\n",
      "  UserWarning)\n",
      "/home/mhuang/forte/pymodule.py:372: UserWarning: \n",
      "  Forte is using orbitals from a psi4 SCF reference. This is not the best choice for multireference computations.\n",
      "  To use CASSCF orbitals from psi4 set REF_TYPE to CASSCF.\n",
      "\n",
      "  UserWarning)\n"
     ]
    },
    {
     "name": "stdout",
     "output_type": "stream",
     "text": [
      "Core Excited CI Energy in eV: 549.016829540214189\n"
     ]
    }
   ],
   "source": [
    "psi4.core.set_output_file('core_excited_ci_forte.out', False)\n",
    "options = {'basis': '6-31g**', 'reference': 'rohf', 'scf_type':'pk'}\n",
    "foptions_gs = {\n",
    "    'ACTIVE_SPACE_SOLVER': 'ACI',\n",
    "    'ACTIVE_REF_TYPE': 'GAS',\n",
    "    'JOB_TYPE' : 'Newdriver',\n",
    "    'GAS1': [1, 0, 0, 0],\n",
    "    'GAS2': [3, 0, 1, 2],\n",
    "    'GAS1MAX': [2],\n",
    "    'GAS2MAX': [12],\n",
    "    'One_cycle': True\n",
    "}\n",
    "E_gs_ci, wfn_forte = run_psi4_energy('forte', mol_H2O, options, forte_options=foptions_gs)\n",
    "foptions_ex = {\n",
    "    'ACTIVE_SPACE_SOLVER': 'ACI',\n",
    "    'ACTIVE_REF_TYPE': 'GAS',\n",
    "    'JOB_TYPE' : 'Newdriver',\n",
    "    'GAS1': [1, 0, 0 ,0],\n",
    "    'GAS2': [3, 0, 1, 2],\n",
    "    'GAS1MAX': [1],\n",
    "    'GAS2MAX': [12],\n",
    "    'One_cycle': True,\n",
    "}\n",
    "E_ex_ci, wfn_forte = run_psi4_energy('forte', mol_H2O, options, forte_options=foptions_ex)\n",
    "print(f\"Core Excited CI Energy in eV: {(E_ex_ci - E_gs_ci)*27.2114:.15f}\")"
   ]
  },
  {
   "cell_type": "markdown",
   "metadata": {},
   "source": [
    "### 2.2 State Specific GASSCF calculation on O K-Edge transition of H2O molecule\n",
    "\n",
    "Since we are using only the valence orbitals of H2O for this calculation, it is very important to include the static correlation, especially for the core excited state. This requires a GASSCF procedjure.\n",
    "\n",
    "We here used the MCSCF_TWO_STEP code developed by York to do the GASSCF optimization. JOB_TYPE = CASSCF should also work.\n",
    "\n",
    "#### CASSCF_CI_SOLVER \n",
    "This needs to be set as ACI as GAS used ACI.\n",
    "\n",
    "#### CASSCF_ACTIVE_FROZEN_ORBITAL\n",
    "This option is a list which set the gradient of certain active orbitals (the Forte MO number) in the SCF optimization to zero, means they are not optimized. This is to prevent the single-occupied core orbital to swap with any valence orbital in the optimization process. This is a normal treatment in GASSCF for core-excited state.\n"
   ]
  },
  {
   "cell_type": "code",
   "execution_count": 10,
   "metadata": {},
   "outputs": [
    {
     "name": "stdout",
     "output_type": "stream",
     "text": [
      "The E_CONVERGENCE key which has not been defined has a value 1e-06 which is different from its default value 1e-09\n",
      "The SIGMA key which has not been defined has a value 0.1 which is different from its default value 0.01\n",
      "The GAS2MAX key which has not been defined has a value [12] which is different from its default value []\n"
     ]
    },
    {
     "name": "stderr",
     "output_type": "stream",
     "text": [
      "/home/mhuang/forte/pymodule.py:372: UserWarning: \n",
      "  Forte is using orbitals from a psi4 SCF reference. This is not the best choice for multireference computations.\n",
      "  To use CASSCF orbitals from psi4 set REF_TYPE to CASSCF.\n",
      "\n",
      "  UserWarning)\n",
      "/home/mhuang/forte/pymodule.py:372: UserWarning: \n",
      "  Forte is using orbitals from a psi4 SCF reference. This is not the best choice for multireference computations.\n",
      "  To use CASSCF orbitals from psi4 set REF_TYPE to CASSCF.\n",
      "\n",
      "  UserWarning)\n"
     ]
    },
    {
     "name": "stdout",
     "output_type": "stream",
     "text": [
      "Core Excited GASSCF Energy in eV: 537.709202377085830\n",
      "E_gs(GASSCF) - E_gs(GASCI): -0.04402109586833092\n",
      "E_ex(GASSCF) - E_ex(GASCI): -0.45956851948962196\n"
     ]
    }
   ],
   "source": [
    "psi4.core.set_output_file('core_excited_rasscf_forte.out', False)\n",
    "options = {'basis': '6-31g**', 'reference': 'rohf', 'scf_type':'direct'}\n",
    "foptions_gs = {\n",
    "    'ACTIVE_SPACE_SOLVER': 'ACI',\n",
    "    'ACTIVE_REF_TYPE': 'GAS',\n",
    "    'JOB_TYPE': 'MCSCF_TWO_STEP',\n",
    "    'GAS1': [1, 0, 0 ,0],\n",
    "    'GAS2': [3, 0, 1, 2],\n",
    "    'GAS1MAX': [2],\n",
    "    'One_cycle': True,\n",
    "    'CASSCF_CI_SOLVER': 'ACI',\n",
    "    'CASSCF_ACTIVE_FROZEN_ORBITAL':[0]\n",
    "}\n",
    "E_gs_scf, wfn_forte = run_psi4_energy('forte', mol_H2O, options, forte_options=foptions_gs, detect_default = True)\n",
    "foptions_ex = {\n",
    "    'ACTIVE_SPACE_SOLVER': 'ACI',\n",
    "    'ACTIVE_REF_TYPE': 'GAS',\n",
    "    'JOB_TYPE': 'MCSCF_TWO_STEP',\n",
    "    'GAS1': [1, 0, 0 ,0],\n",
    "    'GAS2': [3, 0, 1, 2],\n",
    "    'GAS1MAX': [1],\n",
    "    'One_cycle': True,\n",
    "    'CASSCF_CI_SOLVER': 'ACI',\n",
    "    'CASSCF_ACTIVE_FROZEN_ORBITAL':[0]\n",
    "}\n",
    "E_ex_scf, wfn_forte = run_psi4_energy('forte', mol_H2O, options, forte_options=foptions_ex)\n",
    "print(f\"Core Excited GASSCF Energy in eV: {(E_ex_scf - E_gs_scf)*27.2114:.15f}\")\n",
    "print(f\"E_gs(GASSCF) - E_gs(GASCI): {(E_gs_scf - E_gs_ci)}\")\n",
    "print(f\"E_ex(GASSCF) - E_ex(GASCI): {(E_ex_scf - E_ex_ci)}\")"
   ]
  },
  {
   "cell_type": "markdown",
   "metadata": {},
   "source": [
    "The static correlation for core excited state is gigantic in this case, which makes a huge difference! The experiment value is ~534 eV."
   ]
  },
  {
   "cell_type": "markdown",
   "metadata": {},
   "source": [
    "### 2.3 State-Average GASSCF calculation on O K-Edge transition of H2O molecule"
   ]
  },
  {
   "cell_type": "markdown",
   "metadata": {},
   "source": [
    "Forte can also preform a state-average SCF calculation for states with different symmetry, multiplicity, and even the states with same symmetry and multiplicity but different GAS electron restrictions! Here, we do a State-Average(SA) GASSCF on the two states we just calculated.\n",
    "\n",
    "#### AVG_STATE\n",
    "AVG_STATE contains a list of states, which are in the form of [ROOT_SYM, MULTIPLICTY, NUM_ROOT]. For ground state of H2O, we have a singlet, with A1 symmetry and only one state. So AVG_STATE is [0,1,1] for ground state and the same for 1A1->4A1 state. \n",
    "Forte will differentiate the two state by different GAS1MAX(which is part of state_info), therefore allows this State-Average GASSCF."
   ]
  },
  {
   "cell_type": "code",
   "execution_count": 11,
   "metadata": {
    "scrolled": true
   },
   "outputs": [
    {
     "name": "stderr",
     "output_type": "stream",
     "text": [
      "/home/mhuang/forte/pymodule.py:372: UserWarning: \n",
      "  Forte is using orbitals from a psi4 SCF reference. This is not the best choice for multireference computations.\n",
      "  To use CASSCF orbitals from psi4 set REF_TYPE to CASSCF.\n",
      "\n",
      "  UserWarning)\n"
     ]
    }
   ],
   "source": [
    "psi4.core.set_output_file('core_excited_sarasscf_forte.out', False)\n",
    "options = {'basis': '6-31g**', 'reference': 'rohf', 'scf_type':'direct'}\n",
    "foptions_sa = {\n",
    "    'ACTIVE_SPACE_SOLVER': 'ACI',\n",
    "    'ACTIVE_REF_TYPE': 'GAS',\n",
    "    'JOB_TYPE': 'MCSCF_TWO_STEP',\n",
    "    'GAS1': [1, 0, 0 ,0],\n",
    "    'GAS2': [3, 0, 1, 2],\n",
    "    'GAS1MAX': [2, 1],\n",
    "    'GAS2MAX': [12, 12],\n",
    "    'One_cycle': True,\n",
    "    'AVG_STATE': [[0,1,1],[0,1,1]],\n",
    "    'CASSCF_CI_SOLVER': 'ACI',\n",
    "    'CASSCF_ACTIVE_FROZEN_ORBITAL':[0]\n",
    "}\n",
    "E_ex, wfn_forte = run_psi4_energy('forte', mol_H2O, options, forte_options=foptions_sa)"
   ]
  },
  {
   "cell_type": "markdown",
   "metadata": {},
   "source": [
    "Unfortunately there is no good way to read the energy in this case. We used some shell script to help grep the energy."
   ]
  },
  {
   "cell_type": "code",
   "execution_count": 12,
   "metadata": {},
   "outputs": [],
   "source": [
    "def read_output(filename, grep_len, tail_len):\n",
    "    energylist = []\n",
    "    subprocess.call(\"grep -A{:d} 2ms \".format(grep_len)+filename+\" | tail -n {:d} > energy\".format(tail_len),shell=True)\n",
    "    with open('energy','r') as f:\n",
    "      for line in f:\n",
    "        if len(line.split())==6:\n",
    "          energylist.append(float(line.split()[5]))\n",
    "    subprocess.call(\"rm energy\",shell=True)\n",
    "    return energylist"
   ]
  },
  {
   "cell_type": "code",
   "execution_count": 13,
   "metadata": {},
   "outputs": [
    {
     "name": "stdout",
     "output_type": "stream",
     "text": [
      "Core Excited State-Average GASSCF Energy in eV: 537.440625877153707\n"
     ]
    }
   ],
   "source": [
    "energy_list = read_output('core_excited_sarasscf_forte.out',4,6)\n",
    "print(f\"Core Excited State-Average GASSCF Energy in eV: {abs((energy_list[0] - energy_list[1]))*27.2114:.15f}\")"
   ]
  },
  {
   "cell_type": "markdown",
   "metadata": {},
   "source": [
    "As can be seen state-average GASSCF has a smaller transition energy than state-specific GASSCF, by 0.26 eV. This is what we expected for state-average calculations."
   ]
  },
  {
   "cell_type": "markdown",
   "metadata": {},
   "source": [
    "### 2.4 State-Average GASSCF calculation on 1A1-> 2B2 O K-Edge transition of H2O molecule\n",
    "Try to modify GAS1, GAS2 and AVG_STATE to do a 1A1-> 2B2 calculation."
   ]
  },
  {
   "cell_type": "code",
   "execution_count": 14,
   "metadata": {},
   "outputs": [
    {
     "name": "stderr",
     "output_type": "stream",
     "text": [
      "/home/mhuang/forte/pymodule.py:372: UserWarning: \n",
      "  Forte is using orbitals from a psi4 SCF reference. This is not the best choice for multireference computations.\n",
      "  To use CASSCF orbitals from psi4 set REF_TYPE to CASSCF.\n",
      "\n",
      "  UserWarning)\n"
     ]
    }
   ],
   "source": [
    "#TODO : To calculate the transition from ground state to 1A1->2B2 energy of H2O molecule \n",
    "#       at this geometry with the same active space\n",
    "\n",
    "# Recall that ground state docc is [3,0,1,1]\n",
    "\n",
    "GAS1MAX = [2,1]\n",
    "GAS2MAX = [12, 12]\n",
    "AVG_STATE = [[0,1,1],[0,1,1]]\n",
    "\n",
    "psi4.core.set_output_file('core_excited_sarasscf_2_forte.out', False)\n",
    "options = {'basis': '6-31g**', 'reference': 'rohf', 'scf_type':'direct'}\n",
    "foptions_sa_2 = {\n",
    "    'ACTIVE_SPACE_SOLVER': 'ACI',\n",
    "    'ACTIVE_REF_TYPE': 'GAS',\n",
    "    'JOB_TYPE': 'MCSCF_TWO_STEP',\n",
    "    'GAS1': [1, 0, 0 ,0],\n",
    "    'GAS2': [3, 0, 1, 2],\n",
    "    'GAS1MAX': GAS1MAX,\n",
    "    'GAS2MAX': GAS2MAX,\n",
    "    'One_cycle': True,\n",
    "    'AVG_STATE': AVG_STATE,\n",
    "    'CASSCF_CI_SOLVER': 'ACI',\n",
    "    'CASSCF_ACTIVE_FROZEN_ORBITAL':[0]\n",
    "}\n",
    "E_ex, wfn_forte = run_psi4_energy('forte', mol_H2O, options, forte_options=foptions_sa_2)"
   ]
  },
  {
   "cell_type": "code",
   "execution_count": 15,
   "metadata": {},
   "outputs": [
    {
     "name": "stdout",
     "output_type": "stream",
     "text": [
      "Core Excited State-Average GASSCF Energy in eV: 537.440625877153707\n"
     ]
    }
   ],
   "source": [
    "energy_list = read_output('core_excited_sarasscf_2_forte.out',4,6)\n",
    "print(f\"Core Excited State-Average GASSCF Energy in eV: {abs((energy_list[0] - energy_list[1]))*27.2114:.15f}\")"
   ]
  },
  {
   "cell_type": "markdown",
   "metadata": {},
   "source": [
    "The 1A1->2B2 is about 2 eV higher than the 1A1->4A1 in the experiment. Is this consistent with what you observe?\n",
    "\n",
    "Generally, State-Average GASSCF is slightly worse in transition energy compared to State-Specific ones, but (1) it can make transition dipole moment evaluation much simpler (2) it can avoid some kinks caused by avoid-crossing. \n",
    "\n",
    "ACI can also be combined with SCF for larger system when FCI in GAS is too expensive. \n",
    "\n",
    "We are not using any dynamic correlation in this case, which can be further covered by DSRG-MRPT2 in Forte. "
   ]
  },
  {
   "cell_type": "code",
   "execution_count": null,
   "metadata": {},
   "outputs": [],
   "source": []
  }
 ],
 "metadata": {
  "kernelspec": {
   "display_name": "Python 3",
   "language": "python",
   "name": "python3"
  },
  "language_info": {
   "codemirror_mode": {
    "name": "ipython",
    "version": 3
   },
   "file_extension": ".py",
   "mimetype": "text/x-python",
   "name": "python",
   "nbconvert_exporter": "python",
   "pygments_lexer": "ipython3",
   "version": "3.7.9"
  }
 },
 "nbformat": 4,
 "nbformat_minor": 4
}
