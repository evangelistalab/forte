{
 "cells": [
  {
   "cell_type": "code",
   "execution_count": 1,
   "metadata": {},
   "outputs": [],
   "source": [
    "import psi4\n",
    "import pyscf"
   ]
  },
  {
   "cell_type": "code",
   "execution_count": 5,
   "metadata": {},
   "outputs": [],
   "source": [
    "def _convert_molecule_to_pyscf(molecule, basis):\n",
    "    \"\"\"\n",
    "    Convert a psi4.core.Molecule object to a pyscf.gto.Mole object\n",
    "\n",
    "    Parameters\n",
    "    ----------\n",
    "    molecule: psi4.core.Molecule\n",
    "        The molecule to convert\n",
    "    basis: str\n",
    "        The basis set to use, as psi4.core.Molecule does not store the basis set\n",
    "\n",
    "    Returns\n",
    "    -------\n",
    "    pyscf.gto.Mole\n",
    "        The converted molecule\n",
    "    \"\"\"\n",
    "    # Convert the geometry to a string\n",
    "    geom = molecule.to_string('xyz').splitlines()[2:]\n",
    "    # Convert the geometry string to a pyscf.gto.Mole object\n",
    "    mol = pyscf.gto.Mole()\n",
    "    mol.atom = geom\n",
    "    mol.basis = basis\n",
    "    mol.charge = molecule.molecular_charge()\n",
    "    mol.spin = molecule.multiplicity() - 1\n",
    "    mol.symmetry = molecule.point_group().symbol()\n",
    "    mol.build()\n",
    "    return mol"
   ]
  },
  {
   "cell_type": "code",
   "execution_count": 6,
   "metadata": {},
   "outputs": [],
   "source": [
    "mol = psi4.geometry(\"\"\"\n",
    "0 1\n",
    "O 0.000000000000     0.000000000000    -0.119748000000\n",
    "H 0.000000000000    -0.761561000000     0.476992000000\n",
    "H 0.000000000000     0.761561000000     0.476992000000\n",
    "units bohr\n",
    "symmetry c1\n",
    "\"\"\")"
   ]
  },
  {
   "cell_type": "code",
   "execution_count": 8,
   "metadata": {},
   "outputs": [],
   "source": [
    "mol_pyscf = _convert_molecule_to_pyscf(mol, 'sto-3g')"
   ]
  },
  {
   "cell_type": "code",
   "execution_count": 10,
   "metadata": {},
   "outputs": [
    {
     "name": "stdout",
     "output_type": "stream",
     "text": [
      "converged SCF energy = -73.2840609988421\n"
     ]
    },
    {
     "data": {
      "text/plain": [
       "-73.28406099884214"
      ]
     },
     "execution_count": 10,
     "metadata": {},
     "output_type": "execute_result"
    }
   ],
   "source": [
    "mf = pyscf.scf.RHF(mol_pyscf)\n",
    "mf.kernel()"
   ]
  },
  {
   "cell_type": "code",
   "execution_count": 24,
   "metadata": {},
   "outputs": [
    {
     "name": "stdout",
     "output_type": "stream",
     "text": [
      "3\n",
      "0 1 H2O\n",
      "O                     0.000000000000     0.000000000000    -0.035340613958\n",
      "H                     0.000000000000    -0.403000725735     0.280440594737\n",
      "H                     0.000000000000     0.403000725735     0.280440594737\n",
      "\n"
     ]
    }
   ],
   "source": [
    "print(mol.to_string('xyz'))"
   ]
  },
  {
   "cell_type": "code",
   "execution_count": null,
   "metadata": {},
   "outputs": [],
   "source": []
  }
 ],
 "metadata": {
  "kernelspec": {
   "display_name": "forte",
   "language": "python",
   "name": "python3"
  },
  "language_info": {
   "codemirror_mode": {
    "name": "ipython",
    "version": 3
   },
   "file_extension": ".py",
   "mimetype": "text/x-python",
   "name": "python",
   "nbconvert_exporter": "python",
   "pygments_lexer": "ipython3",
   "version": "3.9.18"
  }
 },
 "nbformat": 4,
 "nbformat_minor": 2
}
