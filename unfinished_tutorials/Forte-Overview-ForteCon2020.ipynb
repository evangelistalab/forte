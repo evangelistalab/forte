{
 "cells": [
  {
   "cell_type": "markdown",
   "metadata": {
    "slideshow": {
     "slide_type": "slide"
    }
   },
   "source": [
    "# ForteCon2020 | Overview of Forte\n",
    "\n",
    "Forte is an open-source suite of multiference quantum chemistry methods."
   ]
  },
  {
   "cell_type": "markdown",
   "metadata": {
    "slideshow": {
     "slide_type": "slide"
    }
   },
   "source": [
    "## Structure of the Forte folder\n",
    "\n",
    "- In the beginning: Forte was a psi4 plugin.\n",
    "- In recent years: Forte is a C++ library with a python API (i.e., there is no `main()` function). We still need psi4 (even to compile), but we can now run Forte without using integrals/MOs from psi4."
   ]
  },
  {
   "cell_type": "markdown",
   "metadata": {
    "slideshow": {
     "slide_type": "slide"
    }
   },
   "source": [
    "Some of the most important folders in forte:\n",
    "1. `src` folder contains all C++ source code and python API    \n",
    "1. `tests` folder contains test cases for each theoretical method. Since the manual is not complete, please check the corresponding test cases.\n",
    "1. `docs` folder contains the manual in sphinx format \n",
    "1. `tutorials` folder contains Jupyter notebooks that cover some aspects of Forte\n",
    "1. `proc` a new folder that contains python procedures\n",
    "1. `utils` holds a copy of fortecubeview. Intended to be a repository of Jupyter widgets"
   ]
  },
  {
   "cell_type": "markdown",
   "metadata": {
    "slideshow": {
     "slide_type": "slide"
    }
   },
   "source": [
    "## C++ base classes\n",
    "\n",
    "Forte is built on few base classes that can be (mostly) found in the folder `src/base_classes`. These include"
   ]
  },
  {
   "cell_type": "markdown",
   "metadata": {
    "slideshow": {
     "slide_type": "slide"
    }
   },
   "source": [
    "### Classes that store information about computations \n",
    "- `MOSpaceInfo`: this class is responsible storing all information about orbital spaces and symmetry.\n",
    "- `ForteOptions`: Forte's options class. All information is contained in a python dictionary.\n",
    "- `SCFInfo`: stores the essential information from SCF computations (occupation, ref. energy, orbital energies).\n",
    "- `StateInfo`: this class stores.\n",
    "- `RDMs`: store information about the 1-,2-,3-RDMs."
   ]
  },
  {
   "cell_type": "markdown",
   "metadata": {
    "slideshow": {
     "slide_type": "slide"
    }
   },
   "source": [
    "<img src='BaseClasses.png'>"
   ]
  },
  {
   "cell_type": "markdown",
   "metadata": {
    "slideshow": {
     "slide_type": "slide"
    }
   },
   "source": [
    "### Classes that implement basic functionality\n",
    "- `ActiveSpaceSolver`: this class controls solvers for few electrons in a small active space. This class knows how to do state averaging and is the main interface for getting RDMs."
   ]
  },
  {
   "cell_type": "markdown",
   "metadata": {
    "slideshow": {
     "slide_type": "slide"
    }
   },
   "source": [
    "<img src='ActiveSpace.png'>"
   ]
  },
  {
   "cell_type": "markdown",
   "metadata": {
    "slideshow": {
     "slide_type": "slide"
    }
   },
   "source": [
    "### Abstract classes\n",
    "- `ForteIntegrals`: this class has its own folder (`src/integrals`) and it provides a common interface for all specialized integral types (conventional, DF, CD, FCIDUMP, etc.)\n",
    "- `ActiveSpaceMethod`: this (abstract) class provides an interface to FCI, ACI, DMRG,... .\n",
    "- `DynamicCorrelationSolver`: this is the interface class (an abstract class) for all methods that solve for dynamical correlation.\n",
    "- `OrbitalTransform`: this is the interface for all classes that modify the orbitals (localization, etc.)."
   ]
  },
  {
   "cell_type": "markdown",
   "metadata": {
    "slideshow": {
     "slide_type": "slide"
    }
   },
   "source": [
    "## Code flow\n",
    "\n",
    "<img src='CodeFlow.png'>"
   ]
  },
  {
   "cell_type": "markdown",
   "metadata": {
    "slideshow": {
     "slide_type": "slide"
    }
   },
   "source": [
    "## What's new in Forte (2020)\n",
    "\n",
    "Here are some of the most important new features implemented in Forte this year\n",
    "- Active-space embedding theory [ASET(0)], a frozen-core embedding formalism (Nan).\n",
    "- PAO virtual orbitals (Nan).\n",
    "- Cleaned up selected CI codes (Francesco).\n",
    "- New option class design based on Python dict (Francesco).\n",
    "- Spin-adapted DSRG methods (York).\n",
    "- CubeFile class, pythreejs renderer, and MO visualization (Francesco).\n",
    "- CASSCF cleanup and new MCSCF code (York)."
   ]
  },
  {
   "cell_type": "markdown",
   "metadata": {
    "slideshow": {
     "slide_type": "slide"
    }
   },
   "source": [
    "- Options passing fix (Nick).\n",
    "- Disk-based DSRG implmentations (York).\n",
    "- Forte can now read integrals from FCIDUMP files. All methods can run from a FCIDUMP file (Francesco).\n",
    "- Add internal symmetry class (Francesco).\n",
    "- Enable finite difference computations (Francesco).\n",
    "- Add GAS spaces to MOSpaceInfo and GASCI/SCF (Meng).\n",
    "- Symmetry support in AVAS (York)."
   ]
  },
  {
   "cell_type": "markdown",
   "metadata": {
    "slideshow": {
     "slide_type": "slide"
    }
   },
   "source": [
    "## Planning\n",
    "\n",
    "What do we want to achieve in 2021?\n",
    "- [ ] \n",
    "- [ ] Distribute forte as a conda package (+++)\n",
    "- [ ] Update instructions on how to compile forte using conda binaries (++)\n",
    "- [ ] More tutorials on methods (++) [run FCI, basic tutorials, how-to]\n",
    "- [ ] 'forte.forte.StateInfo' issue on (+++!)\n",
    "- [ ] Release? (+)\n",
    "- [ ] DMRG implementation (at the very least re-enable CheMPS2) (+++)\n",
    "- [ ]"
   ]
  },
  {
   "cell_type": "markdown",
   "metadata": {
    "slideshow": {
     "slide_type": "slide"
    }
   },
   "source": [
    "## Questions\n",
    "\n",
    "- [ ] Does fortecubeview belong in Forte or should it be distributed only separately?"
   ]
  },
  {
   "cell_type": "code",
   "execution_count": null,
   "metadata": {},
   "outputs": [],
   "source": []
  }
 ],
 "metadata": {
  "celltoolbar": "Slideshow",
  "kernelspec": {
   "display_name": "Python 3",
   "language": "python",
   "name": "python3"
  },
  "language_info": {
   "codemirror_mode": {
    "name": "ipython",
    "version": 3
   },
   "file_extension": ".py",
   "mimetype": "text/x-python",
   "name": "python",
   "nbconvert_exporter": "python",
   "pygments_lexer": "ipython3",
   "version": "3.7.6"
  }
 },
 "nbformat": 4,
 "nbformat_minor": 4
}
