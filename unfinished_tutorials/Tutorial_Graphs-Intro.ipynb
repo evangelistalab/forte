{
 "cells": [
  {
   "cell_type": "markdown",
   "id": "4ecbcc45-ff2f-4c48-a189-effc358731b3",
   "metadata": {
    "slideshow": {
     "slide_type": "slide"
    }
   },
   "source": [
    "# Redesigning the way we run Forte computations\n",
    "\n",
    "What are common models for running computations?"
   ]
  },
  {
   "cell_type": "markdown",
   "id": "5a46195e-4d22-46e0-b2e1-9463d109b923",
   "metadata": {
    "slideshow": {
     "slide_type": "slide"
    }
   },
   "source": [
    "### Gaussian\n",
    "A simple optimization in Gaussian\n",
    "```\n",
    "# test rhf/STO-3G opt !<- computational level specified here\n",
    "\n",
    "CO sto-3g\n",
    "\n",
    "0 1 \n",
    "C\n",
    "O 1 R\n",
    "\n",
    "R 0.955\n",
    "```"
   ]
  },
  {
   "cell_type": "markdown",
   "id": "be5477c6",
   "metadata": {
    "slideshow": {
     "slide_type": "slide"
    }
   },
   "source": [
    "### Psi3\n",
    "Psi3 used input parsing technology\n",
    "```\n",
    "psi: (\n",
    "  label        = \"CH2 RHF-CCSD(T)\"\n",
    "  jobtype      = sp\n",
    "  wfn          = psimrcc\n",
    "  reference    = rhf \n",
    "  docc         = (2 0 1 1)\n",
    "  convergence  =   14\n",
    "  basis        = cc-pVDZ\n",
    "  zmat =\n",
    "  (\n",
    "    C\n",
    "    H 1 1.12\n",
    "    H 1 1.12 2 152.7\n",
    "  )\n",
    ")\n",
    "\n",
    "mrcc:(\n",
    "  corr_wfn      = ccsd_t\n",
    "  corr_docc     = (2 0 1 1)\n",
    ")\n",
    "```"
   ]
  },
  {
   "cell_type": "markdown",
   "id": "95b98a0e-eab3-48fa-9156-18cf1c36f1d8",
   "metadata": {
    "slideshow": {
     "slide_type": "slide"
    }
   },
   "source": [
    "### Psi4 (psithon)\n",
    "A simple optimization in psi4\n",
    "```\n",
    "molecule CO {\n",
    "0 1 \n",
    "C\n",
    "O 1 R\n",
    "\n",
    "R = 0.955\n",
    "}\n",
    "\n",
    "optimize('scf/sto-3g')\n",
    "```"
   ]
  },
  {
   "cell_type": "markdown",
   "id": "02900e80-fd19-4021-b0ad-d10c4d866429",
   "metadata": {
    "slideshow": {
     "slide_type": "slide"
    }
   },
   "source": [
    "### Psi4 (python API)\n",
    "Same as previous example, but via python (e.g., `>>> python input.py`)\n",
    "```python\n",
    "import psi4\n",
    "\n",
    "CO = psi4.geometry(\"\"\"\n",
    "0 1\n",
    "C\n",
    "O 1 R\n",
    "R = 0.955\n",
    "\"\"\")\n",
    "\n",
    "psi4.optimize('scf/sto-3g',molecule=CO)\n",
    "```"
   ]
  },
  {
   "cell_type": "markdown",
   "id": "8bcb926c",
   "metadata": {
    "slideshow": {
     "slide_type": "slide"
    }
   },
   "source": [
    "### Pyscf (python API)\n",
    "```python\n",
    "import pyscf\n",
    "\n",
    "mol = pyscf.M(\n",
    "    atom = 'H 0 0 0; F 0 0 1.1',  # in Angstrom\n",
    "    basis = 'ccpvdz',\n",
    "    symmetry = True,\n",
    ")\n",
    "\n",
    "myhf = mol.HF()\n",
    "myhf.kernel()\n",
    "\n",
    "# Orbital energies, Mulliken population etc.\n",
    "myhf.analyze()\n",
    "```\n"
   ]
  },
  {
   "cell_type": "markdown",
   "id": "247e4ca8",
   "metadata": {
    "slideshow": {
     "slide_type": "slide"
    }
   },
   "source": [
    "### How does Forte currently work?\n",
    "\n",
    "\n",
    "```python\n",
    "def run_forte(name, **kwargs):\n",
    "    # Code to prepare Forte objects: ref_wfn, state_weights_map, mo_space_info, scf_info, fcidump \n",
    "\n",
    "    # Run a method\n",
    "    job_type = options.get_str('JOB_TYPE')\n",
    "\n",
    "    if job_type == 'NONE':\n",
    "        psi4.core.set_scalar_variable('CURRENT ENERGY', 0.0)\n",
    "        # forte.cleanup()\n",
    "        return ref_wfn\n",
    "\n",
    "    if 'FCIDUMP' in options.get_str('INT_TYPE'):\n",
    "        # Make an integral object from a FCIDUMP file\n",
    "    else:\n",
    "        # Make an integral object from the psi4 wavefunction object\n",
    "\n",
    "    # Rotate orbitals before computation (e.g. localization, MP2 natural orbitals, etc.)\n",
    "    orb_type = options.get_str(\"ORBITAL_TYPE\")\n",
    "    if orb_type != 'CANONICAL':\n",
    "        # ...\n",
    "\n",
    "    # Run a method\n",
    "    energy = 0.0\n",
    "\n",
    "    if (options.get_bool(\"CASSCF_REFERENCE\") or job_type == \"CASSCF\"):\n",
    "        if options.get_str('INT_TYPE') == 'FCIDUMP':\n",
    "            raise Exception('Forte: the CASSCF code cannot use integrals read' ' from a FCIDUMP file')\n",
    "        casscf = forte.make_casscf(state_weights_map, scf_info, options, mo_space_info, ints)\n",
    "        energy = casscf.compute_energy()\n",
    "\n",
    "    if (job_type == \"MCSCF_TWO_STEP\"):\n",
    "        state_map = forte.to_state_nroots_map(state_weights_map)\n",
    "\n",
    "        # create an active space solver object and compute the energy\n",
    "        as_ints = forte.make_active_space_ints(mo_space_info, ints, \"ACTIVE\", [\"RESTRICTED_DOCC\"])\n",
    "\n",
    "        active_space_solver_type = options.get_str('CASSCF_CI_SOLVER')\n",
    "        active_space_solver = forte.make_active_space_solver(\n",
    "            active_space_solver_type, state_map, scf_info, mo_space_info, as_ints, options\n",
    "        )\n",
    "        casscf = forte.make_mcscf_two_step(state_weights_map, options, ints, active_space_solver)\n",
    "        energy, _ = casscf.compute_energy()\n",
    "\n",
    "    if (job_type == 'NEWDRIVER'):\n",
    "        energy = forte_driver(state_weights_map, scf_info, options, ints, mo_space_info)\n",
    "    elif (job_type == 'MR-DSRG-PT2'):\n",
    "        energy = mr_dsrg_pt2(job_type, forte_objects, ints, options)\n",
    "\n",
    "    end = time.time()\n",
    "\n",
    "    psi4.core.set_scalar_variable('CURRENT ENERGY', energy)\n",
    "\n",
    "    psi4.core.print_out(f'\\n\\n  Time to prepare integrals: {start - start_pre_ints:12.3f} seconds')\n",
    "    psi4.core.print_out(f'\\n  Time to run job          : {end - start:12.3f} seconds')\n",
    "    psi4.core.print_out(f'\\n  Total                    : {end - start_pre_ints:12.3f} seconds\\n')\n",
    "\n",
    "    if 'FCIDUMP' not in options.get_str('INT_TYPE'):\n",
    "        if options.get_bool('DUMP_ORBITALS'):\n",
    "            dump_orbitals(ref_wfn)\n",
    "        return ref_wfn\n",
    "\n",
    "```"
   ]
  },
  {
   "cell_type": "markdown",
   "id": "4442de1c",
   "metadata": {
    "slideshow": {
     "slide_type": "slide"
    }
   },
   "source": [
    "### The danger\n",
    "\n",
    "![scratch example](graph/img/timelineforte.png)"
   ]
  },
  {
   "cell_type": "markdown",
   "id": "cfe508f0",
   "metadata": {
    "slideshow": {
     "slide_type": "slide"
    }
   },
   "source": [
    "### The danger\n",
    "\n",
    "![scratch example](graph/img/danger.jpg)"
   ]
  },
  {
   "cell_type": "markdown",
   "id": "e68b0b2c",
   "metadata": {
    "slideshow": {
     "slide_type": "slide"
    }
   },
   "source": [
    "### The danger\n",
    "\n",
    "![scratch example](graph/img/multiverse.png)"
   ]
  },
  {
   "cell_type": "markdown",
   "id": "ecce6128",
   "metadata": {
    "slideshow": {
     "slide_type": "slide"
    }
   },
   "source": [
    "*But what is happening outside of quantum chemistry?*"
   ]
  },
  {
   "cell_type": "markdown",
   "id": "333a7bf6",
   "metadata": {
    "slideshow": {
     "slide_type": "slide"
    }
   },
   "source": [
    "### Scratch\n",
    "Programming for kids\n",
    "\n",
    "![scratch example](graph/img/scratch.png)"
   ]
  },
  {
   "cell_type": "markdown",
   "id": "331a2ecf",
   "metadata": {
    "slideshow": {
     "slide_type": "slide"
    }
   },
   "source": [
    "### Houdini\n",
    "3D graphics\n",
    "\n",
    "![Houdini example](graph/img/houdini.png)"
   ]
  },
  {
   "cell_type": "markdown",
   "id": "117fc92d-62a4-4af2-8fe9-1a949bf3c1b3",
   "metadata": {
    "slideshow": {
     "slide_type": "slide"
    }
   },
   "source": [
    "### Scikit\n",
    "Machine learning frameworks\n",
    "\n",
    "![scikit example](graph/img/scikit.png)"
   ]
  },
  {
   "cell_type": "markdown",
   "id": "dd713bc2",
   "metadata": {
    "slideshow": {
     "slide_type": "slide"
    }
   },
   "source": [
    "### Fast.ai\n",
    "Another machine learning framework\n",
    "\n",
    "```python\n",
    "from fastai.vision.all import *\n",
    "\n",
    "# get images\n",
    "path = untar_data(URLs.PETS)/'images'\n",
    "\n",
    "# label images\n",
    "def is_cat(x): return x[0].isupper()\n",
    "dls = ImageDataLoaders.from_name_func(\n",
    "    path, get_image_files(path), valid_pct=0.2, seed=42,\n",
    "    label_func=is_cat, item_tfms=Resize(224))\n",
    "\n",
    "# optimize a convolutional NN\n",
    "learn = cnn_learner(dls, resnet34, metrics=error_rate)\n",
    "learn.fine_tune(1)\n",
    "```"
   ]
  }
 ],
 "metadata": {
  "celltoolbar": "Slideshow",
  "kernelspec": {
   "display_name": "Python 3 (ipykernel)",
   "language": "python",
   "name": "python3"
  },
  "language_info": {
   "codemirror_mode": {
    "name": "ipython",
    "version": 3
   },
   "file_extension": ".py",
   "mimetype": "text/x-python",
   "name": "python",
   "nbconvert_exporter": "python",
   "pygments_lexer": "ipython3",
   "version": "3.9.7"
  }
 },
 "nbformat": 4,
 "nbformat_minor": 5
}
