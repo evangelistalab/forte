{
 "cells": [
  {
   "cell_type": "markdown",
   "id": "fccbba4c-2fc2-46b7-a985-99595e446de3",
   "metadata": {},
   "source": [
    "# Overview\n",
    "\n",
    "Forte is an open-source suite of state-of-the-art quantum chemistry methods applicable\n",
    "to chemical systems with strongly correlated electrons. The code is written as a plugin\n",
    "to Psi4 in C++ with C++17 functionality, and it takes advantage of shared memory parallelism throughout.\n",
    "\n",
    "## Capabilities\n",
    "In general, Forte is composed of two types of methods:\n",
    "1. Active space solvers\n",
    "1. Dynamical correlation solvers\n",
    "\n",
    "| Active space solvers | Abbreviation |\n",
    "---|---|\n",
    "| Full/complete active space configuration interaction | FCI/CASCI |\n",
    "| Adaptive configuration interaction | ACI |\n",
    "| Projector configuration interaction | PCI |\n",
    "\n",
    "| Dynamical correlation solvers | Abbreviation |\n",
    "---|---|\n",
    "| Driven similarity renormalization group | DSRG |\n",
    "| Second-order DSRG multireference perturbation theory | DSRG-MRPT2 |\n",
    "| Third-order DSRG multireference perturbation theory | DSRG-MRPT3 |\n",
    "| Multireference DSRG with singles and doubles | MR-LDSRG(2) |\n",
    "\n",
    "Note that the active space solvers, notably FCI, ACI, and PCI can operate within the full\n",
    "orbital basis defined by the user-selected basis set.\n",
    "In this case, these methods also recover\n",
    "dynamical correlation.\n",
    "\n",
    "## Dependencies\n",
    "In order to run Forte, the following are required:\n",
    "- A Recent version of Psi4\n",
    "- CMake version 3.0 or higher\n",
    "- The tensor library Ambit"
   ]
  },
  {
   "cell_type": "code",
   "execution_count": null,
   "id": "f118d352-ecd1-4890-ba85-45f96b435054",
   "metadata": {},
   "outputs": [],
   "source": []
  }
 ],
 "metadata": {
  "kernelspec": {
   "display_name": "Python 3",
   "language": "python",
   "name": "python3"
  },
  "language_info": {
   "codemirror_mode": {
    "name": "ipython",
    "version": 3
   },
   "file_extension": ".py",
   "mimetype": "text/x-python",
   "name": "python",
   "nbconvert_exporter": "python",
   "pygments_lexer": "ipython3",
   "version": "3.9.4"
  }
 },
 "nbformat": 4,
 "nbformat_minor": 5
}
