{
 "cells": [
  {
   "cell_type": "markdown",
   "id": "a462b72a-8559-4fc4-a245-3ea58f1e9f25",
   "metadata": {},
   "source": [
    "# Writing Forte's documentation"
   ]
  },
  {
   "cell_type": "markdown",
   "id": "ae4c9172-b467-4b96-86e9-6e2424947412",
   "metadata": {},
   "source": [
    "## Location and structure of Forte's documentation\n",
    "\n",
    "Forte uses sphinx to generate its documentation.\n",
    "The documentation is written in part in sphinx, with some of the content generated from Jupyter notebooks.\n",
    "The documentation is contained in the directory `docs`, which has the following structure:\n",
    "```\n",
    "docs\n",
    "├── notebooks\n",
    "└── source\n",
    "```\n",
    "`source` contains the restructured text files (rst) that are compiled by sphinx. The directory `notebooks` contains Jupyter notebooks that are used to generate some of the rst files.\n",
    "Restructured text file prefixed with `nb_` that live in `source` are generated from jupyter notebooks contained in the `notebooks` directory. \n",
    "\n",
    "Note that the location of these converted jupyter notebooks reflects the relative location in the `notebooks` directory.\n",
    "For example, the file `docs/source/nb_00_overview.rst` is generated from the file `docs/notebooks/nb_00_overview.ipynb`."
   ]
  },
  {
   "cell_type": "markdown",
   "id": "306a91b4-b5c6-4308-9b02-93c5bf064262",
   "metadata": {},
   "source": [
    "## Compiling the documentation\n",
    "\n",
    "To compile the documentation on your local machine, from a terminal change to the `docs` folder and type\n",
    "```bash\n",
    "docs> make html\n",
    "```\n",
    "This command will run sphinx and generate the documentation in the folder `docs/build/html`.\n",
    "The documentation main page can be accessed via web browser using the url `docs/build/html/index.html`"
   ]
  },
  {
   "cell_type": "markdown",
   "id": "4d452222-6145-4fb5-9d5c-d2dd95500e92",
   "metadata": {},
   "source": [
    "## Contributing to the documentation\n",
    "\n",
    "To modify a section of Forte's documentation you should first identify which file to modify. If a `rst` file begins with `nb_`, then you should edit the corresponding jupyter notebook located in `docs/notebooks` or one of its subdirectories.\n",
    "\n",
    "If you modified notebook files, you can update the corresponding rst files using the `update_rst.py` script in the `docs` directory:\n",
    "```bash\n",
    "docs> python update_rst.py \n",
    "```\n",
    "\n",
    "Since Jupyter facilitates the editing and rendering of the documentation, it is recommended to do all edits of  Jupyter documents in Jupyter, and only at the end (for example, before a commit) to convert the content to rst files."
   ]
  }
 ],
 "metadata": {
  "kernelspec": {
   "display_name": "Python 3",
   "language": "python",
   "name": "python3"
  },
  "language_info": {
   "codemirror_mode": {
    "name": "ipython",
    "version": 3
   },
   "file_extension": ".py",
   "mimetype": "text/x-python",
   "name": "python",
   "nbconvert_exporter": "python",
   "pygments_lexer": "ipython3",
   "version": "3.9.4"
  }
 },
 "nbformat": 4,
 "nbformat_minor": 5
}
