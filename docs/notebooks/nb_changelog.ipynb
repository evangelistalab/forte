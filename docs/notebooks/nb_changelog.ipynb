{
 "cells": [
  {
   "cell_type": "markdown",
   "metadata": {},
   "source": [
    "# Changelog\n",
    "\n",
    "## Version 0.4.0\n",
    "This is a major update that introduces several significant changes to the way Forte runs computations.\n",
    "\n",
    "- Enables the Standard Workflow described in the Forte paper\n",
    "- Deprecate old CASSCF code\n",
    "- Renamed all `CASSCF_*` options to `MCSCF_*`. This will require tweaking old input files.\n",
    "- By default, Forte's standard workflow will run an MCSCF computation using the `ACTIVE_SPACE_SOLVER` provided in the input. This can be avoided by setting `MCSCF_REFERENCE` to `False`.\n",
    "- By default, the MCSCF code will combine the `FROZEN_DOCC` with the `RESTRICTED_DOCC` orbitals and optimize them. The user can control this with the keyword `MCSCF_FREEZE_CORE` (set by default to `False`).\n",
    "- After an MCSCF computation, `MCSCF_FREEZE_CORE = FALSE` will mix all inactive orbitals (frozen + restricted doubly occupied) in the semicanonicalization, while `MCSCF_FREEZE_CORE = FALSE` will semicanonicalize them separately.\n",
    "- Fixed printing of NOs which contained a bug (printed wrong orbital index) "
   ]
  },
  {
   "cell_type": "markdown",
   "metadata": {},
   "source": []
  }
 ],
 "metadata": {
  "language_info": {
   "name": "python"
  }
 },
 "nbformat": 4,
 "nbformat_minor": 2
}
