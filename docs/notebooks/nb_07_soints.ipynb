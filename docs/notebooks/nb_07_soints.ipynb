{
 "cells": [
  {
   "cell_type": "markdown",
   "id": "47e14a67-ad61-4cc2-9427-0a215cad43fa",
   "metadata": {},
   "source": [
    "# Reading integrals in a spin orbital basis\n",
    "\n",
    "In this tutorial, you will learn how to read access integrals in a spin orbital basis from python.\n",
    "These integrals can be used in pilot implementations of quantum chemistry methods.\n",
    "By the end of this tutorial you will know how to read the integrals and compute the Hartree-Fock energy.\n",
    "For an implementation of MP2 based on the spin orbital integrals see the file `tests/pytest/helpers/test_spinorbital.py` in the forte directory.\n",
    "\n",
    "Forte assumes that the spin orbital basis $\\{ \\psi_{p} \\}$ is organized as follows\n",
    "\\begin{equation}\n",
    "\\underbrace{\\phi_{0,\\alpha}}_{\\psi_0},\n",
    "\\underbrace{\\phi_{0,\\beta}}_{\\psi_1},\n",
    "\\underbrace{\\phi_{1,\\alpha}}_{\\psi_2},\n",
    "\\underbrace{\\phi_{1,\\beta}}_{\\psi_3},\n",
    "\\ldots\n",
    "\\end{equation}\n",
    "\n",
    "To read the one-electron integrals $h_{pq} = \\langle \\psi_p | \\hat{h} | \\psi_q \\rangle$ we use the function `spinorbital_oei`. This function takes as arguments a `ForteIntegrals` object and two lists of integers, `p` and `q`, that specify the indices of the bra and ket **spatial orbitals**.\n",
    "For example, if we want the integrals over the bra functions $\\psi_0,\\psi_1,\\psi_3$ and ket functions $\\psi_5,\\psi_6$ we can write the following code\n",
    "```python\n",
    "    p = [0,1,3]\n",
    "    q = [5,6]\n",
    "    h = forte.spinorbital_oei(ints, p, q)\n",
    "```\n",
    "\n",
    "To read the two-electron antisymmetrized integrals in physicist notation $\\langle pq \\| rs \\rangle$ we use the function `spinorbital_tei`, passing four list that corresponds to the range of the indices `p`, `q`, `r`, and `s`.\n",
    "\n",
    "\n",
    "```python\n",
    "    p = [0,1]\n",
    "    q = [0,1]\n",
    "    r = [2,3]\n",
    "    s = [2,3]    \n",
    "    v = forte.spinorbital_tei(ints, p, q, r, s)\n",
    "```\n",
    "\n",
    "To compute the SCF energy we evaluate the expression\n",
    "$$\n",
    "E = V_\\mathrm{NN} + \\sum_{i}^\\mathrm{docc} h_{ii} + \\frac{1}{2} \\sum_{ij}^\\mathrm{docc} \\langle ij \\| ij \\rangle\n",
    "$$\n",
    "where $V_\\mathrm{NN}$ is the nuclear repulsion energy. To evaluate this expression we only need the one- and two-electron integral blocks that corresponds to the doubly occupied orbitals.\n",
    "\n",
    "## Preparing the orbitals via the `utils.psi4_scf` helper function\n",
    "\n",
    "To prepare an integral object it is necessary to first run a HF or CASSCF computation.\n",
    "\n",
    "Forte provides helper functions to run these computations using psi4. By default **this function uses conventional integrals**."
   ]
  },
  {
   "cell_type": "code",
   "execution_count": 1,
   "id": "26de2205",
   "metadata": {},
   "outputs": [
    {
     "name": "stdout",
     "output_type": "stream",
     "text": [
      "The SCF energy is -75.98015792193442 [Eh]\n",
      "SCF doubly occupied orbitals per irrep: (3, 0, 1, 1)\n",
      "SCF singly occupied orbitals per irrep: (0, 0, 0, 0)\n"
     ]
    }
   ],
   "source": [
    "import math\n",
    "import numpy as np\n",
    "import forte\n",
    "import forte.utils\n",
    "\n",
    "geom = \"\"\"\n",
    "O\n",
    "H 1 1.0\n",
    "H 1 1.0 2 104.5\n",
    "\"\"\"\n",
    "\n",
    "escf_psi4, wfn = forte.utils.psi4_scf(geom=geom, basis='6-31G', reference='RHF')\n",
    "\n",
    "# grab the orbital occupation\n",
    "doccpi = wfn.doccpi().to_tuple()\n",
    "soccpi = wfn.soccpi().to_tuple()\n",
    "\n",
    "print(f'The SCF energy is {escf_psi4} [Eh]')\n",
    "print(f'SCF doubly occupied orbitals per irrep: {doccpi}')\n",
    "print(f'SCF singly occupied orbitals per irrep: {soccpi}')"
   ]
  },
  {
   "cell_type": "markdown",
   "id": "8e0a8cdd",
   "metadata": {},
   "source": [
    "## Preparing the integral object\n",
    "\n",
    "To prepare the integrals, we use the helper function `utils.prepare_forte_objects`. We pass the psi4 wave function object (`wfn`) and specify the number of doubly occupied orbitals using the SCF occupation from psi4. Virtual orbitals are automatically determined."
   ]
  },
  {
   "cell_type": "code",
   "execution_count": 2,
   "id": "43d6fa26",
   "metadata": {},
   "outputs": [],
   "source": [
    "mo_spaces={'RESTRICTED_DOCC' : doccpi, 'ACTIVE' : soccpi}\n",
    "forte_objects = forte.utils.prepare_forte_objects(wfn,mo_spaces)"
   ]
  },
  {
   "cell_type": "markdown",
   "id": "ecc14f93",
   "metadata": {},
   "source": [
    "The `forte_objects` returned is a dictionary, and we can access the `ForteIntegral` object using the key `ints`. We store this object in the variable `ints`. We will also use the `MOSpaceInfo` object, which is stored with the key `mo_space_info`."
   ]
  },
  {
   "cell_type": "code",
   "execution_count": 3,
   "id": "ac9158c3",
   "metadata": {},
   "outputs": [],
   "source": [
    "ints = forte_objects['ints']\n",
    "mo_space_info = forte_objects['mo_space_info']"
   ]
  },
  {
   "cell_type": "markdown",
   "id": "dc5bbd4b",
   "metadata": {},
   "source": [
    "## Preparing list of doubly occupied orbitals\n",
    "\n",
    "From the `MOSpaceInfo` object we can find the list of doubly occupied orbitals"
   ]
  },
  {
   "cell_type": "code",
   "execution_count": 4,
   "id": "2f735184",
   "metadata": {},
   "outputs": [
    {
     "name": "stdout",
     "output_type": "stream",
     "text": [
      "List of doubly occupied orbitals: [0, 1, 2, 7, 9]\n"
     ]
    }
   ],
   "source": [
    "rdocc = mo_space_info.corr_absolute_mo('RESTRICTED_DOCC')\n",
    "print(f'List of doubly occupied orbitals: {rdocc}')"
   ]
  },
  {
   "cell_type": "markdown",
   "id": "4a25c355",
   "metadata": {},
   "source": [
    "## Preparing the core blocks of the Hamiltonian\n",
    "\n",
    "Here we call the functions that return the integrals in the spin orbital basis. We store those in two variables, `h` and `v`."
   ]
  },
  {
   "cell_type": "code",
   "execution_count": 10,
   "id": "f16a0815",
   "metadata": {},
   "outputs": [
    {
     "name": "stdout",
     "output_type": "stream",
     "text": [
      "[[-32.98   0.    -0.58   0.    -0.19   0.     0.     0.     0.     0.  ]\n",
      " [  0.   -32.98   0.    -0.58   0.    -0.19   0.     0.     0.     0.  ]\n",
      " [ -0.58   0.    -7.78   0.    -0.3    0.     0.     0.     0.     0.  ]\n",
      " [  0.    -0.58   0.    -7.78   0.    -0.3    0.     0.     0.     0.  ]\n",
      " [ -0.19   0.    -0.3    0.    -6.8    0.     0.     0.     0.     0.  ]\n",
      " [  0.    -0.19   0.    -0.3    0.    -6.8    0.     0.     0.     0.  ]\n",
      " [  0.     0.     0.     0.     0.     0.    -7.07   0.     0.     0.  ]\n",
      " [  0.     0.     0.     0.     0.     0.     0.    -7.07   0.     0.  ]\n",
      " [  0.     0.     0.     0.     0.     0.     0.     0.    -6.5    0.  ]\n",
      " [  0.     0.     0.     0.     0.     0.     0.     0.     0.    -6.5 ]]\n"
     ]
    }
   ],
   "source": [
    "h = forte.spinorbital_oei(ints, rdocc, rdocc)\n",
    "v = forte.spinorbital_tei(ints, rdocc, rdocc, rdocc, rdocc)\n",
    "\n",
    "with np.printoptions(precision=2, suppress=True):\n",
    "    print(h)"
   ]
  },
  {
   "cell_type": "markdown",
   "id": "bb3fa6a3",
   "metadata": {},
   "source": [
    "## Evaluating the energy expression\n",
    "\n",
    "Here we add the three contributions to the energy and check the SCF energy computed with psi4 and the one recomputed here"
   ]
  },
  {
   "cell_type": "code",
   "execution_count": 13,
   "id": "65b3f97c",
   "metadata": {},
   "outputs": [
    {
     "name": "stdout",
     "output_type": "stream",
     "text": [
      "The SCF energy is -75.98015792193442 [Eh] (psi4)\n",
      "The SCF energy is -75.98015792193439 [Eh] (spin orbital integrals)\n",
      "The difference is -2.842170943040401e-14 [Eh]\n"
     ]
    }
   ],
   "source": [
    "escf = ints.nuclear_repulsion_energy()\n",
    "escf += np.einsum('ii->', h)\n",
    "escf += 0.5 * np.einsum('ijij->', v)\n",
    "\n",
    "print(f'The SCF energy is {escf_psi4} [Eh] (psi4)')\n",
    "print(f'The SCF energy is {escf} [Eh] (spin orbital integrals)')\n",
    "print(f'The difference is {escf_psi4 - escf} [Eh]')\n",
    "assert math.isclose(escf, escf_psi4)"
   ]
  }
 ],
 "metadata": {
  "kernelspec": {
   "display_name": "Python 3 (ipykernel)",
   "language": "python",
   "name": "python3"
  },
  "language_info": {
   "codemirror_mode": {
    "name": "ipython",
    "version": 3
   },
   "file_extension": ".py",
   "mimetype": "text/x-python",
   "name": "python",
   "nbconvert_exporter": "python",
   "pygments_lexer": "ipython3",
   "version": "3.9.7"
  }
 },
 "nbformat": 4,
 "nbformat_minor": 5
}
